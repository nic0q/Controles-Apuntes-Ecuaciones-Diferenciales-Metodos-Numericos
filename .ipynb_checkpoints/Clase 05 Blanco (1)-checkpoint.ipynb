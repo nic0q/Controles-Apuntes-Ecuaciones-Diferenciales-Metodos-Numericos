{
 "cells": [
  {
   "cell_type": "code",
   "execution_count": 5,
   "metadata": {},
   "outputs": [],
   "source": [
    "from matplotlib import pyplot as plt\n",
    "import numpy as np"
   ]
  },
  {
   "cell_type": "markdown",
   "metadata": {},
   "source": [
    "## Método de Euler Mejorado o método de Heun o RK2\n",
    "\n",
    "Corresponde a modificación del método de Euler y se consigue integrando la ecuación diferencial\n",
    "$y'=f(x,y)$ entre $x_i$ y $x_{i+1}$:\n",
    "\n",
    "$$  \\int_{x_i}^{x_{i+1}} y'(x) dx = \\int_{x_i}^{x_{i+1}} f(x,y(x)) dx $$\n",
    "\n",
    "donde la integral de la izquierda se puede integrar directamente y la de la derecha aproximar mediante la regla del trapecio\n",
    "\n",
    "$$ y(x_{i+1})-y(x_{i}) = \\frac{h}{2} \\left[ f(x_i , y(x_i)) + f(x_{i+1}, y(x_{i+1})) \\right] $$\n",
    "\n",
    "Despejando \n",
    "\n",
    "$$ y(x_{i+1}) = y(x_{i})+\\frac{h}{2} \\left[ f(x_i , y(x_i)) + f(x_{i+1}, y(x_{i+1})) \\right] $$\n",
    "\n",
    "es decir,\n",
    "\n",
    "$$ y_{i+1} = y_i+\\frac{h}{2} \\left[ f(x_i , y_i) + f(x_{i+1}, y_i +h f(x_i,y_i)) \\right] $$\n",
    "\n"
   ]
  },
  {
   "cell_type": "markdown",
   "metadata": {},
   "source": [
    "## Algoritmo\n",
    "\n",
    "Para el problema \n",
    "$$ y'=f(x,y) \\quad ; \\quad y(x_0)=y_0 $$\n",
    "\n",
    "el algoritmo asociado al método de Euler está dado por:\n",
    "    \n",
    "Para $i=0,1, ... , n-1$ realizar <br>\n",
    "*    $ x_i = x_0+ih $ <br>\n",
    "*    $y_{i+1}^*= y_i +h f(x_i , y_i) $ <br>\n",
    "*    $y_{i+1} = y_i + \\dfrac{h}{2} \\left[ f(x_i , y_i) + f(x_{i+1}, y_{i+1}^*) \\right] $ <br>\n",
    "\n",
    "Fin"
   ]
  },
  {
   "cell_type": "markdown",
   "metadata": {},
   "source": [
    "## Ejercicio:\n",
    "\n",
    "* a)  Elabore una función en Python que permita encontrar una aproximación de $y(x_n)$ utilizando el método de Euler mejorado, para el problema de valores iniciales general\n",
    "\n",
    "$$ y'(x)=f(x,y) \\quad , \\quad y(x_0)=y_0$$\n",
    "\n",
    "dados los datos de entrada $f(x,y), x_0, x_n, y_0, n$ (o $h$ en su defecto)\n",
    "\n",
    "* b) Utilice el método de Euler mejorado para el problema de valores iniciales:\n",
    "\n",
    "$$ y' = 0,2xy \\quad ; \\quad y(0) = 1$$\n",
    "\n",
    "en el intervalo $[0, 4]$ usando h = 1, para aproximar $y(4)$.\n",
    "\n",
    "* c) La solución explícita al PVI está dada por $y=e^{0,1x^2}$ (verifíquelo en otra ocasión). En un mismo gráfico grafique la solución real, junto con las aproximaciones encontradas con este método. A partir de los resultados del gráfico, determine si la aproximación encontrada es una buena aproximación. \n",
    "\n",
    "* d) Calcule el error cometido y compruebe si la respuesta dada en el item anterior es aceptable."
   ]
  },
  {
   "cell_type": "code",
   "execution_count": null,
   "metadata": {},
   "outputs": [],
   "source": []
  },
  {
   "cell_type": "markdown",
   "metadata": {},
   "source": [
    "## Método de Runge Kutta de orden 4 (RK4)\n",
    "\n",
    "\n",
    "Para el problema \n",
    "$$ y'=f(x,y) \\quad ; \\quad y(x_0)=y_0 $$\n",
    "\n",
    "el algoritmo asociado al método RK4 está dado por:\n",
    "    \n",
    "Para $i=0,1, ... , n-1$ realizar <br>\n",
    "\n",
    "*    $ x_i = x_0+ih $ <br>\n",
    "\n",
    "*    $ K_1 = f(x_i,y_i) $ <br>\n",
    "\n",
    "*    $ K_2 = f\\left( x_i + \\dfrac{h}{2} , y_i + \\dfrac{h}{2} K_1 \\right) $ <br>\n",
    "\n",
    "*    $ K_3 = f\\left( x_i + \\dfrac{h}{2} , y_i + \\dfrac{h}{2} K_2 \\right) $ <br>\n",
    "\n",
    "*    $ K_4 = f\\left( x_i + h , y_i + h K_3 \\right) $ <br>\n",
    "\n",
    "*    $y_{i+1} = y_i + \\dfrac{h}{6} \\left[ K_1 + 2K_2 + 2K_3 + K_4 \\right] $ <br>\n",
    "\n",
    "Fin"
   ]
  },
  {
   "cell_type": "markdown",
   "metadata": {},
   "source": [
    "## Ejercicio:\n",
    "\n",
    "* a)  Elabore una función en Python que permita encontrar una aproximación de $y(x_n)$ utilizando el método de RK4 para el problema de valores iniciales general\n",
    "\n",
    "$$ y'(x)=f(x,y) \\quad , \\quad y(x_0)=y_0$$\n",
    "\n",
    "dados los datos de entrada $f(x,y), x_0, x_n, y_0, n$ (o $h$ en su defecto)\n",
    "\n",
    "* b) Utilice el método de Euler mejorado para el problema de valores iniciales:\n",
    "\n",
    "$$ y' = 0,2xy \\quad ; \\quad y(0) = 1$$\n",
    "\n",
    "en el intervalo $[0, 4]$ usando h = 1, para aproximar $y(4)$.\n",
    "\n",
    "* c) La solución explícita al PVI está dada por $y=e^{0,1x^2}$ (verifíquelo en otra ocasión). En un mismo gráfico grafique la solución real, junto con las aproximaciones encontradas con este método. A partir de los resultados del gráfico, determine si la aproximación encontrada es una buena aproximación. \n",
    "\n",
    "* d) Calcule el error cometido y compruebe si la respuesta dada en el item anterior es aceptable."
   ]
  },
  {
   "cell_type": "code",
   "execution_count": null,
   "metadata": {},
   "outputs": [],
   "source": []
  },
  {
   "cell_type": "markdown",
   "metadata": {},
   "source": [
    "## Ejercicios adicionales\n",
    "\n",
    "a) Utilice los métodos de Euler,  Euler mejorado y Runge Kutta para aproximar $y(0,5)$, donde $y(x)$ es la solución del PVI\n",
    "\n",
    "$$ y' = x\\sin y  \\quad ; \\quad y(0) = 1.$$\n",
    "\n",
    "Para ello utilice:\n",
    "    * $h = 0,25$ \n",
    "    * $h= 0,1 $\n",
    "    \n",
    "b) Encuentre la solución explícita al PVI.\n",
    "\n",
    "c) Grafique en un mismo plano, la solución explícita y cada una de las aproximaciones encontradas. Establezca a partir de éste, cuál de las tres aproximaciones es mejor.\n",
    "\n",
    "d) Identifique, a partir del gráfico, cuál de los tres métodos tiene un error global más grande.\n",
    "\n",
    "e) Calcule el error absoluto en cada método y concluya en base a estos resultados cuál es la mejor aproximación.\n",
    "\n",
    "f) Repita el proceso (a)-(e) con los PVI\n",
    "\n",
    "   * $ y' = 1+(x-y)^2 \\quad ; \\quad y(2)=1 $\n",
    "   * $ y' - \\dfrac{y}{x} = 1 \\quad ; \\quad y(1)=2 $"
   ]
  },
  {
   "cell_type": "code",
   "execution_count": null,
   "metadata": {},
   "outputs": [],
   "source": []
  }
 ],
 "metadata": {
  "kernelspec": {
   "display_name": "Python 3",
   "language": "python",
   "name": "python3"
  },
  "language_info": {
   "codemirror_mode": {
    "name": "ipython",
    "version": 3
   },
   "file_extension": ".py",
   "mimetype": "text/x-python",
   "name": "python",
   "nbconvert_exporter": "python",
   "pygments_lexer": "ipython3",
   "version": "3.8.8"
  }
 },
 "nbformat": 4,
 "nbformat_minor": 4
}
