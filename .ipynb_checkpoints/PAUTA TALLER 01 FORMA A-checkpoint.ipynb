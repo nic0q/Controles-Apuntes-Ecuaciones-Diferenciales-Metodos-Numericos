{
 "cells": [
  {
   "cell_type": "code",
   "execution_count": 3,
   "metadata": {},
   "outputs": [],
   "source": [
    "from matplotlib import pyplot as plt\n",
    "import numpy as np"
   ]
  },
  {
   "cell_type": "markdown",
   "metadata": {},
   "source": [
    "# PREGUNTA 02\n",
    "\n",
    "# Considere el PVI dado por $y'-\\dfrac{y}{x}=1$, $y(1)=2$.\n",
    "\n",
    "## a) Determine una aproximación de $y(10)$ utilizando el método de Euler Mejorado considerando $h=0,2$:\n",
    "    \n",
    "   ### Respuesta: \n",
    "   Escribimos el código del método de Euler Mejorado:\n",
    "   "
   ]
  },
  {
   "cell_type": "code",
   "execution_count": 4,
   "metadata": {},
   "outputs": [],
   "source": [
    "def metodo_euler_mejorado(f, x0, xn, y0, n): \n",
    "    X = np.linspace(x0,xn,n+1)         \n",
    "    Y = np.linspace(x0,xn,n+1)                 \n",
    "    Y[0] = y0      \n",
    "    h = (xn-x0)/n      \n",
    "    for i in range(n):\n",
    "        Y[i+1] = Y[i] + (h/2)*(f(X[i],Y[i])+f(X[i+1],Y[i]+h*f(X[i],Y[i])))   \n",
    "        print(X[i+1], Y[i+1])\n",
    "    #para graficar\n",
    "    ret = dict()\n",
    "    ret['x'] = X\n",
    "    ret['y'] = Y\n",
    "        \n",
    "    return ret"
   ]
  },
  {
   "cell_type": "markdown",
   "metadata": {},
   "source": [
    "Luego definimos la función, para ello la dejamos en su forma $y'=1+\\dfrac{y}{x}$, de modo que $f(x,y)=1+\\dfrac{y}{x}$. \n",
    "\n",
    "Por otra parte, puesto que nuestro código requiere el número de iteraciones y disponemos de $h$, calculamos la cantidad de iteraciones según la fórmula:\n",
    "$$ n = \\frac{x_n-x_0}{h} = \\frac{10-1}{0,2} = 45  $$"
   ]
  },
  {
   "cell_type": "code",
   "execution_count": 5,
   "metadata": {},
   "outputs": [
    {
     "name": "stdout",
     "output_type": "stream",
     "text": [
      "1.2 2.6166666666666667\n",
      "1.4 3.2670634920634924\n",
      "1.6 3.946286848072563\n",
      "1.8 4.650683815192744\n",
      "2.0 5.377426461325271\n",
      "2.2 6.124260016548707\n",
      "2.4000000000000004 6.889344260477377\n",
      "2.6 7.6711485898761325\n",
      "2.8 8.468379800086385\n",
      "3.0 9.279930738187794\n",
      "3.2 10.104842787400313\n",
      "3.4000000000000004 10.942277814554009\n",
      "3.6 11.791496770965683\n",
      "3.8000000000000003 12.651843082802957\n",
      "4.0 13.522729560845217\n",
      "4.2 14.403627943649383\n",
      "4.4 15.294060443130522\n",
      "4.6 16.19359283481432\n",
      "4.800000000000001 17.10182875516857\n",
      "5.0 18.018404953300593\n",
      "5.2 18.94298730527877\n",
      "5.4 19.875267443800887\n",
      "5.6000000000000005 20.814959888809383\n",
      "5.800000000000001 21.76179958927179\n",
      "6.0 22.715539804993803\n",
      "6.2 23.675950271611875\n",
      "6.4 24.642815602954194\n",
      "6.6000000000000005 25.615933893576816\n",
      "6.800000000000001 26.595115491064885\n",
      "7.0 27.580181913070994\n",
      "7.2 28.570964888365086\n",
      "7.4 29.567305504633485\n",
      "7.6000000000000005 30.569053448570948\n",
      "7.800000000000001 31.576066326097443\n",
      "8.0 32.588209052407635\n",
      "8.2 33.60535330310807\n",
      "8.4 34.62737701897946\n",
      "8.600000000000001 35.65416395796956\n",
      "8.8 36.685603288916\n",
      "9.0 37.721589222249946\n",
      "9.200000000000001 38.762020673565644\n",
      "9.4 39.8068009564785\n",
      "9.6 40.8558375016518\n",
      "9.8 41.90904159926274\n",
      "10.0 42.966328162513\n",
      "1.2 2.6166666666666667\n",
      "1.4 3.2670634920634924\n",
      "1.6 3.946286848072563\n",
      "1.8 4.650683815192744\n",
      "2.0 5.377426461325271\n",
      "2.2 6.124260016548707\n",
      "2.4000000000000004 6.889344260477377\n",
      "2.6 7.6711485898761325\n",
      "2.8 8.468379800086385\n",
      "3.0 9.279930738187794\n",
      "3.2 10.104842787400313\n",
      "3.4000000000000004 10.942277814554009\n",
      "3.6 11.791496770965683\n",
      "3.8000000000000003 12.651843082802957\n",
      "4.0 13.522729560845217\n",
      "4.2 14.403627943649383\n",
      "4.4 15.294060443130522\n",
      "4.6 16.19359283481432\n",
      "4.800000000000001 17.10182875516857\n",
      "5.0 18.018404953300593\n",
      "5.2 18.94298730527877\n",
      "5.4 19.875267443800887\n",
      "5.6000000000000005 20.814959888809383\n",
      "5.800000000000001 21.76179958927179\n",
      "6.0 22.715539804993803\n",
      "6.2 23.675950271611875\n",
      "6.4 24.642815602954194\n",
      "6.6000000000000005 25.615933893576816\n",
      "6.800000000000001 26.595115491064885\n",
      "7.0 27.580181913070994\n",
      "7.2 28.570964888365086\n",
      "7.4 29.567305504633485\n",
      "7.6000000000000005 30.569053448570948\n",
      "7.800000000000001 31.576066326097443\n",
      "8.0 32.588209052407635\n",
      "8.2 33.60535330310807\n",
      "8.4 34.62737701897946\n",
      "8.600000000000001 35.65416395796956\n",
      "8.8 36.685603288916\n",
      "9.0 37.721589222249946\n",
      "9.200000000000001 38.762020673565644\n",
      "9.4 39.8068009564785\n",
      "9.6 40.8558375016518\n",
      "9.8 41.90904159926274\n",
      "10.0 42.966328162513\n"
     ]
    },
    {
     "data": {
      "text/plain": [
       "{'x': array([ 1. ,  1.2,  1.4,  1.6,  1.8,  2. ,  2.2,  2.4,  2.6,  2.8,  3. ,\n",
       "         3.2,  3.4,  3.6,  3.8,  4. ,  4.2,  4.4,  4.6,  4.8,  5. ,  5.2,\n",
       "         5.4,  5.6,  5.8,  6. ,  6.2,  6.4,  6.6,  6.8,  7. ,  7.2,  7.4,\n",
       "         7.6,  7.8,  8. ,  8.2,  8.4,  8.6,  8.8,  9. ,  9.2,  9.4,  9.6,\n",
       "         9.8, 10. ]),\n",
       " 'y': array([ 2.        ,  2.61666667,  3.26706349,  3.94628685,  4.65068382,\n",
       "         5.37742646,  6.12426002,  6.88934426,  7.67114859,  8.4683798 ,\n",
       "         9.27993074, 10.10484279, 10.94227781, 11.79149677, 12.65184308,\n",
       "        13.52272956, 14.40362794, 15.29406044, 16.19359283, 17.10182876,\n",
       "        18.01840495, 18.94298731, 19.87526744, 20.81495989, 21.76179959,\n",
       "        22.7155398 , 23.67595027, 24.6428156 , 25.61593389, 26.59511549,\n",
       "        27.58018191, 28.57096489, 29.5673055 , 30.56905345, 31.57606633,\n",
       "        32.58820905, 33.6053533 , 34.62737702, 35.65416396, 36.68560329,\n",
       "        37.72158922, 38.76202067, 39.80680096, 40.8558375 , 41.9090416 ,\n",
       "        42.96632816])}"
      ]
     },
     "execution_count": 5,
     "metadata": {},
     "output_type": "execute_result"
    }
   ],
   "source": [
    "def f_1(x,y): return 1+y/x\n",
    "metodo_euler_mejorado(f_1,1,10,2,45)\n",
    "#h  = (xn-x0)/n\n",
    "#0.2 = 9/n\n",
    "#n = 9/0.2 = 45\n",
    "metodo_euler_mejorado(f_1,1,10,2,45)\n"
   ]
  },
  {
   "cell_type": "markdown",
   "metadata": {},
   "source": [
    "Por tanto, una aproximación de $y(10)$ es 42.966328162513"
   ]
  },
  {
   "cell_type": "markdown",
   "metadata": {},
   "source": [
    "## b) Determine una aproximación de $y(10)$ utilizando el método de Runge Kutta de orden 4 considerando $h=0,5$:\n",
    "    \n",
    "   ### Respuesta: \n",
    "   Escribimos el código del método de Runge Kutta de orden 4:\n",
    "   "
   ]
  },
  {
   "cell_type": "code",
   "execution_count": 6,
   "metadata": {},
   "outputs": [],
   "source": [
    "def metodo_RK4(f, x0, xn, y0, n):\n",
    "    X = np.linspace(x0,xn,n+1)\n",
    "    Y = np.linspace(x0,xn,n+1)\n",
    "    Y[0] = y0    \n",
    "    h = (xn-x0)/n\n",
    "    for i in range(n):\n",
    "        K1=f(X[i],Y[i]) \n",
    "        K2=f(X[i]+h/2,Y[i]+(h/2)*K1) \n",
    "        K3=f(X[i]+h/2,Y[i]+(h/2)*K2) \n",
    "        K4=f(X[i]+h,Y[i]+h*K3)\n",
    "        Y[i+1] = Y[i] +(h/6)*(K1+2*K2+2*K3+K4)\n",
    "        print(X[i+1],Y[i+1])\n",
    "    coord = dict()\n",
    "    coord['x'] = X\n",
    "    coord['y'] = Y\n",
    "    return coord"
   ]
  },
  {
   "cell_type": "markdown",
   "metadata": {},
   "source": [
    "calculamos la cantidad de iteraciones para este nuevo escenario:\n",
    "$$ n = \\frac{x_n-x_0}{h} = \\frac{10-1}{0,5} = 18  $$\n",
    "\n",
    "Ahora aplicamos el método a la función definida anteriormente:"
   ]
  },
  {
   "cell_type": "code",
   "execution_count": 7,
   "metadata": {},
   "outputs": [
    {
     "name": "stdout",
     "output_type": "stream",
     "text": [
      "1.5 3.6077777777777778\n",
      "2.0 5.385625472411187\n",
      "2.5 7.289850770555136\n",
      "3.0 9.29476766479472\n",
      "3.5 11.383413783060732\n",
      "4.0 13.543736122439778\n",
      "4.5 15.76672364267875\n",
      "5.0 18.045382379215233\n",
      "5.5 20.374125248484244\n",
      "6.0 22.748385770682283\n",
      "6.5 25.16436150798273\n",
      "7.0 27.618836931316956\n",
      "7.5 30.10905715981608\n",
      "8.0 32.6326355195513\n",
      "8.5 35.18748430162376\n",
      "9.0 37.77176186736331\n",
      "9.5 40.38383154286809\n",
      "10.0 43.02222919019276\n"
     ]
    },
    {
     "data": {
      "text/plain": [
       "{'x': array([ 1. ,  1.5,  2. ,  2.5,  3. ,  3.5,  4. ,  4.5,  5. ,  5.5,  6. ,\n",
       "         6.5,  7. ,  7.5,  8. ,  8.5,  9. ,  9.5, 10. ]),\n",
       " 'y': array([ 2.        ,  3.60777778,  5.38562547,  7.28985077,  9.29476766,\n",
       "        11.38341378, 13.54373612, 15.76672364, 18.04538238, 20.37412525,\n",
       "        22.74838577, 25.16436151, 27.61883693, 30.10905716, 32.63263552,\n",
       "        35.1874843 , 37.77176187, 40.38383154, 43.02222919])}"
      ]
     },
     "execution_count": 7,
     "metadata": {},
     "output_type": "execute_result"
    }
   ],
   "source": [
    "metodo_RK4(f_1,1,10,2,18)"
   ]
  },
  {
   "cell_type": "markdown",
   "metadata": {},
   "source": [
    "Por lo tanto una aproximación para $y(10)$ por este método es 43.02222919019276"
   ]
  },
  {
   "cell_type": "markdown",
   "metadata": {},
   "source": [
    "## c) Encuentre la solución explícita del PVI:\n",
    "    \n",
    "   ### Respuesta (Opción 1): \n",
    "   La ecuación está escrita en su forma estándar, por tanto es fácil identificar el factor integrante, dado por:\n",
    "   $$e^{\\int -\\frac{1}{x}\\, dx}= e^{-\\ln|x|} = \\dfrac{1}{x}.$$\n",
    "   Ahora multiplicamos la ecuación por el factor integrante\n",
    "   $$ \\frac{y'}{x} - \\frac{y}{x^2} = \\frac{1}{x} $$\n",
    "   de donde resulta:\n",
    "   $$\\dfrac{d}{dx}\\left[ \\dfrac{y}{x} \\right]=\\dfrac{1}{x},$$\n",
    "   integrando \n",
    "   $$ \\frac{y}{x} = x\\ln|x|+cx $$\n",
    "   Finalmente, con la condición inicial $y(1)=2$, se sigue que\n",
    "$$ 2 = \\ln|1|+c \\quad \\Rightarrow \\quad c=2, $$\n",
    "por tanto la solución al PVI está dada por\n",
    "$$ y = x \\ln|x| + 2x. $$\n",
    "\n",
    "   ### Respuesta (Opción 2):\n",
    "   \n",
    "   Haciendo la sustitución $z=\\dfrac{y}{x}$ se tiene que $y=xz$, derivando esta última resulta\n",
    "$$ \\frac{dy}{dx} = z + x\\frac{dz}{dx}.  $$\n",
    "Sustituyendo en la EDO original, se obtiene\n",
    "\n",
    "$$ z + x \\frac{dz}{dx} - z = 1,  $$\n",
    "ecuación que es separable. Despejando e integrando resulta\n",
    "\\begin{align*}\n",
    "\\int dz &= \\int \\frac{1}{x} dx \\\\\n",
    "z &= \\ln|x| + c\n",
    "\\end{align*}\n",
    "volviendo a las variables originales resulta\n",
    "$$ \\frac{y}{x} = \\ln|x| + c, $$\n",
    "y por tanto, la solución general corresponde a\n",
    "$$ y = x \\ln|x| + cx. $$\n",
    "\n",
    "Finalmente, con la condición inicial $y(1)=2$, se sigue que\n",
    "$$ 2 = \\ln|1|+c \\quad \\Rightarrow \\quad c=2, $$\n",
    "por tanto la solución al PVI está dada por\n",
    "$$ y = x \\ln|x| + 2x. $$\n"
   ]
  },
  {
   "cell_type": "markdown",
   "metadata": {},
   "source": [
    "## d) Grafique en un mismo plano, la solución explícita y cada una de las aproximaciones encontradas en (a) y (b). Establezca a partir de éste, cuál de las aproximaciones tiene un error global más pequeño:\n",
    "    \n",
    "   ### Respuesta: \n",
    "   Graficamos las aproximaciones junto con la solución explícita del PVI.\n",
    "   "
   ]
  },
  {
   "cell_type": "code",
   "execution_count": 10,
   "metadata": {},
   "outputs": [
    {
     "name": "stdout",
     "output_type": "stream",
     "text": [
      "1.2 2.6166666666666667\n",
      "1.4 3.2670634920634924\n",
      "1.6 3.946286848072563\n",
      "1.8 4.650683815192744\n",
      "2.0 5.377426461325271\n",
      "2.2 6.124260016548707\n",
      "2.4000000000000004 6.889344260477377\n",
      "2.6 7.6711485898761325\n",
      "2.8 8.468379800086385\n",
      "3.0 9.279930738187794\n",
      "3.2 10.104842787400313\n",
      "3.4000000000000004 10.942277814554009\n",
      "3.6 11.791496770965683\n",
      "3.8000000000000003 12.651843082802957\n",
      "4.0 13.522729560845217\n",
      "4.2 14.403627943649383\n",
      "4.4 15.294060443130522\n",
      "4.6 16.19359283481432\n",
      "4.800000000000001 17.10182875516857\n",
      "5.0 18.018404953300593\n",
      "5.2 18.94298730527877\n",
      "5.4 19.875267443800887\n",
      "5.6000000000000005 20.814959888809383\n",
      "5.800000000000001 21.76179958927179\n",
      "6.0 22.715539804993803\n",
      "6.2 23.675950271611875\n",
      "6.4 24.642815602954194\n",
      "6.6000000000000005 25.615933893576816\n",
      "6.800000000000001 26.595115491064885\n",
      "7.0 27.580181913070994\n",
      "7.2 28.570964888365086\n",
      "7.4 29.567305504633485\n",
      "7.6000000000000005 30.569053448570948\n",
      "7.800000000000001 31.576066326097443\n",
      "8.0 32.588209052407635\n",
      "8.2 33.60535330310807\n",
      "8.4 34.62737701897946\n",
      "8.600000000000001 35.65416395796956\n",
      "8.8 36.685603288916\n",
      "9.0 37.721589222249946\n",
      "9.200000000000001 38.762020673565644\n",
      "9.4 39.8068009564785\n",
      "9.6 40.8558375016518\n",
      "9.8 41.90904159926274\n",
      "10.0 42.966328162513\n",
      "1.5 3.6077777777777778\n",
      "2.0 5.385625472411187\n",
      "2.5 7.289850770555136\n",
      "3.0 9.29476766479472\n",
      "3.5 11.383413783060732\n",
      "4.0 13.543736122439778\n",
      "4.5 15.76672364267875\n",
      "5.0 18.045382379215233\n",
      "5.5 20.374125248484244\n",
      "6.0 22.748385770682283\n",
      "6.5 25.16436150798273\n",
      "7.0 27.618836931316956\n",
      "7.5 30.10905715981608\n",
      "8.0 32.6326355195513\n",
      "8.5 35.18748430162376\n",
      "9.0 37.77176186736331\n",
      "9.5 40.38383154286809\n",
      "10.0 43.02222919019276\n"
     ]
    },
    {
     "data": {
      "text/plain": [
       "<matplotlib.legend.Legend at 0x1fa949af4c0>"
      ]
     },
     "execution_count": 10,
     "metadata": {},
     "output_type": "execute_result"
    },
    {
     "data": {
      "image/png": "[encoded data removed]",
      "text/plain": [
       "<Figure size 432x288 with 1 Axes>"
      ]
     },
     "metadata": {
      "needs_background": "light"
     },
     "output_type": "display_data"
    }
   ],
   "source": [
    "solve1 = metodo_euler_mejorado(f_1,1,10,2,45)\n",
    "X1 = solve1['x']\n",
    "Y1= solve1['y'] \n",
    "solve2 = metodo_RK4(f_1,1,10,2,18)\n",
    "X2 = solve2['x']\n",
    "Y2 = solve2['y'] \n",
    "x=np.linspace(1,10,100)\n",
    "y=x*np.log(x)+2*x\n",
    "plt.plot(X1, Y1,linewidth=3, linestyle='-.', color=(0, 0.5 ,0.5), label='método euler' )\n",
    "plt.plot(X2, Y2,linewidth=3, linestyle=':', color=(0.4, 0.9 ,0.5), label='método runge' )\n",
    "plt.plot(x, y,linewidth=1, linestyle='-', color=(0.4, 0.5 ,0.5), label='solución' )\n",
    "plt.grid()\n",
    "plt.legend()"
   ]
  },
  {
   "cell_type": "markdown",
   "metadata": {},
   "source": [
    "Del gráfico no es posible identifricar cuál error global es más pequeño, es necesario hacer un analisis del error. Para ello basta hacer (por ejemplo) una modificación de los códigos de cada método: "
   ]
  },
  {
   "cell_type": "code",
   "execution_count": 10,
   "metadata": {},
   "outputs": [
    {
     "data": {
      "text/plain": [
       "0.059522767427459655"
      ]
     },
     "execution_count": 10,
     "metadata": {},
     "output_type": "execute_result"
    }
   ],
   "source": [
    "def Error_euler(f, y, x0, xn, y0, n): \n",
    "    X = np.linspace(x0,xn,n+1)         \n",
    "    Y = np.linspace(x0,xn,n+1)\n",
    "    E = np.linspace(x0,xn,n+1)\n",
    "    Y[0] = y0      \n",
    "    h = (xn-x0)/n      \n",
    "    for i in range(n):\n",
    "        Y[i+1] = Y[i] + (h/2)*(f(X[i],Y[i])+f(X[i+1],Y[i]+h*f(X[i],Y[i])))   \n",
    "        E[i+1] = np.abs(y(X[i+1])-Y[i+1])\n",
    "    F=E[1::]\n",
    "    return max(F)\n",
    "def y(x): return x*np.log(x)+2*x\n",
    "Error_euler(f_1, y , 1, 10, 2, 45)        "
   ]
  },
  {
   "cell_type": "markdown",
   "metadata": {},
   "source": [
    "A simple vista notamos que el error global corresponde al de la última iteración (y de hecho con el error absoluto), es decir,\n",
    "\n",
    "$$ \\max_{1\\leq i \\leq n} | y_i - y(x_i) | = 0.059522767427459655  $$\n",
    "\n",
    "De forma similar hacemos una modificación de RK4 para calcular el error en cada iteración:"
   ]
  },
  {
   "cell_type": "code",
   "execution_count": 11,
   "metadata": {},
   "outputs": [
    {
     "data": {
      "text/plain": [
       "0.0036217397477003033"
      ]
     },
     "execution_count": 11,
     "metadata": {},
     "output_type": "execute_result"
    }
   ],
   "source": [
    "def Error_RK4(f, y, x0, xn, y0, n):\n",
    "    \n",
    "    X = np.linspace(x0,xn,n+1)\n",
    "    Y = np.linspace(x0,xn,n+1) \n",
    "    E = np.linspace(x0,xn,n+1)\n",
    "    Y[0] = y0        \n",
    "    h = (xn-x0)/n     \n",
    "    \n",
    "    for i in range(n):\n",
    "        K1=f(X[i],Y[i]) \n",
    "        K2=f(X[i]+h/2,Y[i]+(h/2)*K1) \n",
    "        K3=f(X[i]+h/2,Y[i]+(h/2)*K2) \n",
    "        K4=f(X[i]+h,Y[i]+h*K3)\n",
    "        Y[i+1] = Y[i] +(h/6)*(K1+2*K2+2*K3+K4)\n",
    "        E[i+1] = np.abs(y(X[i+1])-Y[i+1])\n",
    "    F=E[1::]\n",
    "    return max(F)\n",
    "        \n",
    "def y(x): return x*np.log(x)+2*x\n",
    "Error_RK4(f_1, y , 1, 10, 2, 18)   "
   ]
  },
  {
   "cell_type": "markdown",
   "metadata": {},
   "source": [
    "Al igual que el caso anterior, se ve a simple vista que el error global corresponde al de la última iteración (y de hecho con el error absoluto), es decir,\n",
    "\n",
    "$$ \\max_{1\\leq i \\leq n} | y_i - y(x_i) | = 0.0036217397477003033  $$\n",
    "\n",
    "Con lo anterior se concluye que el error global más pequeño lo comete el método RK4."
   ]
  },
  {
   "cell_type": "markdown",
   "metadata": {},
   "source": [
    "## e) Calcule el error absoluto cometido en cada una de las aproximaciones y concluya cuál de ellas es una mejor aproximación de $y(10)$:\n",
    "    \n",
    "   ### Respuesta: \n",
    "   Calculamos los errores absolutos para cada aproximación:"
   ]
  },
  {
   "cell_type": "code",
   "execution_count": 12,
   "metadata": {},
   "outputs": [
    {
     "data": {
      "text/plain": [
       "0.059522767427459655"
      ]
     },
     "execution_count": 12,
     "metadata": {},
     "output_type": "execute_result"
    }
   ],
   "source": [
    "Error_Euler_mejorado = np.abs( 10*np.log(10)+20 - Y1[-1])\n",
    "Error_Euler_mejorado "
   ]
  },
  {
   "cell_type": "code",
   "execution_count": 13,
   "metadata": {},
   "outputs": [
    {
     "data": {
      "text/plain": [
       "0.0036217397477003033"
      ]
     },
     "execution_count": 13,
     "metadata": {},
     "output_type": "execute_result"
    }
   ],
   "source": [
    "Error_RK4 = np.abs( 10*np.log(10)+20 - Y2[-1])\n",
    "Error_RK4"
   ]
  },
  {
   "cell_type": "markdown",
   "metadata": {},
   "source": [
    "Así, concluimos que una mejor aproximación es la de RK4, a pesar de tener menos iteraciones."
   ]
  }
 ],
 "metadata": {
  "kernelspec": {
   "display_name": "Python 3 (ipykernel)",
   "language": "python",
   "name": "python3"
  },
  "language_info": {
   "codemirror_mode": {
    "name": "ipython",
    "version": 3
   },
   "file_extension": ".py",
   "mimetype": "text/x-python",
   "name": "python",
   "nbconvert_exporter": "python",
   "pygments_lexer": "ipython3",
   "version": "3.9.7"
  }
 },
 "nbformat": 4,
 "nbformat_minor": 4
}
