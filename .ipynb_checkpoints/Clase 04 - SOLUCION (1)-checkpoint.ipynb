{
 "cells": [
  {
   "cell_type": "code",
   "execution_count": 5,
   "metadata": {},
   "outputs": [],
   "source": [
    "from matplotlib import pyplot as plt\n",
    "import numpy as np"
   ]
  },
  {
   "cell_type": "markdown",
   "metadata": {},
   "source": [
    "## Método de Euler Mejorado o método de Heun o RK2\n",
    "\n",
    "Corresponde a modificación del método de Euler y se consigue integrando la ecuación diferencial\n",
    "$y'=f(x,y)$ entre $x_i$ y $x_{i+1}$:\n",
    "\n",
    "$$  \\int_{x_i}^{x_{i+1}} y'(x) dx = \\int_{x_i}^{x_{i+1}} f(x,y(x)) dx $$\n",
    "\n",
    "donde la integral de la izquierda se puede integrar directamente y la de la derecha aproximar mediante la regla del trapecio\n",
    "\n",
    "$$ y(x_{i+1})-y(x_{i}) = \\frac{h}{2} \\left[ f(x_i , y(x_i)) + f(x_{i+1}, y(x_{i+1})) \\right] $$\n",
    "\n",
    "Despejando \n",
    "\n",
    "$$ y(x_{i+1}) = y(x_{i})+\\frac{h}{2} \\left[ f(x_i , y(x_i)) + f(x_{i+1}, y(x_{i+1})) \\right] $$\n",
    "\n",
    "es decir,\n",
    "\n",
    "$$ y_{i+1} = y_i+\\frac{h}{2} \\left[ f(x_i , y_i) + f(x_{i+1}, y_i +h f(x_i,y_i)) \\right] $$\n",
    "\n"
   ]
  },
  {
   "cell_type": "markdown",
   "metadata": {},
   "source": [
    "## Algoritmo\n",
    "\n",
    "Para el problema \n",
    "$$ y'=f(x,y) \\quad ; \\quad y(x_0)=y_0 $$\n",
    "\n",
    "el algoritmo asociado al método de Euler está dado por:\n",
    "    \n",
    "Para $i=0,1, ... , n-1$ realizar <br>\n",
    "*    $ x_i = x_0+ih $ <br>\n",
    "*    $y_{i+1}^*= y_i +h f(x_i , y_i) $ <br>\n",
    "*    $y_{i+1} = y_i + \\dfrac{h}{2} \\left[ f(x_i , y_i) + f(x_{i+1}, y_{i+1}^*) \\right] $ <br>\n",
    "\n",
    "Fin"
   ]
  },
  {
   "cell_type": "markdown",
   "metadata": {},
   "source": [
    "## Ejercicio:\n",
    "\n",
    "* a)  Elabore una función en Python que permita encontrar una aproximación de $y(x_n)$ utilizando el método de Euler mejorado, para el problema de valores iniciales general\n",
    "\n",
    "$$ y'(x)=f(x,y) \\quad , \\quad y(x_0)=y_0$$\n",
    "\n",
    "dados los datos de entrada $f(x,y), x_0, x_n, y_0, n$ (o $h$ en su defecto)\n",
    "\n",
    "* b) Utilice el método de Euler mejorado para el problema de valores iniciales:\n",
    "\n",
    "$$ y' = 0,2xy \\quad ; \\quad y(0) = 1$$\n",
    "\n",
    "en el intervalo $[0, 4]$ usando h = 1, para aproximar $y(4)$.\n",
    "\n",
    "* c) La solución explícita al PVI está dada por $y=e^{0,1x^2}$ (verifíquelo en otra ocasión). En un mismo gráfico grafique la solución real, junto con las aproximaciones encontradas con este método. A partir de los resultados del gráfico, determine si la aproximación encontrada es una buena aproximación. \n",
    "\n",
    "* d) Calcule el error cometido y compruebe si la respuesta dada en el item anterior es aceptable."
   ]
  },
  {
   "cell_type": "code",
   "execution_count": 6,
   "metadata": {},
   "outputs": [],
   "source": [
    "def metodo_euler_mejorado(f, x0, xn, y0, n): \n",
    "    \n",
    "    X = np.linspace(x0,xn,n+1)         \n",
    "    Y = np.linspace(x0,xn,n+1)                 \n",
    "    Y[0] = y0      \n",
    "    h = (xn-x0)/n      \n",
    "    \n",
    "    for i in range(n):\n",
    "        Y[i+1] = Y[i] + (h/2)*(f(X[i],Y[i])+f(X[i+1],Y[i]+h*f(X[i],Y[i])))   \n",
    "        print((Y[i+1]))"
   ]
  },
  {
   "cell_type": "code",
   "execution_count": 7,
   "metadata": {},
   "outputs": [
    {
     "name": "stdout",
     "output_type": "stream",
     "text": [
      "1.1\n",
      "1.4740000000000002\n",
      "2.3878800000000004\n",
      "4.632487200000002\n"
     ]
    }
   ],
   "source": [
    "def f_1(x,y): return 0.2*x*y\n",
    "\n",
    "metodo_euler_mejorado(f_1, 0, 4, 1,4)"
   ]
  },
  {
   "cell_type": "code",
   "execution_count": 24,
   "metadata": {},
   "outputs": [
    {
     "name": "stdout",
     "output_type": "stream",
     "text": [
      "1.0 1.1\n",
      "2.0 1.4740000000000002\n",
      "3.0 2.3878800000000004\n",
      "4.0 4.632487200000002\n"
     ]
    },
    {
     "data": {
      "text/plain": [
       "<matplotlib.legend.Legend at 0x1355e436f70>"
      ]
     },
     "execution_count": 24,
     "metadata": {},
     "output_type": "execute_result"
    },
    {
     "data": {
      "image/png": "[encoded data removed]",
      "text/plain": [
       "<Figure size 432x288 with 1 Axes>"
      ]
     },
     "metadata": {
      "needs_background": "light"
     },
     "output_type": "display_data"
    }
   ],
   "source": [
    "## Modificacion:\n",
    "\n",
    "def metodo_euler_mejorado(f, x0, xn, y0, n): \n",
    "    \n",
    "    X = np.linspace(x0,xn,n+1)         \n",
    "    Y = np.linspace(x0,xn,n+1)                 \n",
    "    Y[0] = y0      \n",
    "    h = (xn-x0)/n      \n",
    "    \n",
    "    for i in range(n):\n",
    "        Y[i+1] = Y[i] + (h/2)*(f(X[i],Y[i])+f(X[i+1],Y[i]+h*f(X[i],Y[i])))   \n",
    "        print(X[i+1],Y[i+1])\n",
    "    \n",
    "    ret = dict()\n",
    "    ret['x'] = X\n",
    "    ret['y'] = Y\n",
    "        \n",
    "    return ret\n",
    "        \n",
    "def f_1(x,y): return 0.2*x*y\n",
    "\n",
    "solve = metodo_euler_mejorado(f_1, 0, 4, 1,4)\n",
    "X = solve['x']\n",
    "Y = solve['y'] \n",
    "\n",
    "x=np.linspace(0,4,100)\n",
    "y_1= np.exp(0.1*x**2)\n",
    "\n",
    "plt.plot(X, Y,linewidth=3, linestyle='-.', color=(0, 0.5 ,0.5), label='método euler' )\n",
    "plt.plot(x, y_1,linewidth=1, linestyle='-', color=(0.4, 0.5 ,0.5), label='solución' )\n",
    "plt.grid()\n",
    "plt.legend()"
   ]
  },
  {
   "cell_type": "code",
   "execution_count": 17,
   "metadata": {},
   "outputs": [
    {
     "data": {
      "image/png": "[encoded data removed]",
      "text/latex": [
       "$\\displaystyle 0.320545224395113$"
      ],
      "text/plain": [
       "0.32054522439511324"
      ]
     },
     "execution_count": 17,
     "metadata": {},
     "output_type": "execute_result"
    }
   ],
   "source": [
    "Error = np.abs( np.exp(0.1*4**2) - Y[-1])\n",
    "Error"
   ]
  },
  {
   "cell_type": "markdown",
   "metadata": {},
   "source": [
    "## Método de Runge Kutta de orden 4 (RK4)\n",
    "\n",
    "\n",
    "Para el problema \n",
    "$$ y'=f(x,y) \\quad ; \\quad y(x_0)=y_0 $$\n",
    "\n",
    "el algoritmo asociado al método RK4 está dado por:\n",
    "    \n",
    "Para $i=0,1, ... , n-1$ realizar <br>\n",
    "\n",
    "*    $ x_i = x_0+ih $ <br>\n",
    "\n",
    "*    $ K_1 = f(x_i,y_i) $ <br>\n",
    "\n",
    "*    $ K_2 = f\\left( x_i + \\dfrac{h}{2} , y_i + \\dfrac{h}{2} K_1 \\right) $ <br>\n",
    "\n",
    "*    $ K_3 = f\\left( x_i + \\dfrac{h}{2} , y_i + \\dfrac{h}{2} K_2 \\right) $ <br>\n",
    "\n",
    "*    $ K_4 = f\\left( x_i + h , y_i + h K_3 \\right) $ <br>\n",
    "\n",
    "*    $y_{i+1} = y_i + \\dfrac{h}{6} \\left[ K_1 + 2K_2 + 2K_3 + K_4 \\right] $ <br>\n",
    "\n",
    "Fin"
   ]
  },
  {
   "cell_type": "markdown",
   "metadata": {},
   "source": [
    "## Ejercicio:\n",
    "\n",
    "* a)  Elabore una función en Python que permita encontrar una aproximación de $y(x_n)$ utilizando el método de RK4 para el problema de valores iniciales general\n",
    "\n",
    "$$ y'(x)=f(x,y) \\quad , \\quad y(x_0)=y_0$$\n",
    "\n",
    "dados los datos de entrada $f(x,y), x_0, x_n, y_0, n$ (o $h$ en su defecto)\n",
    "\n",
    "* b) Utilice el método de Euler mejorado para el problema de valores iniciales:\n",
    "\n",
    "$$ y' = 0,2xy \\quad ; \\quad y(0) = 1$$\n",
    "\n",
    "en el intervalo $[0, 4]$ usando h = 1, para aproximar $y(4)$.\n",
    "\n",
    "* c) La solución explícita al PVI está dada por $y=e^{0,1x^2}$ (verifíquelo en otra ocasión). En un mismo gráfico grafique la solución real, junto con las aproximaciones encontradas con este método. A partir de los resultados del gráfico, determine si la aproximación encontrada es una buena aproximación. \n",
    "\n",
    "* d) Calcule el error cometido y compruebe si la respuesta dada en el item anterior es aceptable."
   ]
  },
  {
   "cell_type": "code",
   "execution_count": 25,
   "metadata": {},
   "outputs": [],
   "source": [
    "def metodo_RK4(f, x0, xn, y0, n):\n",
    "    \n",
    "    X = np.linspace(x0,xn,n+1)\n",
    "    Y = np.linspace(x0,xn,n+1)                 \n",
    "    Y[0] = y0        \n",
    "    h = (xn-x0)/n     \n",
    "    \n",
    "    for i in range(n):\n",
    "        K1=f(X[i],Y[i]) \n",
    "        K2=f(X[i]+h/2,Y[i]+(h/2)*K1) \n",
    "        K3=f(X[i]+h/2,Y[i]+(h/2)*K2) \n",
    "        K4=f(X[i]+h,Y[i]+h*K3)\n",
    "        Y[i+1] = Y[i] +(h/6)*(K1+2*K2+2*K3+K4)\n",
    "        \n",
    "        print(X[i+1],Y[i+1])\n",
    "    \n",
    " \n",
    "    coord = dict()\n",
    "    coord['x'] = X\n",
    "    coord['y'] = Y\n",
    "        \n",
    "    return coord"
   ]
  },
  {
   "cell_type": "code",
   "execution_count": 26,
   "metadata": {},
   "outputs": [
    {
     "name": "stdout",
     "output_type": "stream",
     "text": [
      "==== Método de Euler Mejorado ====\n",
      "1.0 1.1\n",
      "2.0 1.4740000000000002\n",
      "3.0 2.3878800000000004\n",
      "4.0 4.632487200000002\n",
      "==== Método RK4 ====\n",
      "1.0 1.1051666666666666\n",
      "2.0 1.4917539666666666\n",
      "3.0 2.458907788388889\n",
      "4.0 4.947240506645498\n"
     ]
    },
    {
     "data": {
      "text/plain": [
       "<matplotlib.legend.Legend at 0x1355e4c3d60>"
      ]
     },
     "execution_count": 26,
     "metadata": {},
     "output_type": "execute_result"
    },
    {
     "data": {
      "image/png": "[encoded data removed]",
      "text/plain": [
       "<Figure size 432x288 with 1 Axes>"
      ]
     },
     "metadata": {
      "needs_background": "light"
     },
     "output_type": "display_data"
    }
   ],
   "source": [
    "def f_1(x,y): return 0.2*x*y\n",
    "\n",
    "print('==== Método de Euler Mejorado ====')\n",
    "solve1 = metodo_euler_mejorado(f_1, 0, 4, 1,4)\n",
    "X1 = solve1['x']\n",
    "Y1= solve1['y'] \n",
    "\n",
    "print('==== Método RK4 ====')\n",
    "solve2 = metodo_RK4(f_1, 0, 4, 1,4)\n",
    "X2 = solve2['x']\n",
    "Y2 = solve2['y'] \n",
    "\n",
    "x=np.arange(0,4.1,0.1)\n",
    "y= np.exp(0.1*x**2)\n",
    "\n",
    "plt.plot(X1, Y1,linewidth=3, linestyle='-.', color=(0, 0.5 ,0.5), label='método euler' )\n",
    "plt.plot(X2, Y2,linewidth=3, linestyle=':', color=(0.4, 0.9 ,0.5), label='método runge' )\n",
    "plt.plot(x, y,linewidth=1, linestyle='-', color=(0.4, 0.5 ,0.5), label='solución' )\n",
    "plt.grid()\n",
    "plt.legend()"
   ]
  },
  {
   "cell_type": "code",
   "execution_count": 28,
   "metadata": {},
   "outputs": [
    {
     "data": {
      "image/png": "[encoded data removed]",
      "text/latex": [
       "$\\displaystyle 0.320545224395113$"
      ],
      "text/plain": [
       "0.32054522439511324"
      ]
     },
     "execution_count": 28,
     "metadata": {},
     "output_type": "execute_result"
    }
   ],
   "source": [
    "Error_Euler_mejorado = np.abs( np.exp(0.1*4**2) - Y1[-1])\n",
    "Error_Euler_mejorado "
   ]
  },
  {
   "cell_type": "code",
   "execution_count": 29,
   "metadata": {},
   "outputs": [
    {
     "data": {
      "image/png": "[encoded data removed]",
      "text/latex": [
       "$\\displaystyle 0.00579191774961707$"
      ],
      "text/plain": [
       "0.00579191774961707"
      ]
     },
     "execution_count": 29,
     "metadata": {},
     "output_type": "execute_result"
    }
   ],
   "source": [
    "Error_RK4 = np.abs( np.exp(0.1*4**2) - Y2[-1])\n",
    "Error_RK4"
   ]
  },
  {
   "cell_type": "markdown",
   "metadata": {},
   "source": [
    "## Ejercicios adicionales\n",
    "\n",
    "a) Utilice los métodos de Euler,  Euler mejorado y Runge Kutta para aproximar $y(0,5)$, donde $y(x)$ es la solución del PVI\n",
    "\n",
    "$$ y' = 2xy^2 \\quad ; \\quad y(0) = 1.$$\n",
    "\n",
    "Para ello utilice:\n",
    "    * $h = 0,25$ \n",
    "    * $h= 0,1 $\n",
    "    \n",
    "b) Encuentre la solución explícita al PVI.\n",
    "\n",
    "c) Grafique en un mismo plano, la solución explícita y cada una de las aproximaciones encontradas. Establezca a partir de éste, cuál de las tres aproximaciones es mejor.\n",
    "\n",
    "d) Identifique, a partir del gráfico, cuál de los tres métodos tiene un error global más grande.\n",
    "\n",
    "e) Calcule el error absoluto en cada método y concluya en base a estos resultados cuál es la mejor aproximación.\n",
    "\n",
    "f) Repita el proceso (a)-(e) con los PVI\n",
    "\n",
    "   * $ y' = 1+(x-y)^2 \\quad ; \\quad y(2)=1 $\n",
    "   * $ y' - \\dfrac{y}{x} = 1 \\quad ; \\quad y(1)=2 $"
   ]
  },
  {
   "cell_type": "code",
   "execution_count": null,
   "metadata": {},
   "outputs": [],
   "source": []
  }
 ],
 "metadata": {
  "kernelspec": {
   "display_name": "Python 3",
   "language": "python",
   "name": "python3"
  },
  "language_info": {
   "codemirror_mode": {
    "name": "ipython",
    "version": 3
   },
   "file_extension": ".py",
   "mimetype": "text/x-python",
   "name": "python",
   "nbconvert_exporter": "python",
   "pygments_lexer": "ipython3",
   "version": "3.8.8"
  }
 },
 "nbformat": 4,
 "nbformat_minor": 4
}
