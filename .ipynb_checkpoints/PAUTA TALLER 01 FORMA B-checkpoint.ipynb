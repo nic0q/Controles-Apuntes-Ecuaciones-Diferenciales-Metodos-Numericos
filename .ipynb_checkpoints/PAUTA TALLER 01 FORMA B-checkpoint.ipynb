{
 "cells": [
  {
   "cell_type": "code",
   "execution_count": 3,
   "metadata": {},
   "outputs": [],
   "source": [
    "from matplotlib import pyplot as plt\n",
    "import numpy as np"
   ]
  },
  {
   "cell_type": "markdown",
   "metadata": {},
   "source": [
    "# PREGUNTA 02\n",
    "\n",
    "# Considere el PVI dado por $y'=1+(x-y)^2$, $y(2)=1$.\n",
    "\n",
    "## a) Determine una aproximación de $y(10)$ utilizando el método de Euler considerando $h=0,1$:\n",
    "    \n",
    "   ### Respuesta: \n",
    "   Escribimos el código del método de Euler:\n",
    "   "
   ]
  },
  {
   "cell_type": "code",
   "execution_count": 4,
   "metadata": {},
   "outputs": [],
   "source": [
    "def metodo_euler(f, x0, xn, y0, n): \n",
    "    X = np.linspace(x0,xn,n+1)     \n",
    "    Y = np.linspace(x0,xn,n+1)                 \n",
    "    Y[0] = y0      \n",
    "    h = (xn-x0)/n  \n",
    "    for i in range(n):\n",
    "        Y[i+1] = Y[i] + f(X[i],Y[i])*h\n",
    "        print(X[i+1],Y[i+1])   \n",
    "    ret = dict()\n",
    "    ret['x'] = X\n",
    "    ret['y'] = Y\n",
    "    return ret    "
   ]
  },
  {
   "cell_type": "markdown",
   "metadata": {},
   "source": [
    "Luego definimos la función, para ello basta notar que $f(x,y)=1+(x-y)^2$. \n",
    "\n",
    "Por otra parte, puesto que nuestro código requiere el número de iteraciones y disponemos de $h$, calculamos la cantidad de iteraciones según la fórmula:\n",
    "$$ n = \\frac{x_n-x_0}{h} = \\frac{10-2}{0,1} = 80  $$"
   ]
  },
  {
   "cell_type": "code",
   "execution_count": 5,
   "metadata": {},
   "outputs": [
    {
     "name": "stdout",
     "output_type": "stream",
     "text": [
      "2.1 1.2\n",
      "2.2 1.381\n",
      "2.3 1.5480761\n",
      "2.4 1.704615055139121\n",
      "2.5 1.852971077293038\n",
      "2.6 1.9948357199749711\n",
      "2.7 2.131458100556792\n",
      "2.8 2.263782089699041\n",
      "2.9 2.392535054431794\n",
      "3.0 2.518287121529848\n",
      "3.1 2.6414918512582477\n",
      "3.2 2.7625148235045067\n",
      "3.3 2.881654151469836\n",
      "3.4000000000000004 2.9991554763680783\n",
      "3.5 3.1152231095806484\n",
      "3.6 3.230028435120727\n",
      "3.7 3.3437163310026485\n",
      "3.8 3.45641013628207\n",
      "3.9000000000000004 3.5682155357270404\n",
      "4.0 3.67922362880033\n",
      "4.1 3.789513376832333\n",
      "4.2 3.899153571148939\n",
      "4.300000000000001 4.0082044285241825\n",
      "4.4 4.116718894077472\n",
      "4.5 4.224743712574742\n",
      "4.6 4.332320314951455\n",
      "4.7 4.439485556330224\n",
      "4.800000000000001 4.546272333866281\n",
      "4.9 4.652710106722448\n",
      "5.0 4.75882533585417\n",
      "5.1 4.864641857716755\n",
      "5.2 4.970181203230657\n",
      "5.300000000000001 5.0754628711655085\n",
      "5.4 5.180504563388032\n",
      "5.5 5.28532238805738\n",
      "5.6 5.389931035764318\n",
      "5.7 5.494343932737824\n",
      "5.800000000000001 5.598573374537998\n",
      "5.9 5.702630643082499\n",
      "6.0 5.8065261093875025\n",
      "6.1000000000000005 5.9102693240223765\n",
      "6.2 6.013869096963069\n",
      "6.3 6.117333568269603\n",
      "6.4 6.220670270797715\n",
      "6.5 6.323886185975292\n",
      "6.6000000000000005 6.426987793524325\n",
      "6.7 6.529981115883283\n",
      "6.800000000000001 6.632871757978912\n",
      "6.9 6.735664942907018\n",
      "7.0 6.838365544005994\n",
      "7.1000000000000005 6.940978113742442\n",
      "7.2 7.043506909773333\n",
      "7.300000000000001 7.145955918502202\n",
      "7.4 7.248328876406652\n",
      "7.5 7.350629289379859\n",
      "7.6000000000000005 7.452860450298976\n",
      "7.7 7.555025455007598\n",
      "7.800000000000001 7.657127216877174\n",
      "7.9 7.7591684800929\n",
      "8.0 7.861151831792835\n",
      "8.100000000000001 7.963079713174284\n",
      "8.2 8.064954429668727\n",
      "8.3 8.166778160275337\n",
      "8.4 8.2685529661333\n",
      "8.5 8.370280798404535\n",
      "8.600000000000001 8.471963505530791\n",
      "8.7 8.573602839922387\n",
      "8.8 8.675200464129956\n",
      "8.9 8.776757956545294\n",
      "9.0 8.878276816672784\n",
      "9.100000000000001 8.979758470008715\n",
      "9.2 9.081204272562179\n",
      "9.3 9.182615515047926\n",
      "9.4 9.283993426778673\n",
      "9.5 9.38533917928173\n",
      "9.600000000000001 9.486653889662508\n",
      "9.7 9.587938623735372\n",
      "9.8 9.689194398940405\n",
      "9.9 9.790422187063022\n",
      "10.0 9.891622916771828\n"
     ]
    },
    {
     "data": {
      "text/plain": [
       "{'x': array([ 2. ,  2.1,  2.2,  2.3,  2.4,  2.5,  2.6,  2.7,  2.8,  2.9,  3. ,\n",
       "         3.1,  3.2,  3.3,  3.4,  3.5,  3.6,  3.7,  3.8,  3.9,  4. ,  4.1,\n",
       "         4.2,  4.3,  4.4,  4.5,  4.6,  4.7,  4.8,  4.9,  5. ,  5.1,  5.2,\n",
       "         5.3,  5.4,  5.5,  5.6,  5.7,  5.8,  5.9,  6. ,  6.1,  6.2,  6.3,\n",
       "         6.4,  6.5,  6.6,  6.7,  6.8,  6.9,  7. ,  7.1,  7.2,  7.3,  7.4,\n",
       "         7.5,  7.6,  7.7,  7.8,  7.9,  8. ,  8.1,  8.2,  8.3,  8.4,  8.5,\n",
       "         8.6,  8.7,  8.8,  8.9,  9. ,  9.1,  9.2,  9.3,  9.4,  9.5,  9.6,\n",
       "         9.7,  9.8,  9.9, 10. ]),\n",
       " 'y': array([1.        , 1.2       , 1.381     , 1.5480761 , 1.70461506,\n",
       "        1.85297108, 1.99483572, 2.1314581 , 2.26378209, 2.39253505,\n",
       "        2.51828712, 2.64149185, 2.76251482, 2.88165415, 2.99915548,\n",
       "        3.11522311, 3.23002844, 3.34371633, 3.45641014, 3.56821554,\n",
       "        3.67922363, 3.78951338, 3.89915357, 4.00820443, 4.11671889,\n",
       "        4.22474371, 4.33232031, 4.43948556, 4.54627233, 4.65271011,\n",
       "        4.75882534, 4.86464186, 4.9701812 , 5.07546287, 5.18050456,\n",
       "        5.28532239, 5.38993104, 5.49434393, 5.59857337, 5.70263064,\n",
       "        5.80652611, 5.91026932, 6.0138691 , 6.11733357, 6.22067027,\n",
       "        6.32388619, 6.42698779, 6.52998112, 6.63287176, 6.73566494,\n",
       "        6.83836554, 6.94097811, 7.04350691, 7.14595592, 7.24832888,\n",
       "        7.35062929, 7.45286045, 7.55502546, 7.65712722, 7.75916848,\n",
       "        7.86115183, 7.96307971, 8.06495443, 8.16677816, 8.26855297,\n",
       "        8.3702808 , 8.47196351, 8.57360284, 8.67520046, 8.77675796,\n",
       "        8.87827682, 8.97975847, 9.08120427, 9.18261552, 9.28399343,\n",
       "        9.38533918, 9.48665389, 9.58793862, 9.6891944 , 9.79042219,\n",
       "        9.89162292])}"
      ]
     },
     "execution_count": 5,
     "metadata": {},
     "output_type": "execute_result"
    }
   ],
   "source": [
    "def f_1(x,y): return 1+(x-y)**2\n",
    "\n",
    "metodo_euler(f_1,2,10,1,80)"
   ]
  },
  {
   "cell_type": "markdown",
   "metadata": {},
   "source": [
    "Por tanto, una aproximación de $y(10)$ es 9.891622916771828"
   ]
  },
  {
   "cell_type": "markdown",
   "metadata": {},
   "source": [
    "## b) Determine una aproximación de $y(10)$ utilizando el método de Runge Kutta de orden 4 considerando $h=0,5$:\n",
    "    \n",
    "   ### Respuesta: \n",
    "   Escribimos el código del método de Runge Kutta de orden 4:\n",
    "   "
   ]
  },
  {
   "cell_type": "code",
   "execution_count": 7,
   "metadata": {},
   "outputs": [],
   "source": [
    "def metodo_RK4(f, x0, xn, y0, n):\n",
    "    X = np.linspace(x0,xn,n+1)\n",
    "    Y = np.linspace(x0,xn,n+1)                 \n",
    "    Y[0] = y0        \n",
    "    h = (xn-x0)/n     \n",
    "    for i in range(n):\n",
    "        K1=f(X[i],Y[i]) \n",
    "        K2=f(X[i]+h/2,Y[i]+(h/2)*K1) \n",
    "        K3=f(X[i]+h/2,Y[i]+(h/2)*K2) \n",
    "        K4=f(X[i]+h,Y[i]+h*K3)\n",
    "        Y[i+1] = Y[i] +(h/6)*(K1+2*K2+2*K3+K4)\n",
    "        print(X[i+1],Y[i+1])\n",
    "    coord = dict()\n",
    "    coord['x'] = X\n",
    "    coord['y'] = Y\n",
    "    return coord"
   ]
  },
  {
   "cell_type": "markdown",
   "metadata": {},
   "source": [
    "calculamos la cantidad de iteraciones para este nuevo escenario:\n",
    "$$ n = \\frac{x_n-x_0}{h} = \\frac{10-2}{0,5} = 16  $$\n",
    "\n",
    "Ahora aplicamos el método a la función definida anteriormente:"
   ]
  },
  {
   "cell_type": "code",
   "execution_count": 8,
   "metadata": {},
   "outputs": [
    {
     "name": "stdout",
     "output_type": "stream",
     "text": [
      "2.5 1.8333233607312043\n",
      "3.0 2.4999711934261817\n",
      "3.5 3.099974775478521\n",
      "4.0 3.6666468681790705\n",
      "4.5 4.214270277637866\n",
      "5.0 4.749987788810082\n",
      "5.5 5.2777679391594985\n",
      "6.0 5.799991931161032\n",
      "6.5 6.31817509428357\n",
      "7.0 6.833327650891757\n",
      "7.5 7.34614898441502\n",
      "8.0 7.857138652497042\n",
      "8.5 8.366662995668277\n",
      "9.0 8.874996767952846\n",
      "9.5 9.382350074330969\n",
      "10.0 9.888886329013427\n"
     ]
    },
    {
     "data": {
      "text/plain": [
       "{'x': array([ 2. ,  2.5,  3. ,  3.5,  4. ,  4.5,  5. ,  5.5,  6. ,  6.5,  7. ,\n",
       "         7.5,  8. ,  8.5,  9. ,  9.5, 10. ]),\n",
       " 'y': array([1.        , 1.83332336, 2.49997119, 3.09997478, 3.66664687,\n",
       "        4.21427028, 4.74998779, 5.27776794, 5.79999193, 6.31817509,\n",
       "        6.83332765, 7.34614898, 7.85713865, 8.366663  , 8.87499677,\n",
       "        9.38235007, 9.88888633])}"
      ]
     },
     "execution_count": 8,
     "metadata": {},
     "output_type": "execute_result"
    }
   ],
   "source": [
    "metodo_RK4(f_1,2,10,1,16)"
   ]
  },
  {
   "cell_type": "markdown",
   "metadata": {},
   "source": [
    "## c) Encuentre la solución explícita del PVI:\n",
    "    \n",
    "   ### Respuesta: \n",
    "   \n",
    "   Haciendo la sustitución $z=x-y$ se tiene que $y=x-z$, derivando esta última resulta\n",
    "$$ \\frac{dy}{dx} = 1 - \\frac{dz}{dx}.  $$\n",
    "Sustituyendo en la EDO original, se obtiene\n",
    "\n",
    "$$ 1 - \\frac{dz}{dx} = 1+ z^2,  $$\n",
    "ecuación que es separable. Despejando e integrando resulta\n",
    "\\begin{align*}\n",
    "\\int - \\frac{1}{z^2} dz &= \\int dx \\\\\n",
    "\\frac{1}{z} &= x + c \\\\\n",
    "z &= \\frac{1}{x+c}\n",
    "\\end{align*}\n",
    "volviendo a las variables originales resulta\n",
    "$$ x-y = \\frac{1}{x+c} $$\n",
    "y por tanto, la solución general corresponde a\n",
    "$$ y = x - \\frac{1}{x+c}. $$\n",
    "\n",
    "Finalmente, con la condición inicial $y(2)=1$, se sigue que\n",
    "$$ 1 = 2 - \\frac{1}{2+c} \\quad \\Rightarrow \\quad c=-1, $$\n",
    "por tanto la solución al PVI está dada por\n",
    "$$ y = x - \\frac{1}{x-1}. $$"
   ]
  },
  {
   "cell_type": "markdown",
   "metadata": {},
   "source": [
    "## d) Grafique en un mismo plano, la solución explícita y cada una de las aproximaciones encontradas en (a) y (b). Establezca a partir de éste, cuál de las aproximaciones tiene un error global más pequeño:\n",
    "    \n",
    "   ### Respuesta: \n",
    "   Graficamos las aproximaciones junto con la solución explícita del PVI.\n",
    "   "
   ]
  },
  {
   "cell_type": "code",
   "execution_count": 9,
   "metadata": {},
   "outputs": [
    {
     "name": "stdout",
     "output_type": "stream",
     "text": [
      "2.1 1.2\n",
      "2.2 1.381\n",
      "2.3 1.5480761\n",
      "2.4 1.704615055139121\n",
      "2.5 1.852971077293038\n",
      "2.6 1.9948357199749711\n",
      "2.7 2.131458100556792\n",
      "2.8 2.263782089699041\n",
      "2.9 2.392535054431794\n",
      "3.0 2.518287121529848\n",
      "3.1 2.6414918512582477\n",
      "3.2 2.7625148235045067\n",
      "3.3 2.881654151469836\n",
      "3.4000000000000004 2.9991554763680783\n",
      "3.5 3.1152231095806484\n",
      "3.6 3.230028435120727\n",
      "3.7 3.3437163310026485\n",
      "3.8 3.45641013628207\n",
      "3.9000000000000004 3.5682155357270404\n",
      "4.0 3.67922362880033\n",
      "4.1 3.789513376832333\n",
      "4.2 3.899153571148939\n",
      "4.300000000000001 4.0082044285241825\n",
      "4.4 4.116718894077472\n",
      "4.5 4.224743712574742\n",
      "4.6 4.332320314951455\n",
      "4.7 4.439485556330224\n",
      "4.800000000000001 4.546272333866281\n",
      "4.9 4.652710106722448\n",
      "5.0 4.75882533585417\n",
      "5.1 4.864641857716755\n",
      "5.2 4.970181203230657\n",
      "5.300000000000001 5.0754628711655085\n",
      "5.4 5.180504563388032\n",
      "5.5 5.28532238805738\n",
      "5.6 5.389931035764318\n",
      "5.7 5.494343932737824\n",
      "5.800000000000001 5.598573374537998\n",
      "5.9 5.702630643082499\n",
      "6.0 5.8065261093875025\n",
      "6.1000000000000005 5.9102693240223765\n",
      "6.2 6.013869096963069\n",
      "6.3 6.117333568269603\n",
      "6.4 6.220670270797715\n",
      "6.5 6.323886185975292\n",
      "6.6000000000000005 6.426987793524325\n",
      "6.7 6.529981115883283\n",
      "6.800000000000001 6.632871757978912\n",
      "6.9 6.735664942907018\n",
      "7.0 6.838365544005994\n",
      "7.1000000000000005 6.940978113742442\n",
      "7.2 7.043506909773333\n",
      "7.300000000000001 7.145955918502202\n",
      "7.4 7.248328876406652\n",
      "7.5 7.350629289379859\n",
      "7.6000000000000005 7.452860450298976\n",
      "7.7 7.555025455007598\n",
      "7.800000000000001 7.657127216877174\n",
      "7.9 7.7591684800929\n",
      "8.0 7.861151831792835\n",
      "8.100000000000001 7.963079713174284\n",
      "8.2 8.064954429668727\n",
      "8.3 8.166778160275337\n",
      "8.4 8.2685529661333\n",
      "8.5 8.370280798404535\n",
      "8.600000000000001 8.471963505530791\n",
      "8.7 8.573602839922387\n",
      "8.8 8.675200464129956\n",
      "8.9 8.776757956545294\n",
      "9.0 8.878276816672784\n",
      "9.100000000000001 8.979758470008715\n",
      "9.2 9.081204272562179\n",
      "9.3 9.182615515047926\n",
      "9.4 9.283993426778673\n",
      "9.5 9.38533917928173\n",
      "9.600000000000001 9.486653889662508\n",
      "9.7 9.587938623735372\n",
      "9.8 9.689194398940405\n",
      "9.9 9.790422187063022\n",
      "10.0 9.891622916771828\n",
      "2.5 1.8333233607312043\n",
      "3.0 2.4999711934261817\n",
      "3.5 3.099974775478521\n",
      "4.0 3.6666468681790705\n",
      "4.5 4.214270277637866\n",
      "5.0 4.749987788810082\n",
      "5.5 5.2777679391594985\n",
      "6.0 5.799991931161032\n",
      "6.5 6.31817509428357\n",
      "7.0 6.833327650891757\n",
      "7.5 7.34614898441502\n",
      "8.0 7.857138652497042\n",
      "8.5 8.366662995668277\n",
      "9.0 8.874996767952846\n",
      "9.5 9.382350074330969\n",
      "10.0 9.888886329013427\n"
     ]
    },
    {
     "data": {
      "text/plain": [
       "<matplotlib.legend.Legend at 0x2819b257e50>"
      ]
     },
     "execution_count": 9,
     "metadata": {},
     "output_type": "execute_result"
    },
    {
     "data": {
      "image/png": "[encoded data removed]",
      "text/plain": [
       "<Figure size 432x288 with 1 Axes>"
      ]
     },
     "metadata": {
      "needs_background": "light"
     },
     "output_type": "display_data"
    }
   ],
   "source": [
    "solve1 = metodo_euler(f_1,2,10,1,80)\n",
    "X1 = solve1['x']\n",
    "Y1= solve1['y'] \n",
    "\n",
    "solve2 = metodo_RK4(f_1,2,10,1,16)\n",
    "X2 = solve2['x']\n",
    "Y2 = solve2['y'] \n",
    "\n",
    "x=np.linspace(2,10,100)\n",
    "y=x-1/(x-1)\n",
    "\n",
    "plt.plot(X1, Y1,linewidth=3, linestyle='-.', color=(0, 0.5 ,0.5), label='método euler' )\n",
    "plt.plot(X2, Y2,linewidth=3, linestyle=':', color=(0.4, 0.9 ,0.5), label='método runge' )\n",
    "plt.plot(x, y,linewidth=1, linestyle='-', color=(0.4, 0.5 ,0.5), label='solución' )\n",
    "plt.grid()\n",
    "plt.legend()"
   ]
  },
  {
   "cell_type": "markdown",
   "metadata": {},
   "source": [
    "Del gráfico no es posible identifricar cuál error global es más pequeño; es necesario hacer un analisis del error global. Para ello basta programar un código para el error global de cada método (con una pequeña modificación de los códigos anteriores basta): "
   ]
  },
  {
   "cell_type": "code",
   "execution_count": 10,
   "metadata": {},
   "outputs": [],
   "source": [
    "def Error_euler(f, y, x0, xn, y0, n): \n",
    "    \n",
    "    X = np.linspace(x0,xn,n+1)     \n",
    "    Y = np.linspace(x0,xn,n+1)  \n",
    "    E = np.linspace(x0,xn,n+1)\n",
    "    Y[0] = y0      \n",
    "    h = (xn-x0)/n  \n",
    "    for i in range(n):\n",
    "        Y[i+1] = Y[i] + f(X[i],Y[i])*h\n",
    "        E[i+1] = np.abs(y(X[i+1])-Y[i+1])\n",
    "    F=E[1::]\n",
    "    return max(F)"
   ]
  },
  {
   "cell_type": "code",
   "execution_count": 11,
   "metadata": {},
   "outputs": [
    {
     "data": {
      "text/plain": [
       "0.019835719974971022"
      ]
     },
     "execution_count": 11,
     "metadata": {},
     "output_type": "execute_result"
    }
   ],
   "source": [
    "def y(x): return x-1/(x-1)\n",
    "Error_euler(f_1,y,2,10,1,80) "
   ]
  },
  {
   "cell_type": "markdown",
   "metadata": {},
   "source": [
    "Notamos que el error global corresponde a:\n",
    "\n",
    "$$ \\max_{1\\leq i \\leq n} | y_i - y(x_i) | = 0.019835719974971022  $$\n",
    "\n",
    "De manera similar para RK4 se sigue que"
   ]
  },
  {
   "cell_type": "code",
   "execution_count": 13,
   "metadata": {},
   "outputs": [
    {
     "data": {
      "text/plain": [
       "2.8806573818318526e-05"
      ]
     },
     "execution_count": 13,
     "metadata": {},
     "output_type": "execute_result"
    }
   ],
   "source": [
    "def Error_RK4(f, y, x0, xn, y0, n):\n",
    "    X = np.linspace(x0,xn,n+1)\n",
    "    Y = np.linspace(x0,xn,n+1) \n",
    "    E = np.linspace(x0,xn,n+1)\n",
    "    Y[0] = y0        \n",
    "    h = (xn-x0)/n     \n",
    "    for i in range(n):\n",
    "        K1=f(X[i],Y[i]) \n",
    "        K2=f(X[i]+h/2,Y[i]+(h/2)*K1) \n",
    "        K3=f(X[i]+h/2,Y[i]+(h/2)*K2) \n",
    "        K4=f(X[i]+h,Y[i]+h*K3)\n",
    "        Y[i+1] = Y[i] +(h/6)*(K1+2*K2+2*K3+K4)\n",
    "        E[i+1] = np.abs(y(X[i+1])-Y[i+1])\n",
    "    F=E[1::]\n",
    "    return max(F)\n",
    "def y(x): return x-1/(x-1)\n",
    "Error_RK4(f_1,y, 2,10,1,16)"
   ]
  },
  {
   "cell_type": "markdown",
   "metadata": {},
   "source": [
    "Notamos que el error global ocurre en la tercera iteración, es decir \n",
    "\n",
    "$$ \\max_{1\\leq i \\leq n} | y_i - y(x_i) | = 2.8806573818318526 \\cdot 10^{-5} $$\n",
    "\n",
    "Con lo anterior se concluye que el error global más pequeño lo comete el método RK4."
   ]
  },
  {
   "cell_type": "markdown",
   "metadata": {},
   "source": [
    "## e) Calcule el error absoluto cometido en cada una de las aproximaciones y concluya cuál de ellas es una mejor aproximación de $y(10)$:\n",
    "    \n",
    "   ### Respuesta: \n",
    "   Calculamos los errores absolutos para cada aproximación:"
   ]
  },
  {
   "cell_type": "code",
   "execution_count": 10,
   "metadata": {},
   "outputs": [
    {
     "data": {
      "text/plain": [
       "0.002734027882938861"
      ]
     },
     "execution_count": 10,
     "metadata": {},
     "output_type": "execute_result"
    }
   ],
   "source": [
    "Error_Euler = np.abs( 10-1/(10-1) - Y1[-1])\n",
    "Error_Euler"
   ]
  },
  {
   "cell_type": "code",
   "execution_count": 11,
   "metadata": {},
   "outputs": [
    {
     "data": {
      "text/plain": [
       "2.5598754618272324e-06"
      ]
     },
     "execution_count": 11,
     "metadata": {},
     "output_type": "execute_result"
    }
   ],
   "source": [
    "Error_RK4 = np.abs( 10-1/(10-1) - Y2[-1])\n",
    "Error_RK4"
   ]
  },
  {
   "cell_type": "markdown",
   "metadata": {},
   "source": [
    "Así, concluimos que una mejor aproximación es la de RK4, a pesar de tener menos iteraciones."
   ]
  }
 ],
 "metadata": {
  "kernelspec": {
   "display_name": "Python 3 (ipykernel)",
   "language": "python",
   "name": "python3"
  },
  "language_info": {
   "codemirror_mode": {
    "name": "ipython",
    "version": 3
   },
   "file_extension": ".py",
   "mimetype": "text/x-python",
   "name": "python",
   "nbconvert_exporter": "python",
   "pygments_lexer": "ipython3",
   "version": "3.9.7"
  }
 },
 "nbformat": 4,
 "nbformat_minor": 4
}
