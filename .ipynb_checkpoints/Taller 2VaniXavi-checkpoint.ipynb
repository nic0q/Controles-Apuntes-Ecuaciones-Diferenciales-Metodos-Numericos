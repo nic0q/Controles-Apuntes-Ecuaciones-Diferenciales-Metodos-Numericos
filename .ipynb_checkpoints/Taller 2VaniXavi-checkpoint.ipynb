{
 "cells": [
  {
   "cell_type": "markdown",
   "id": "9506e001",
   "metadata": {},
   "source": [
    "## Apuntes"
   ]
  },
  {
   "cell_type": "code",
   "execution_count": 2,
   "id": "fcff360d",
   "metadata": {},
   "outputs": [],
   "source": [
    "# Importar librerias necesarias\n",
    "import matplotlib.pyplot as plt\n",
    "import sympy as sp\n",
    "import numpy as np"
   ]
  },
  {
   "cell_type": "markdown",
   "id": "ff757027",
   "metadata": {},
   "source": [
    "1. El número áureo satisface la ecuación $$Φ = 1+\\dfrac{1}{Φ}$$ \n",
    "\n",
    "de donde se puede obtener de manera relativamente sencilla que \n",
    "$$Φ = \\dfrac{1+\\sqrt{5}}{2}$$\n",
    "\n",
    "a) Calcule directamente en Python el valor de Φ."
   ]
  },
  {
   "cell_type": "code",
   "execution_count": 3,
   "id": "78ad0bfe",
   "metadata": {},
   "outputs": [
    {
     "data": {
      "text/plain": [
       "1.618033988749895"
      ]
     },
     "execution_count": 3,
     "metadata": {},
     "output_type": "execute_result"
    }
   ],
   "source": [
    "# Se define y se calcula el valor de Φ\n",
    "phi = (1+np.sqrt(5))/2\n",
    "phi"
   ]
  },
  {
   "cell_type": "markdown",
   "id": "b9f90b96",
   "metadata": {},
   "source": [
    "b) Defina una función adecuada para utilizar el método de la bisección y aproxime el valor de φ, justificando la elección del intervalo elegido, con una tolerancia de $10^{-6}$"
   ]
  },
  {
   "cell_type": "code",
   "execution_count": 4,
   "id": "a4a01cbc",
   "metadata": {},
   "outputs": [
    {
     "data": {
      "text/plain": [
       "1.6180339813232423"
      ]
     },
     "execution_count": 4,
     "metadata": {},
     "output_type": "execute_result"
    }
   ],
   "source": [
    "# Se define una función cuya raiz sea (1+raiz(5))/2\n",
    "def f(x): return x-(1+np.sqrt(5))/2\n",
    "# Función para determinar un valor aproximado al valor de Φ\n",
    "# a y b intervalos\n",
    "# f: función f(x)\n",
    "def biseccion (a, b, f,tolerancia):\n",
    "    # calcula el xi hasta que sobrepase la tolerancia permitida\n",
    "    while (np.abs(a-b)>=tolerancia):\n",
    "        xi = (a+b)/2\n",
    "        producto = f(a)*f(xi)\n",
    "        if producto < 0:\n",
    "            b = xi #cambio de signo en el lado derecho\n",
    "        else:\n",
    "            if producto > 0:\n",
    "                a = xi #cambio de signo en el aldo izquierdo\n",
    "            else:\n",
    "                if producto == 0:\n",
    "                    a = xi\n",
    "                    b = xi\n",
    "    return xi\n",
    "# Calcula el valor aproximado de φ\n",
    "# Se utiliza el intervalo [0,1.9] dado que la función es continua y f(a)f(b)<0, por lo que se puede asegurar la existencia \n",
    "# de una solución en dicho intervalo\n",
    "solucion = biseccion(0, 1.9, f, 10e-6)\n",
    "solucion"
   ]
  },
  {
   "cell_type": "markdown",
   "id": "dc294155",
   "metadata": {},
   "source": [
    "e) Suponga que el valor máquina encontrado en (a) es el valor real de φ. Calcule el error cometido con cada uno de los métodos y concluya cuál de ellos entrega una mejor aproximación.\n"
   ]
  },
  {
   "cell_type": "code",
   "execution_count": 5,
   "id": "8a5a1482",
   "metadata": {},
   "outputs": [
    {
     "name": "stdout",
     "output_type": "stream",
     "text": [
      "El error absoluto mediante el método de la bisección es: 7.426652626207897e-09\n"
     ]
    }
   ],
   "source": [
    "# Determina el error absoluto del método de la bisección\n",
    "Errorbiseccion = np.abs(phi-solucion)\n",
    "print(\"El error absoluto mediante el método de la bisección es:\", Errorbiseccion)"
   ]
  },
  {
   "cell_type": "markdown",
   "id": "d6b79943",
   "metadata": {},
   "source": [
    "----------------------------------------------------------\n"
   ]
  },
  {
   "cell_type": "markdown",
   "id": "2bb7cb60",
   "metadata": {},
   "source": [
    "a) Considere la función por partes definida por\n",
    "\n",
    "$$ \\theta(t) = \\left\\lbrace\n",
    "\\begin{matrix}\n",
    "3 & si & t<1 \\\\\n",
    "t-1 & si & 1<= t < 2 \\\\\n",
    "t & si & t>= 2\n",
    "\\end{matrix}\n",
    "\\right.\n",
    "$$\n",
    "\n",
    "reescriba la función en términos de la función de Heaviside, utilizando la notación de Jupyter para esta función"
   ]
  },
  {
   "cell_type": "code",
   "execution_count": 6,
   "id": "037922dd",
   "metadata": {},
   "outputs": [],
   "source": [
    "# Se declaran las variables simbólicas\n",
    "t,s = sp.symbols(\"t,s\")"
   ]
  },
  {
   "cell_type": "code",
   "execution_count": 13,
   "id": "9ed8b004",
   "metadata": {},
   "outputs": [
    {
     "data": {
      "image/png": "[encoded data removed]",
      "text/plain": [
       "<Figure size 432x288 with 1 Axes>"
      ]
     },
     "metadata": {
      "needs_background": "light"
     },
     "output_type": "display_data"
    },
    {
     "data": {
      "text/plain": [
       "<sympy.plotting.plot.Plot at 0x29062db8370>"
      ]
     },
     "execution_count": 13,
     "metadata": {},
     "output_type": "execute_result"
    }
   ],
   "source": [
    "# Se reescribe la función en términos de Heaviside\n",
    "f = 3 - 3*sp.Heaviside(t-1) + sp.Heaviside(t-1)*(t-1) - sp.Heaviside(t-2)*(t-1) + sp.Heaviside(t-2)*t \n",
    "f = 3 - (3-(t-1))*sp.Heaviside(t-1)+(t-(t-1))*sp.Heaviside(t-2)\n",
    "# Grafica la función\n",
    "sp.plot(f, xlim=(-2,8), ylim=(-2,8))"
   ]
  },
  {
   "cell_type": "markdown",
   "id": "81791ea6",
   "metadata": {},
   "source": [
    "b) Utilizando Transformada de Laplace y con ayuda de los comandos de Python, resuelva la ecuación\n",
    "\n",
    "$$ y''' + 2y'' = 1 + f(t) $$\n",
    "\n",
    "con condiciones $ y(0) = y'(0) = 0, y''(0) = 1 $, donde $f(t)$ es la función por partes definida en el apartado anterior."
   ]
  },
  {
   "cell_type": "code",
   "execution_count": 14,
   "id": "610b826a",
   "metadata": {},
   "outputs": [
    {
     "data": {
      "text/latex": [
       "$\\displaystyle \\frac{3}{s} - \\frac{3 e^{- s}}{s} + \\frac{e^{- 2 s}}{s} + \\frac{e^{- s}}{s^{2}}$"
      ],
      "text/plain": [
       "3/s - 3*exp(-s)/s + exp(-2*s)/s + exp(-s)/s**2"
      ]
     },
     "execution_count": 14,
     "metadata": {},
     "output_type": "execute_result"
    }
   ],
   "source": [
    "transformada = sp.laplace_transform(f,t,s,noconds=True)\n",
    "transformada"
   ]
  },
  {
   "cell_type": "code",
   "execution_count": 37,
   "id": "e1f42e43",
   "metadata": {},
   "outputs": [
    {
     "data": {
      "text/latex": [
       "$\\displaystyle 1 + \\frac{4}{s} - \\frac{3 e^{- s}}{s} + \\frac{e^{- 2 s}}{s} + \\frac{e^{- s}}{s^{2}}$"
      ],
      "text/plain": [
       "1 + 4/s - 3*exp(-s)/s + exp(-2*s)/s + exp(-s)/s**2"
      ]
     },
     "execution_count": 37,
     "metadata": {},
     "output_type": "execute_result"
    }
   ],
   "source": [
    "# Se calcula la transformada del lado derecho de la ecuación luego de utilizar la transformada de la derivada, tal que\n",
    "# L[Y](s**3 + 2*s**2) = 1 + L[1] + L[f(t)]\n",
    "transformada_2= 1 + (1/s) + transformada\n",
    "transformada_2"
   ]
  },
  {
   "cell_type": "code",
   "execution_count": 39,
   "id": "be5a0278",
   "metadata": {},
   "outputs": [
    {
     "data": {
      "text/latex": [
       "$\\displaystyle \\frac{1 + \\frac{4}{s} - \\frac{3 e^{- s}}{s} + \\frac{e^{- 2 s}}{s} + \\frac{e^{- s}}{s^{2}}}{s^{3} + 2 s^{2}}$"
      ],
      "text/plain": [
       "(1 + 4/s - 3*exp(-s)/s + exp(-2*s)/s + exp(-s)/s**2)/(s**3 + 2*s**2)"
      ]
     },
     "execution_count": 39,
     "metadata": {},
     "output_type": "execute_result"
    }
   ],
   "source": [
    "# Se despeja L[Y]\n",
    "Y = (transformada_2)/(s**3+2*s**2)\n",
    "Y"
   ]
  },
  {
   "cell_type": "code",
   "execution_count": 40,
   "id": "1a370235",
   "metadata": {},
   "outputs": [
    {
     "name": "stdout",
     "output_type": "stream",
     "text": [
      "y(s) =\n"
     ]
    },
    {
     "data": {
      "text/latex": [
       "$\\displaystyle \\frac{\\left(12 \\left(\\left(4 t^{2} - 2 t + 1\\right) e^{2 t} - 1\\right) \\theta\\left(t\\right) + \\left(6 \\left(2 t^{2} - 10 t - e^{4 - 2 t} + 13\\right) \\theta\\left(t - 2\\right) + \\left(4 t^{3} - 54 t^{2} + 138 t + 21 e^{2 - 2 t} - 109\\right) \\theta\\left(t - 1\\right)\\right) e^{2 t}\\right) e^{- 2 t}}{48}$"
      ],
      "text/plain": [
       "(12*((4*t**2 - 2*t + 1)*exp(2*t) - 1)*Heaviside(t) + (6*(2*t**2 - 10*t - exp(4 - 2*t) + 13)*Heaviside(t - 2) + (4*t**3 - 54*t**2 + 138*t + 21*exp(2 - 2*t) - 109)*Heaviside(t - 1))*exp(2*t))*exp(-2*t)/48"
      ]
     },
     "execution_count": 40,
     "metadata": {},
     "output_type": "execute_result"
    }
   ],
   "source": [
    "# Calcula la transformada inversa de Y(s) para obtener la función y(t)\n",
    "y = sp.inverse_laplace_transform(Y,s,t, noconds=True)\n",
    "print(\"y(s) =\")\n",
    "y"
   ]
  },
  {
   "cell_type": "markdown",
   "id": "4c7c381e",
   "metadata": {},
   "source": [
    "c) Grafique la solución de la ecuación diferencial y estudie el comportamiento de la solución $y(t)$ conforme $t → ∞$.\n"
   ]
  },
  {
   "cell_type": "code",
   "execution_count": 16,
   "id": "d85c92b3",
   "metadata": {},
   "outputs": [
    {
     "data": {
      "image/png": "[encoded data removed]",
      "text/plain": [
       "<Figure size 432x288 with 1 Axes>"
      ]
     },
     "metadata": {
      "needs_background": "light"
     },
     "output_type": "display_data"
    },
    {
     "data": {
      "text/plain": [
       "<sympy.plotting.plot.Plot at 0x2a78a8f9eb0>"
      ]
     },
     "execution_count": 16,
     "metadata": {},
     "output_type": "execute_result"
    }
   ],
   "source": [
    "# Grafica la solución y(t) de ecuación de la ecuación diferencial\n",
    "sp.plot(y, xlim=(0,15))"
   ]
  },
  {
   "cell_type": "code",
   "execution_count": 17,
   "id": "2ada80b6",
   "metadata": {},
   "outputs": [],
   "source": [
    "# Se observa que conforme t tiende al infinito, la solución y(t) tiene un comportamiento exponencial"
   ]
  }
 ],
 "metadata": {
  "kernelspec": {
   "display_name": "Python 3 (ipykernel)",
   "language": "python",
   "name": "python3"
  },
  "language_info": {
   "codemirror_mode": {
    "name": "ipython",
    "version": 3
   },
   "file_extension": ".py",
   "mimetype": "text/x-python",
   "name": "python",
   "nbconvert_exporter": "python",
   "pygments_lexer": "ipython3",
   "version": "3.9.7"
  }
 },
 "nbformat": 4,
 "nbformat_minor": 5
}
