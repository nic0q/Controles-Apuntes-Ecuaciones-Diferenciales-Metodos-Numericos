{
 "cells": [
  {
   "cell_type": "code",
   "execution_count": 2,
   "metadata": {},
   "outputs": [],
   "source": [
    "import matplotlib.pyplot as plt\n",
    "import sympy as sp\n",
    "import numpy as np"
   ]
  },
  {
   "cell_type": "markdown",
   "metadata": {},
   "source": [
    "# PREGUNTA 01\n",
    "\n",
    "El número áureo $\\phi$ satisface la ecuación \n",
    "$$ \\phi = 1+ \\frac{1}{\\phi}. $$\n",
    "de donde se puede obtener de manera relativamente sencilla que\n",
    "$$ \\phi = \\frac{1+\\sqrt{5}}{2} $$\n",
    "\n",
    "## a) Calcule directamente en Python el valor de $\\phi$.\n",
    "\n",
    "### Respuesta:"
   ]
  },
  {
   "cell_type": "code",
   "execution_count": 3,
   "metadata": {},
   "outputs": [
    {
     "data": {
      "text/plain": [
       "1.618033988749895"
      ]
     },
     "execution_count": 3,
     "metadata": {},
     "output_type": "execute_result"
    }
   ],
   "source": [
    "phi= (1+np.sqrt(5))/2\n",
    "phi"
   ]
  },
  {
   "cell_type": "markdown",
   "metadata": {},
   "source": [
    "## b) Defina una función adecuada para utilizar el método de Newton-Rhapson y aproxime el valor de $\\phi$, justificando la elección valor inicial elegido, con una tolerancia de $10^{-9}$.\n",
    "    \n",
    "   ### Respuesta:\n",
    "A partir de la ecuación\n",
    "$$ \\phi = 1+ \\frac{1}{\\phi} $$\n",
    "\n",
    "se sigue que\n",
    "$$ \\phi ^2 = \\phi +1, $$\n",
    "\n",
    "luego basta con definir la función \n",
    "$$ f(\\phi) = \\phi^2-\\phi-1 $$\n",
    "\n",
    "cuya raíz positiva, corresponde a una aproximación de $\\phi$.\n",
    "\n",
    "Con el resultado obtenido en $a)$ se intuye que un buen punto de partida es el valor $1$. Verificamos que es un buen valor, pues la derivada de la función elegida no se hace cero.\n",
    "\n",
    "$$ f'(1)= 1 $$\n",
    "\n",
    "por tanto se satisface la condición y es posible aplicar el método de Newton-Rhapson utilizando el código acontinuación:"
   ]
  },
  {
   "cell_type": "code",
   "execution_count": 4,
   "metadata": {},
   "outputs": [],
   "source": [
    "def metodo_Newton_Rhapson(x0,f,df,t): \n",
    "    while True:\n",
    "        x1 = x0 - (f(x0)/df(x0))\n",
    "        if np.abs(x0-x1)<t:\n",
    "            break\n",
    "        x0 = x1\n",
    "    return x1"
   ]
  },
  {
   "cell_type": "code",
   "execution_count": 5,
   "metadata": {},
   "outputs": [
    {
     "data": {
      "text/plain": [
       "1.618033988749895"
      ]
     },
     "execution_count": 5,
     "metadata": {},
     "output_type": "execute_result"
    }
   ],
   "source": [
    "def f(phi): return phi**2-phi-1 \n",
    "def df(phi):return 2*phi-1 \n",
    "metodo_Newton_Rhapson(1,f,df,1e-9)"
   ]
  },
  {
   "cell_type": "markdown",
   "metadata": {},
   "source": [
    "Por tanto, una aproximación de $\\phi$ vía Método de Newton-Rhapson con una tolerancia de $10^{-9}$ es\n",
    "\n",
    "$$ \\phi \\approx 1.618033988749895 $$"
   ]
  },
  {
   "cell_type": "markdown",
   "metadata": {},
   "source": [
    "## e) Suponga que el valor máquina encontrado en (a) es el valor real de $\\phi$. Calcule el error cometido con cada uno de los métodos y concluya cuál de ellos entrega una mejor aproximación.\n",
    "\n",
    "### Respuesta:\n",
    "\n",
    "Para concluir cuál de los métodos en mas certero, basta con calcular \n",
    "\n",
    "$$ E = \\vert \\phi - x_n \\vert, $$\n",
    "\n",
    "donde $\\phi$ es el valor obtenido en a. y $x_n$ la aproximación obtenida con cada método."
   ]
  },
  {
   "cell_type": "code",
   "execution_count": 6,
   "metadata": {},
   "outputs": [
    {
     "data": {
      "text/plain": [
       "0.0"
      ]
     },
     "execution_count": 6,
     "metadata": {},
     "output_type": "execute_result"
    }
   ],
   "source": [
    "Error_Newton_Rhapson = np.abs(phi - metodo_Newton_Rhapson(1,f,df,1e-9))\n",
    "Error_Newton_Rhapson"
   ]
  },
  {
   "cell_type": "markdown",
   "metadata": {},
   "source": [
    "A simple vista notamos que las aproximaciones entregadas por ambos métodos son exactamente las mismas que el valor entregado por Python. Con esto concluimos que, para esta aproximación, ambos métodos son igual de buenos."
   ]
  },
  {
   "cell_type": "markdown",
   "metadata": {},
   "source": [
    "# PREGUNTA 02\n",
    "\n",
    "Considere el la función por partes definida por\n",
    "$$f(t)= \\left\\{ \\begin{array}{lcc}\n",
    "             0 &   si  & t < 1 \\\\\n",
    "             \\\\ 1 &  si & 1 \\leq t < 2 \\\\\n",
    "             \\\\ 2 &  si & 2 \\leq t < 3\\\\\n",
    "             \\\\ 3 &  si  & t \\geq 3\n",
    "             \\end{array}\n",
    "   \\right. .$$\n",
    "\n",
    "## a) Reescriba  la función en términos de la función de Heaviside, utilizando la notación de Jupyter para esta función:\n",
    "    \n",
    "   ### Respuesta: \n",
    "   Primero definimos las variables:"
   ]
  },
  {
   "cell_type": "code",
   "execution_count": 9,
   "metadata": {},
   "outputs": [],
   "source": [
    "t,s =sp.symbols('t,s')"
   ]
  },
  {
   "cell_type": "markdown",
   "metadata": {},
   "source": [
    "Luego escribimos la función $f$ en términos de Heaviside y graficamos para comprobar:"
   ]
  },
  {
   "cell_type": "code",
   "execution_count": 19,
   "metadata": {},
   "outputs": [
    {
     "data": {
      "image/png": "[encoded data removed]",
      "text/plain": [
       "<Figure size 432x288 with 1 Axes>"
      ]
     },
     "metadata": {
      "needs_background": "light"
     },
     "output_type": "display_data"
    },
    {
     "data": {
      "text/plain": [
       "<sympy.plotting.plot.Plot at 0x2ec4abe7d60>"
      ]
     },
     "execution_count": 19,
     "metadata": {},
     "output_type": "execute_result"
    }
   ],
   "source": [
    "#f=sp.Heaviside(t-1)-sp.Heaviside(t-2)+sp.Heaviside(t-2)*2-sp.Heaviside(t-3)*2+sp.Heaviside(t-3)*3\n",
    "f = sp.Heaviside(t-1) + sp.Heaviside(t-2) + sp.Heaviside(t-3)\n",
    "sp.plot(f, xlim=(-1, 6), ylim=(0, 4))"
   ]
  },
  {
   "cell_type": "code",
   "execution_count": 20,
   "metadata": {},
   "outputs": [
    {
     "data": {
      "text/latex": [
       "$\\displaystyle \\theta\\left(t - 3\\right) + \\theta\\left(t - 2\\right) + \\theta\\left(t - 1\\right)$"
      ],
      "text/plain": [
       "Heaviside(t - 3) + Heaviside(t - 2) + Heaviside(t - 1)"
      ]
     },
     "execution_count": 20,
     "metadata": {},
     "output_type": "execute_result"
    }
   ],
   "source": [
    "f"
   ]
  },
  {
   "cell_type": "markdown",
   "metadata": {},
   "source": [
    "## b) Utilizando transformada de Laplace y con ayuda de los comandos de Python, resuelva la ecuación\n",
    "## $$ y''+2y'+y-1=f(t)$$\n",
    "\n",
    "## con condiciones $y(0)=0$, $y'(0)=1$, donde $f$ es la función por partes definida en el apartado anterior.\n",
    "    \n",
    "   ### Respuesta: \n",
    "   Aplicamos transformada de Laplace a la ecuación y obtenemos:\n",
    "   $$\\mathcal{L}\\left\\lbrace y''\\right\\rbrace+2 \\mathcal{L}\\left\\lbrace y'\\right\\rbrace+\\mathcal{L}\\left\\lbrace y\\right\\rbrace-\\mathcal{L}\\left\\lbrace 1\\right\\rbrace= \\mathcal{L}\\left\\lbrace f(t) \\right\\rbrace$$\n",
    "   que corresponde a:\n",
    "   $$s^2\\mathcal{L}\\left\\lbrace y(t)\\right\\rbrace-sy(0)-y'(0)+2\\left[s\\mathcal{L}\\left\\lbrace y(t)\\right\\rbrace-y(0)\\right]+\\mathcal{L}\\left\\lbrace y\\right\\rbrace-\\dfrac{1}{s}= \\mathcal{L}\\left\\lbrace f(t) \\right\\rbrace.$$\n",
    "   despejamos $\\mathcal{L}\\left\\lbrace y(t)\\right\\rbrace$ y tenemos:\n",
    "   $$\\mathcal{L}\\left\\lbrace y(t)\\right\\rbrace = \\dfrac{\\mathcal{L}\\left\\lbrace f(t) \\right\\rbrace}{\\left( s^2+2s+1\\right)}+\\dfrac{1}{s\\left( s^2+2s+1\\right)}+\\dfrac{1}{\\left( s^2+2s+1\\right)}.$$\n",
    "   Ahora calculamos $\\mathcal{L}\\left\\lbrace f(t) \\right\\rbrace$"
   ]
  },
  {
   "cell_type": "code",
   "execution_count": 22,
   "metadata": {},
   "outputs": [
    {
     "data": {
      "text/latex": [
       "$\\displaystyle \\frac{\\left(e^{2 s} + e^{s} + 1\\right) e^{- 3 s}}{s}$"
      ],
      "text/plain": [
       "(exp(2*s) + exp(s) + 1)*exp(-3*s)/s"
      ]
     },
     "execution_count": 22,
     "metadata": {},
     "output_type": "execute_result"
    }
   ],
   "source": [
    "F=sp.laplace_transform(f,t,s,noconds=True)\n",
    "F"
   ]
  },
  {
   "cell_type": "markdown",
   "metadata": {},
   "source": [
    "Luego tendremos:"
   ]
  },
  {
   "cell_type": "code",
   "execution_count": 36,
   "metadata": {},
   "outputs": [
    {
     "data": {
      "text/latex": [
       "$\\displaystyle \\frac{1}{s^{2} + 2 s + 1} + \\frac{\\left(e^{2 s} + e^{s} + 1\\right) e^{- 3 s}}{s \\left(s^{2} + 2 s + 1\\right)} + \\frac{1}{s \\left(s^{2} + 2 s + 1\\right)}$"
      ],
      "text/plain": [
       "1/(s**2 + 2*s + 1) + (exp(2*s) + exp(s) + 1)*exp(-3*s)/(s*(s**2 + 2*s + 1)) + 1/(s*(s**2 + 2*s + 1))"
      ]
     },
     "execution_count": 36,
     "metadata": {},
     "output_type": "execute_result"
    }
   ],
   "source": [
    "Y=F/(s**2+2*s+1)+1/(s*(s**2+2*s+1))+1/(s**2+2*s+1)\n",
    "Y"
   ]
  },
  {
   "cell_type": "markdown",
   "metadata": {},
   "source": [
    "y calculamos su transformada inversa:"
   ]
  },
  {
   "cell_type": "code",
   "execution_count": 34,
   "metadata": {},
   "outputs": [
    {
     "data": {
      "text/latex": [
       "$\\displaystyle \\left(t \\theta\\left(t\\right) - \\left(t - e^{t} + 1\\right) \\theta\\left(t\\right) + \\left(- \\left(t e^{1 - t} - 1\\right) \\theta\\left(t - 1\\right) + \\left(- t e^{2 - t} + e^{2 - t} + 1\\right) \\theta\\left(t - 2\\right) + \\left(- t e^{3 - t} + 2 e^{3 - t} + 1\\right) \\theta\\left(t - 3\\right)\\right) e^{t}\\right) e^{- t}$"
      ],
      "text/plain": [
       "(t*Heaviside(t) - (t - exp(t) + 1)*Heaviside(t) + (-(t*exp(1 - t) - 1)*Heaviside(t - 1) + (-t*exp(2 - t) + exp(2 - t) + 1)*Heaviside(t - 2) + (-t*exp(3 - t) + 2*exp(3 - t) + 1)*Heaviside(t - 3))*exp(t))*exp(-t)"
      ]
     },
     "execution_count": 34,
     "metadata": {},
     "output_type": "execute_result"
    }
   ],
   "source": [
    "y=sp.inverse_laplace_transform(Y,s,t,noconds=True)\n",
    "y"
   ]
  },
  {
   "cell_type": "markdown",
   "metadata": {},
   "source": [
    "## c) Grafique la solución de la ecuación diferencial y estudie el comportamiento de la solución $y$ conforme $t\\to\\infty$:\n",
    "    \n",
    "   ### Respuesta: \n",
    "   Graficamos:"
   ]
  },
  {
   "cell_type": "code",
   "execution_count": 35,
   "metadata": {},
   "outputs": [
    {
     "data": {
      "image/png": "[encoded data removed]",
      "text/plain": [
       "<Figure size 432x288 with 1 Axes>"
      ]
     },
     "metadata": {
      "needs_background": "light"
     },
     "output_type": "display_data"
    },
    {
     "data": {
      "text/plain": [
       "<sympy.plotting.plot.Plot at 0x2ec4b40f520>"
      ]
     },
     "execution_count": 35,
     "metadata": {},
     "output_type": "execute_result"
    }
   ],
   "source": [
    "sp.plot(y, xlim=(-1, 10), ylim=(0, 4))"
   ]
  },
  {
   "cell_type": "code",
   "execution_count": null,
   "metadata": {},
   "outputs": [],
   "source": []
  }
 ],
 "metadata": {
  "kernelspec": {
   "display_name": "Python 3 (ipykernel)",
   "language": "python",
   "name": "python3"
  },
  "language_info": {
   "codemirror_mode": {
    "name": "ipython",
    "version": 3
   },
   "file_extension": ".py",
   "mimetype": "text/x-python",
   "name": "python",
   "nbconvert_exporter": "python",
   "pygments_lexer": "ipython3",
   "version": "3.9.7"
  }
 },
 "nbformat": 4,
 "nbformat_minor": 4
}
