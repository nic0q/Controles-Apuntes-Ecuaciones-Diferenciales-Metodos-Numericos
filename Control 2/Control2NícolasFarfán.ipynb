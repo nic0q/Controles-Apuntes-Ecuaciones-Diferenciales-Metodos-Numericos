{
 "cells": [
  {
   "cell_type": "code",
   "execution_count": 265,
   "id": "333b8949",
   "metadata": {},
   "outputs": [],
   "source": [
    "import matplotlib.pyplot as plt\n",
    "import numpy as np\n",
    "import sympy as sp"
   ]
  },
  {
   "cell_type": "markdown",
   "id": "f555d058",
   "metadata": {},
   "source": [
    "## Pregunta 1\n",
    "\n",
    "Considere el PVI \n",
    "$$ t ^2 y' - ty +y^2 = 0 \\quad ; \\quad y(1)=1 $$\n",
    "\n",
    "a) Utilice el método RK4 para obtener una aproximación de $y(10)$ considerando $h=0.01$.\n",
    "\n",
    "## Solución:"
   ]
  },
  {
   "cell_type": "markdown",
   "id": "8174e551",
   "metadata": {},
   "source": [
    "Se despeja y' para aplicar poder el método de RK4, definiendo la funcion"
   ]
  },
  {
   "cell_type": "code",
   "execution_count": 266,
   "id": "bf351545",
   "metadata": {},
   "outputs": [],
   "source": [
    "def f(t,y): return (t*y-(y**2))/(t**2)"
   ]
  },
  {
   "cell_type": "markdown",
   "id": "e8dff7a4",
   "metadata": {},
   "source": [
    "y' = (t * y - y^2) / t^2"
   ]
  },
  {
   "cell_type": "markdown",
   "id": "f96cac6c",
   "metadata": {},
   "source": [
    "Se definen los parametros de entrada de la función"
   ]
  },
  {
   "cell_type": "code",
   "execution_count": 267,
   "id": "6faa44e7",
   "metadata": {},
   "outputs": [],
   "source": [
    "x0 = 1\n",
    "xn = 10\n",
    "y0 = 1\n",
    "h = 0.01\n",
    "n = int((xn-x0)/h) # 900"
   ]
  },
  {
   "cell_type": "code",
   "execution_count": 268,
   "id": "ff389de0",
   "metadata": {},
   "outputs": [],
   "source": [
    "def RK4(f, x0, xn, y0, n): # Se define el metodo RK4\n",
    "    X = np.linspace(x0,xn,n+1)\n",
    "    Y = np.linspace(x0,xn,n+1)                 \n",
    "    Y[0] = y0        \n",
    "    h = (xn-x0)/n     \n",
    "    for i in range(n):\n",
    "        K1=f(X[i],Y[i]) \n",
    "        K2=f(X[i]+h/2,Y[i]+(h/2)*K1) \n",
    "        K3=f(X[i]+h/2,Y[i]+(h/2)*K2) \n",
    "        K4=f(X[i]+h,Y[i]+h*K3)\n",
    "        Y[i+1] = Y[i] +(h/6)*(K1+2*K2+2*K3+K4)\n",
    "    coord = dict()\n",
    "    coord['x'] = X\n",
    "    coord['y'] = Y \n",
    "    return coord"
   ]
  },
  {
   "cell_type": "markdown",
   "id": "f3b4b594",
   "metadata": {},
   "source": [
    "La aproximación obtenida por el método RK4, es 3.0279310655977727, calculada la siguiente forma:  "
   ]
  },
  {
   "cell_type": "code",
   "execution_count": 269,
   "id": "ab370e7c",
   "metadata": {},
   "outputs": [
    {
     "data": {
      "text/plain": [
       "3.0279310655977727"
      ]
     },
     "execution_count": 269,
     "metadata": {},
     "output_type": "execute_result"
    }
   ],
   "source": [
    "solve = RK4(f, 1, 10, 1, 900) # Se reemplazan los parametros\n",
    "X = solve['x']\n",
    "Y = solve['y']\n",
    "Y[-1] # Se obtiene la aproximación por RK[4] de y(10) accediendo al ultimo elemento"
   ]
  },
  {
   "cell_type": "markdown",
   "id": "e34d2907",
   "metadata": {},
   "source": [
    "b) La solución explícita al PVI está dado por\n",
    "\n",
    "$$ y(t) = \\frac{1}{1+\\ln t}  $$\n",
    "\n",
    "Calcule el error cometido al aproximar $y(10)$ y justifique si es una buena aproximación.\n",
    "\n",
    "\n",
    "## Solución:"
   ]
  },
  {
   "cell_type": "markdown",
   "id": "37b6f7f6",
   "metadata": {},
   "source": [
    "Solución explícita del PVI"
   ]
  },
  {
   "cell_type": "code",
   "execution_count": 270,
   "id": "645ede0a",
   "metadata": {},
   "outputs": [
    {
     "data": {
      "text/plain": [
       "4.3365755431068465e-11"
      ]
     },
     "execution_count": 270,
     "metadata": {},
     "output_type": "execute_result"
    }
   ],
   "source": [
    "def f(t): return t/(1+np.log(t))\n",
    "t = 10\n",
    "Error = np.abs(t/(1+np.log(t)) - Y[-1])\n",
    "Error"
   ]
  },
  {
   "cell_type": "code",
   "execution_count": 271,
   "id": "375c10a1",
   "metadata": {},
   "outputs": [
    {
     "data": {
      "text/plain": [
       "<matplotlib.legend.Legend at 0x1ade0066730>"
      ]
     },
     "execution_count": 271,
     "metadata": {},
     "output_type": "execute_result"
    },
    {
     "data": {
      "image/png": "[encoded data removed]",
      "text/plain": [
       "<Figure size 432x288 with 1 Axes>"
      ]
     },
     "metadata": {
      "needs_background": "light"
     },
     "output_type": "display_data"
    }
   ],
   "source": [
    "# Adicionalmente se puede observar el comportamiento de la solución y la aproximación por RK4\n",
    "x = np.linspace(1,10,100)\n",
    "plt.plot(x, f(x),linewidth=1, linestyle='-', color=(0.4, 0.2 ,0.5), label='solución')\n",
    "plt.plot(X, Y,linewidth=3, linestyle=':', color=(0.4, 0.9 ,0.5), label='método runge kutta orden 4')\n",
    "plt.grid()\n",
    "plt.legend()"
   ]
  },
  {
   "cell_type": "markdown",
   "id": "8f199347",
   "metadata": {},
   "source": [
    "Como se puede observar el error es muy pequeño (4.3365755431068465e-11) y como se puede ver además en la grafica se acerca en gran medida al original."
   ]
  },
  {
   "cell_type": "markdown",
   "id": "007462e3",
   "metadata": {},
   "source": [
    "## Pregunta 2\n",
    "\n",
    "Considere la ecuación diferencial\n",
    "$$  y''' - \\alpha^2 y' =  g(t) $$\n",
    "donde $g$ es la función continua por partes definida por\n",
    "$$ g(t) = \n",
    "\\left\\lbrace\n",
    "\\begin{matrix}\n",
    "t & \\textrm{si} & 0 < t \\leq 2 \\\\\n",
    "e^{ \\alpha t}  & \\textrm{si} & 2 < t \\leq 4 \\\\\n",
    "0 & \\textrm{si} &  t > 4\n",
    "\\end{matrix}\n",
    "\\right.$$\n",
    "\n",
    "\n",
    "a) Defina variables reales $t$ y $s$ y la constante real positiva $ \\alpha $.\n",
    "## Solución:"
   ]
  },
  {
   "cell_type": "code",
   "execution_count": 272,
   "id": "e2e87185",
   "metadata": {},
   "outputs": [],
   "source": [
    "t,s = sp.symbols('t,s',real=True)\n",
    "a = sp.Symbol('alpha',real=True,positive=True)"
   ]
  },
  {
   "cell_type": "markdown",
   "id": "859596e1",
   "metadata": {},
   "source": [
    "b) Reescriba $g$ en términos de la función de Heaviside (o de salto o salto unitario)\n",
    "## Solución:"
   ]
  },
  {
   "cell_type": "code",
   "execution_count": 273,
   "id": "810a5e9e",
   "metadata": {},
   "outputs": [
    {
     "data": {
      "text/latex": [
       "$\\displaystyle t + \\left(- t + e^{\\alpha t}\\right) \\theta\\left(t - 2\\right) - e^{\\alpha t} \\theta\\left(t - 4\\right)$"
      ],
      "text/plain": [
       "t + (-t + exp(alpha*t))*Heaviside(t - 2) - exp(alpha*t)*Heaviside(t - 4)"
      ]
     },
     "execution_count": 273,
     "metadata": {},
     "output_type": "execute_result"
    }
   ],
   "source": [
    "g = t + (sp.exp(a*t)-t)*sp.Heaviside(t-2)-(sp.exp(a*t))*sp.Heaviside(t-4)\n",
    "g"
   ]
  },
  {
   "cell_type": "markdown",
   "id": "a11d3752",
   "metadata": {},
   "source": [
    "c) Resuelva la EDO con las condiciones iniciales $y(0)=y'(0)=y''(0)=0$\n",
    "## Solución:\n"
   ]
  },
  {
   "cell_type": "markdown",
   "id": "5ddac455",
   "metadata": {},
   "source": [
    "Se calcula la tranformada de la funcion de Heaviside"
   ]
  },
  {
   "cell_type": "code",
   "execution_count": 274,
   "id": "b5c1fb4b",
   "metadata": {},
   "outputs": [
    {
     "data": {
      "text/latex": [
       "$\\displaystyle \\frac{\\left(s^{2} \\left(- e^{2 \\alpha - 2 s} + e^{4 \\alpha - 4 s}\\right) e^{2 s} - \\left(\\alpha - s\\right) \\left(2 s + 1\\right) + \\left(\\alpha - s\\right) e^{2 s}\\right) e^{- 2 s}}{s^{2} \\left(\\alpha - s\\right)}$"
      ],
      "text/plain": [
       "(s**2*(-exp(2*alpha - 2*s) + exp(4*alpha - 4*s))*exp(2*s) - (alpha - s)*(2*s + 1) + (alpha - s)*exp(2*s))*exp(-2*s)/(s**2*(alpha - s))"
      ]
     },
     "execution_count": 274,
     "metadata": {},
     "output_type": "execute_result"
    }
   ],
   "source": [
    "transfHev = sp.laplace_transform(g,t,s,noconds=True)\n",
    "transfHev"
   ]
  },
  {
   "cell_type": "markdown",
   "id": "b12e9e52",
   "metadata": {},
   "source": [
    "Despejando L[y] (en fisico) queda de la siguiente forma"
   ]
  },
  {
   "cell_type": "code",
   "execution_count": 275,
   "id": "43983539",
   "metadata": {},
   "outputs": [
    {
     "data": {
      "text/latex": [
       "$\\displaystyle \\frac{\\left(s^{2} \\left(- e^{2 \\alpha - 2 s} + e^{4 \\alpha - 4 s}\\right) e^{2 s} - \\left(\\alpha - s\\right) \\left(2 s + 1\\right) + \\left(\\alpha - s\\right) e^{2 s}\\right) e^{- 2 s}}{s^{2} \\left(\\alpha - s\\right) \\left(- \\alpha^{2} s + s^{3}\\right)}$"
      ],
      "text/plain": [
       "(s**2*(-exp(2*alpha - 2*s) + exp(4*alpha - 4*s))*exp(2*s) - (alpha - s)*(2*s + 1) + (alpha - s)*exp(2*s))*exp(-2*s)/(s**2*(alpha - s)*(-alpha**2*s + s**3))"
      ]
     },
     "execution_count": 275,
     "metadata": {},
     "output_type": "execute_result"
    }
   ],
   "source": [
    "Ly = transfHev/(s**3-a**2*s)\n",
    "Ly"
   ]
  },
  {
   "cell_type": "markdown",
   "id": "c085ae7b",
   "metadata": {},
   "source": [
    "Se calcula la tranformada inversa para hallar y"
   ]
  },
  {
   "cell_type": "code",
   "execution_count": null,
   "id": "964c3188",
   "metadata": {},
   "outputs": [],
   "source": [
    "y = sp.inverse_laplace_transform(Ly,s,t,noconds=True)\n",
    "y"
   ]
  }
 ],
 "metadata": {
  "kernelspec": {
   "display_name": "Python 3 (ipykernel)",
   "language": "python",
   "name": "python3"
  },
  "language_info": {
   "codemirror_mode": {
    "name": "ipython",
    "version": 3
   },
   "file_extension": ".py",
   "mimetype": "text/x-python",
   "name": "python",
   "nbconvert_exporter": "python",
   "pygments_lexer": "ipython3",
   "version": "3.9.7"
  }
 },
 "nbformat": 4,
 "nbformat_minor": 5
}
