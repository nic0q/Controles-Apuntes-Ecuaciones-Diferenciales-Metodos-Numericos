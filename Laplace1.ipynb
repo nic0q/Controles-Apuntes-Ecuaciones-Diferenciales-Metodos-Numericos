{
 "cells": [
  {
   "cell_type": "code",
   "execution_count": 2,
   "metadata": {},
   "outputs": [],
   "source": [
    "import matplotlib.pyplot as plt\n",
    "import sympy as sp # Simbolico"
   ]
  },
  {
   "cell_type": "markdown",
   "metadata": {},
   "source": [
    "# Transformada de Laplace\n",
    "\n",
    "Si $f(t)$ es una función definida en $[0,\\infty[$ con $t$ y $f$ reales, entonces la transformada de Laplace de la función $f$ se denota por $\\mathcal{L}\\lbrace f(t) \\rbrace = F(s)$ y se define como la integral\n",
    "$$ \\mathcal{L}\\lbrace f(t) \\rbrace = F(s) = \\int_{0}^{\\infty} f(t) e^{-st} dt $$\n",
    "siempre que la anterior sea convergente."
   ]
  },
  {
   "cell_type": "markdown",
   "metadata": {},
   "source": [
    "### Definiendo variables simbólicas\n",
    "alternativa 1:\n"
   ]
  },
  {
   "cell_type": "code",
   "execution_count": 3,
   "metadata": {},
   "outputs": [],
   "source": [
    "t = sp.Symbol('t')\n",
    "s = sp.Symbol('s')"
   ]
  },
  {
   "cell_type": "markdown",
   "metadata": {},
   "source": [
    "alternativa 2:"
   ]
  },
  {
   "cell_type": "code",
   "execution_count": 4,
   "metadata": {},
   "outputs": [],
   "source": [
    "t,s = sp.symbols('t,s')"
   ]
  },
  {
   "cell_type": "markdown",
   "metadata": {},
   "source": [
    "# Ejemplo 1\n",
    "\n",
    "Integrando de manera directa, calcular $\\mathcal{L}\\lbrace t^2 \\rbrace = \\displaystyle\\int_{0}^{\\infty} t^2 e^{-st } dt$"
   ]
  },
  {
   "cell_type": "code",
   "execution_count": 5,
   "metadata": {},
   "outputs": [
    {
     "data": {
      "text/latex": [
       "$\\displaystyle \\begin{cases} \\frac{2}{s^{3}} & \\text{for}\\: \\left|{\\arg{\\left(s \\right)}}\\right| < \\frac{\\pi}{2} \\\\\\int\\limits_{0}^{\\infty} t^{2} e^{- s t}\\, dt & \\text{otherwise} \\end{cases}$"
      ],
      "text/plain": [
       "Piecewise((2/s**3, Abs(arg(s)) < pi/2), (Integral(t**2*exp(-s*t), (t, 0, oo)), True))"
      ]
     },
     "execution_count": 5,
     "metadata": {},
     "output_type": "execute_result"
    }
   ],
   "source": [
    "f = t**2\n",
    "sp.integrate(f*sp.exp(-s*t),(t,0,sp.oo))"
   ]
  },
  {
   "cell_type": "markdown",
   "metadata": {},
   "source": [
    "Sympy tiene una función llamada `laplace_transform` que hace esto de manera eficiente y que también retorna condiciones de convergencia de la integral."
   ]
  },
  {
   "cell_type": "markdown",
   "metadata": {},
   "source": [
    "# Ejemplo 2\n",
    "\n",
    "Calcular transformada de Laplace de $f(t)=t^2$"
   ]
  },
  {
   "cell_type": "code",
   "execution_count": 6,
   "metadata": {},
   "outputs": [
    {
     "data": {
      "text/plain": [
       "(6/(7*s**4), 0, True)"
      ]
     },
     "execution_count": 6,
     "metadata": {},
     "output_type": "execute_result"
    }
   ],
   "source": [
    "f = t**3/7\n",
    "sp.laplace_transform(f,t,s)"
   ]
  },
  {
   "cell_type": "markdown",
   "metadata": {},
   "source": [
    "Si deseamos solo la función sin importar las condiciones de convergencia, agregamos `noconds=True`"
   ]
  },
  {
   "cell_type": "code",
   "execution_count": 7,
   "metadata": {},
   "outputs": [
    {
     "data": {
      "text/latex": [
       "$\\displaystyle \\frac{6}{7 s^{4}}$"
      ],
      "text/plain": [
       "6/(7*s**4)"
      ]
     },
     "execution_count": 7,
     "metadata": {},
     "output_type": "execute_result"
    }
   ],
   "source": [
    "sp.laplace_transform(f,t,s,noconds=True)"
   ]
  },
  {
   "cell_type": "markdown",
   "metadata": {},
   "source": [
    "# Ejemplo 3\n",
    "Calcular la transformada inversa de Laplace $F(s)= \\dfrac{2}{s^3}$"
   ]
  },
  {
   "cell_type": "code",
   "execution_count": 8,
   "metadata": {},
   "outputs": [
    {
     "data": {
      "text/latex": [
       "$\\displaystyle t^{2} \\theta\\left(t\\right)$"
      ],
      "text/plain": [
       "t**2*Heaviside(t)"
      ]
     },
     "execution_count": 8,
     "metadata": {},
     "output_type": "execute_result"
    }
   ],
   "source": [
    "f = 2/s**3\n",
    "sp.inverse_laplace_transform(f,s,t,noconds=True)\n",
    "# 𝜃(t) = u(t)"
   ]
  },
  {
   "cell_type": "markdown",
   "metadata": {},
   "source": [
    "# Ejemplo 4\n",
    "\n",
    "Calcular transformada de Laplace de $f(t)=e^{-\\alpha t}$ con $\\alpha \\in \\mathbb{R}^+$. Utilice su resultado para calcular su inversa."
   ]
  },
  {
   "cell_type": "code",
   "execution_count": 9,
   "metadata": {},
   "outputs": [
    {
     "data": {
      "text/latex": [
       "$\\displaystyle \\frac{1}{\\alpha + s}$"
      ],
      "text/plain": [
       "1/(alpha + s)"
      ]
     },
     "execution_count": 9,
     "metadata": {},
     "output_type": "execute_result"
    }
   ],
   "source": [
    "a = sp.Symbol('alpha',real=True,positive=True)\n",
    "f = sp.exp(-a*t)\n",
    "inv = sp.laplace_transform(f,t,s,noconds=True)\n",
    "inv"
   ]
  },
  {
   "cell_type": "code",
   "execution_count": 10,
   "metadata": {},
   "outputs": [
    {
     "data": {
      "text/latex": [
       "$\\displaystyle e^{- \\alpha t} \\theta\\left(t\\right)$"
      ],
      "text/plain": [
       "exp(-alpha*t)*Heaviside(t)"
      ]
     },
     "execution_count": 10,
     "metadata": {},
     "output_type": "execute_result"
    }
   ],
   "source": [
    "sp.inverse_laplace_transform(inv,s,t,noconds=True)"
   ]
  },
  {
   "cell_type": "markdown",
   "metadata": {},
   "source": [
    "# Ejemplo 5\n",
    "\n",
    "Calcular la transformada de Laplace de \n",
    "$$ g(t) = e^{A t}(\\cos Bt + \\sin Ct), $$\n",
    "con $A,B,C$ variables reales y $A>0$."
   ]
  },
  {
   "cell_type": "code",
   "execution_count": 11,
   "metadata": {},
   "outputs": [
    {
     "data": {
      "text/latex": [
       "$\\displaystyle \\frac{C \\left(B^{2} + \\left(A - s\\right)^{2}\\right) + \\left(- A + s\\right) \\left(C^{2} + \\left(A - s\\right)^{2}\\right)}{\\left(B^{2} + \\left(A - s\\right)^{2}\\right) \\left(C^{2} + \\left(A - s\\right)^{2}\\right)}$"
      ],
      "text/plain": [
       "(C*(B**2 + (A - s)**2) + (-A + s)*(C**2 + (A - s)**2))/((B**2 + (A - s)**2)*(C**2 + (A - s)**2))"
      ]
     },
     "execution_count": 11,
     "metadata": {},
     "output_type": "execute_result"
    }
   ],
   "source": [
    "A = sp.Symbol('A',real=True,positive=True)\n",
    "B,C = sp.symbols('B,C',real=True)\n",
    "f = sp.exp(A*t)*(sp.cos(B*t)+sp.sin(C*t))\n",
    "sp.laplace_transform(f,t,s,noconds=True)"
   ]
  },
  {
   "cell_type": "markdown",
   "metadata": {},
   "source": [
    "# Ejemplo 6\n",
    "\n",
    "Calcular la transformada de Laplace inversa de \n",
    "$$ H(s) = \\dfrac{(s+1)s}{(s+4)^2} $$"
   ]
  },
  {
   "cell_type": "code",
   "execution_count": 12,
   "metadata": {},
   "outputs": [
    {
     "data": {
      "text/latex": [
       "$\\displaystyle \\left(12 t \\theta\\left(t\\right) + e^{4 t} \\delta\\left(t\\right) - 7 \\theta\\left(t\\right)\\right) e^{- 4 t}$"
      ],
      "text/plain": [
       "(12*t*Heaviside(t) + exp(4*t)*DiracDelta(t) - 7*Heaviside(t))*exp(-4*t)"
      ]
     },
     "execution_count": 12,
     "metadata": {},
     "output_type": "execute_result"
    }
   ],
   "source": [
    "f = (s+1)*s/(s+4)**2\n",
    "sp.inverse_laplace_transform(f,s,t,noconds=True)\n",
    "sp.inverse_laplace_transform(f.apart(s),s,t,noconds=True) # version opcional para las fracciones parciales\n",
    "# Funcion delta de Dirac -> EN un punto x salta al infinito\n",
    "#detal(t-a){0 -> t != a\n",
    "#           inf -> t = a\n",
    "#          }"
   ]
  },
  {
   "cell_type": "code",
   "execution_count": 13,
   "metadata": {},
   "outputs": [
    {
     "data": {
      "text/latex": [
       "$\\displaystyle \\theta\\left(t\\right)$"
      ],
      "text/plain": [
       "Heaviside(t)"
      ]
     },
     "execution_count": 13,
     "metadata": {},
     "output_type": "execute_result"
    }
   ],
   "source": [
    "sp.Heaviside(t)"
   ]
  },
  {
   "cell_type": "markdown",
   "metadata": {},
   "source": [
    "# Función de salto unitario o Heaviside\n",
    "\n",
    "Se define como\n",
    "$$ \\theta(t) = \\left\\lbrace\n",
    "\\begin{matrix}\n",
    "0 & si & t<0 \\\\\n",
    "1 & si & t\\geq 0\n",
    "\\end{matrix}\n",
    "\\right.\n",
    "$$\n",
    "\n",
    "o de manera alternativa\n",
    "\n",
    "$$ \\theta(t) = \\left\\lbrace\n",
    "\\begin{matrix}\n",
    "0 & si & t<0 \\\\\n",
    "\\frac{1}{2} & si & t= 0 \\\\\n",
    "1 & si & t>0\n",
    "\\end{matrix}\n",
    "\\right.\n",
    "$$"
   ]
  },
  {
   "cell_type": "code",
   "execution_count": 14,
   "metadata": {},
   "outputs": [
    {
     "data": {
      "image/png": "[encoded data removed]",
      "text/plain": [
       "<Figure size 432x288 with 1 Axes>"
      ]
     },
     "metadata": {
      "needs_background": "light"
     },
     "output_type": "display_data"
    },
    {
     "data": {
      "text/plain": [
       "<sympy.plotting.plot.Plot at 0x24b803b9490>"
      ]
     },
     "execution_count": 14,
     "metadata": {},
     "output_type": "execute_result"
    }
   ],
   "source": [
    "sp.plot(sp.Heaviside(t))"
   ]
  },
  {
   "cell_type": "markdown",
   "metadata": {},
   "source": [
    "# Ejemplo 7\n",
    "\n",
    "Calcular la transformada de Laplace de la función salto unitario. Replicar el cálculo con una traslación $\\theta(t-A)$. Realizar el gráfico.\n"
   ]
  },
  {
   "cell_type": "code",
   "execution_count": 15,
   "metadata": {},
   "outputs": [
    {
     "data": {
      "image/png": "[encoded data removed]",
      "text/plain": [
       "<Figure size 432x288 with 1 Axes>"
      ]
     },
     "metadata": {
      "needs_background": "light"
     },
     "output_type": "display_data"
    },
    {
     "data": {
      "text/plain": [
       "<sympy.plotting.plot.Plot at 0x24b805bbca0>"
      ]
     },
     "execution_count": 15,
     "metadata": {},
     "output_type": "execute_result"
    }
   ],
   "source": [
    "f = sp.Heaviside(t-1)\n",
    "sp.laplace_transform(f,t,s,noconds=True)\n",
    "sp.plot(f)"
   ]
  },
  {
   "cell_type": "code",
   "execution_count": null,
   "metadata": {},
   "outputs": [],
   "source": []
  },
  {
   "cell_type": "code",
   "execution_count": null,
   "metadata": {},
   "outputs": [],
   "source": []
  },
  {
   "cell_type": "markdown",
   "metadata": {},
   "source": [
    "# Ejemplo 8\n",
    "\n",
    "Graficar la función\n",
    "$$f(t)= \\left\\lbrace\n",
    "\\begin{matrix}\n",
    "0 & si & t<2 \\\\\n",
    "t^3 & si & t\\geq 2\n",
    "\\end{matrix}\n",
    "\\right. $$\n",
    "\n",
    "y calcular su transformada de Laplace.\n"
   ]
  },
  {
   "cell_type": "code",
   "execution_count": 16,
   "metadata": {},
   "outputs": [
    {
     "data": {
      "image/png": "[encoded data removed]",
      "text/plain": [
       "<Figure size 432x288 with 1 Axes>"
      ]
     },
     "metadata": {
      "needs_background": "light"
     },
     "output_type": "display_data"
    },
    {
     "data": {
      "text/latex": [
       "$\\displaystyle \\frac{2 \\left(4 s^{3} + 6 s^{2} + 6 s + 3\\right) e^{- 2 s}}{s^{4}}$"
      ],
      "text/plain": [
       "2*(4*s**3 + 6*s**2 + 6*s + 3)*exp(-2*s)/s**4"
      ]
     },
     "execution_count": 16,
     "metadata": {},
     "output_type": "execute_result"
    }
   ],
   "source": [
    "f = t**3 * sp.Heaviside(t-2)\n",
    "sp.plot(f,xlim=(-1,4),ylim=(1,30))\n",
    "sp.laplace_transform(f,t,s,noconds=True)\n"
   ]
  },
  {
   "cell_type": "code",
   "execution_count": null,
   "metadata": {},
   "outputs": [],
   "source": []
  },
  {
   "cell_type": "markdown",
   "metadata": {},
   "source": [
    "# Ejemplo 11\n",
    "\n",
    "Calcular la transformada de Laplace de \n",
    "$$ g(t)= \\left\\lbrace\n",
    "\\begin{matrix}\n",
    "0 & si & t<1 \\\\\n",
    "t^2 & si & 1\\leq t \\leq 4 \\\\\n",
    "e^{-t} & si & t>4\n",
    "\\end{matrix}\n",
    "\\right. $$"
   ]
  },
  {
   "cell_type": "code",
   "execution_count": 17,
   "metadata": {},
   "outputs": [
    {
     "data": {
      "image/png": "[encoded data removed]",
      "text/plain": [
       "<Figure size 432x288 with 1 Axes>"
      ]
     },
     "metadata": {
      "needs_background": "light"
     },
     "output_type": "display_data"
    },
    {
     "data": {
      "text/plain": [
       "<sympy.plotting.plot.Plot at 0x24b81672f10>"
      ]
     },
     "execution_count": 17,
     "metadata": {},
     "output_type": "execute_result"
    }
   ],
   "source": [
    "f = t**2*sp.Heaviside(t-1) - t**2*sp.Heaviside(t-4)+ sp.exp(-t)*sp.Heaviside(t-4)\n",
    "sp.laplace_transform(f,t,s,noconds=True)\n",
    "sp.plot(f,xlim=(-1,8),ylim=(1,20))"
   ]
  },
  {
   "cell_type": "markdown",
   "metadata": {},
   "source": [
    "# Transformada de Laplace\n",
    "\n",
    "<b>Propiedad Lineal </b>: \n",
    "\n",
    "\n",
    "Para $\\alpha, \\beta \\in \\mathbb{R}$ y $f,g$ funciones\n",
    "\n",
    "$\\mathcal{L} \\lbrace \\alpha f(t) + \\beta g(t) \\rbrace = \\alpha \\mathcal{L}\\lbrace f(t) \\rbrace + \\beta \\mathcal{L}\\lbrace g(t) \\rbrace$\n",
    "\n",
    "<b>Transformada de derivada </b>:\n",
    "\n",
    "$\\mathcal{L}\\lbrace f^{(n)}(t) \\rbrace =s^n\\mathcal{L}\\lbrace f(t) \\rbrace - \\displaystyle\\sum_{i=1}^n s^{n-i} f^{i-1}(0) = s^n \\mathcal{L}\\lbrace f(t) \\rbrace - s^{(n-1)}f(0)-...-f^{(n-1)}(0)$"
   ]
  },
  {
   "cell_type": "markdown",
   "metadata": {},
   "source": [
    "# Ejemplo 12 CONTROL CON CONSTANTES: Trabajar mitad y mitad\n",
    "**una parte en papel y una parte en python**\n",
    "\n",
    "Utilizando transformada de Laplace, resolver el PVI\n",
    "\n",
    "$$ y'' + 3y'+3 = e^t $$\n",
    "\n",
    "con condiciones iniciales $y(0)=1, y'(0)=2$."
   ]
  },
  {
   "cell_type": "code",
   "execution_count": 18,
   "metadata": {},
   "outputs": [
    {
     "data": {
      "text/latex": [
       "$\\displaystyle 5 t \\theta\\left(t\\right) + 3 \\mathcal{L}^{-1}_{s}\\left[s\\right]\\left(t\\right) + \\frac{e^{t} \\theta\\left(t\\right)}{4} - \\frac{7 \\theta\\left(t\\right)}{3} + \\frac{e^{- 3 t} \\theta\\left(t\\right)}{12}$"
      ],
      "text/plain": [
       "5*t*Heaviside(t) + 3*InverseLaplaceTransform(s, s, t, _None) + exp(t)*Heaviside(t)/4 - 7*Heaviside(t)/3 + exp(-3*t)*Heaviside(t)/12"
      ]
     },
     "execution_count": 18,
     "metadata": {},
     "output_type": "execute_result"
    }
   ],
   "source": [
    "f = 1/((s-1)*(s**2+3*s))+(s+5)/s**2+3*s-3/s\n",
    "sp.inverse_laplace_transform(f.apart(s),s,t,noconds=True)"
   ]
  },
  {
   "cell_type": "markdown",
   "metadata": {},
   "source": [
    "# Ejemplo 13\n",
    "\n",
    "Resolver el PVI\n",
    "$$ y''' = f(t),  $$\n",
    "con condiciones iniciales $y''(0)=y'(0)=1, y(0)=0$, donde $f$ está definida por\n",
    "\n",
    "$$\n",
    "f(t) = \\left\\lbrace\n",
    "\\begin{matrix}\n",
    "2 & si & t<3 \\\\\n",
    "t+1 & si & 3 \\leq t \\leq 4 \\\\\n",
    "0 & si & t>4\n",
    "\\end{matrix}\n",
    "\\right.\n",
    "$$"
   ]
  },
  {
   "cell_type": "code",
   "execution_count": 19,
   "metadata": {},
   "outputs": [
    {
     "data": {
      "image/png": "[encoded data removed]",
      "text/plain": [
       "<Figure size 432x288 with 1 Axes>"
      ]
     },
     "metadata": {
      "needs_background": "light"
     },
     "output_type": "display_data"
    },
    {
     "data": {
      "text/plain": [
       "<sympy.plotting.plot.Plot at 0x24b81a14190>"
      ]
     },
     "execution_count": 19,
     "metadata": {},
     "output_type": "execute_result"
    }
   ],
   "source": [
    "f = 2 + ((t+1)-2)*sp.Heaviside(t-3) - (t+1)*sp.Heaviside(t-4) # Función de Heaviside\n",
    "sp.plot(f,xlim=(0,10),ylim=(0,10)) # Graficando"
   ]
  },
  {
   "cell_type": "code",
   "execution_count": 20,
   "metadata": {},
   "outputs": [
    {
     "data": {
      "text/latex": [
       "$\\displaystyle \\frac{\\left(2 s e^{4 s} + 2 s e^{s} - 5 s + e^{s} - 1\\right) e^{- 4 s}}{s^{2}}$"
      ],
      "text/plain": [
       "(2*s*exp(4*s) + 2*s*exp(s) - 5*s + exp(s) - 1)*exp(-4*s)/s**2"
      ]
     },
     "execution_count": 20,
     "metadata": {},
     "output_type": "execute_result"
    }
   ],
   "source": [
    "trasnfHev = sp.laplace_transform(f,t,s,noconds=True) # Transformada de laplace de la función Heaviside\n",
    "trasnfHev"
   ]
  },
  {
   "cell_type": "code",
   "execution_count": 21,
   "metadata": {},
   "outputs": [
    {
     "data": {
      "text/latex": [
       "$\\displaystyle \\frac{s + 1}{s^{3}} + \\frac{\\left(2 s e^{4 s} + 2 s e^{s} - 5 s + e^{s} - 1\\right) e^{- 4 s}}{s^{5}}$"
      ],
      "text/plain": [
       "(s + 1)/s**3 + (2*s*exp(4*s) + 2*s*exp(s) - 5*s + exp(s) - 1)*exp(-4*s)/s**5"
      ]
     },
     "execution_count": 21,
     "metadata": {},
     "output_type": "execute_result"
    }
   ],
   "source": [
    "Ly= (s + 1)/s**3 + trasnfHev/s**3 \n",
    "Ly"
   ]
  },
  {
   "cell_type": "code",
   "execution_count": 22,
   "metadata": {},
   "outputs": [
    {
     "data": {
      "text/latex": [
       "$\\displaystyle \\frac{t^{3} \\theta\\left(t\\right)}{3} + \\frac{t \\left(t + 2\\right) \\theta\\left(t\\right)}{2} - \\frac{\\left(- t^{4} + 4 t^{3} + 18 t^{2} - 108 t + 135\\right) \\theta\\left(t - 3\\right)}{24} - \\frac{\\left(t^{4} + 4 t^{3} - 144 t^{2} + 704 t - 1024\\right) \\theta\\left(t - 4\\right)}{24}$"
      ],
      "text/plain": [
       "t**3*Heaviside(t)/3 + t*(t + 2)*Heaviside(t)/2 - (-t**4 + 4*t**3 + 18*t**2 - 108*t + 135)*Heaviside(t - 3)/24 - (t**4 + 4*t**3 - 144*t**2 + 704*t - 1024)*Heaviside(t - 4)/24"
      ]
     },
     "execution_count": 22,
     "metadata": {},
     "output_type": "execute_result"
    }
   ],
   "source": [
    "y = sp.inverse_laplace_transform(Ly,s,t,noconds=True)\n",
    "y"
   ]
  }
 ],
 "metadata": {
  "kernelspec": {
   "display_name": "Python 3 (ipykernel)",
   "language": "python",
   "name": "python3"
  },
  "language_info": {
   "codemirror_mode": {
    "name": "ipython",
    "version": 3
   },
   "file_extension": ".py",
   "mimetype": "text/x-python",
   "name": "python",
   "nbconvert_exporter": "python",
   "pygments_lexer": "ipython3",
   "version": "3.9.7"
  }
 },
 "nbformat": 4,
 "nbformat_minor": 4
}
