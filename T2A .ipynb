{
 "cells": [
  {
   "cell_type": "code",
   "execution_count": 3,
   "id": "f8ee6e51",
   "metadata": {},
   "outputs": [],
   "source": [
    "import sympy as sp\n",
    "import numpy as np"
   ]
  },
  {
   "cell_type": "markdown",
   "id": "1a7f85a6",
   "metadata": {},
   "source": [
    "# Pregunta 1\n",
    "\n",
    " El número áureo $\\phi$ satisface la ecuación \n",
    " $$ \\phi = 1+ \\frac{1}{\\phi}. $$\n",
    " de donde se puede obtener de manera relativamente sencilla que\n",
    " $$ \\phi = \\frac{1+\\sqrt{5}}{2} $$\n",
    "\n",
    "## a. Calcule directamente en Python el valor de $\\phi$.\n",
    "\n",
    "### Respuesta:"
   ]
  },
  {
   "cell_type": "code",
   "execution_count": 4,
   "id": "98f2b240",
   "metadata": {},
   "outputs": [
    {
     "data": {
      "text/plain": [
       "1.618033988749895"
      ]
     },
     "execution_count": 4,
     "metadata": {},
     "output_type": "execute_result"
    }
   ],
   "source": [
    "phi= (1+np.sqrt(5))/2\n",
    "phi"
   ]
  },
  {
   "cell_type": "markdown",
   "id": "b2e8c217",
   "metadata": {},
   "source": [
    "b. Defina una función adecuada para utilizar el método de la bisección y aproxime el valor de $\\phi$, justificando la elección del intervalo elegido, con una tolerancia de $10^{-6}$."
   ]
  },
  {
   "cell_type": "markdown",
   "id": "736fb46c",
   "metadata": {},
   "source": [
    "A partir de la ecuación\n",
    "$$ \\phi = 1+ \\frac{1}{\\phi} $$\n",
    "\n",
    "se sigue que\n",
    "$$ \\phi ^2 = \\phi +1, $$\n",
    "\n",
    "luego basta con definir la función \n",
    "$$ f(\\phi) = \\phi^2-\\phi-1 $$\n",
    "\n",
    "cuya raíz positiva, corresponde a una aproximación de $\\phi$.\n",
    "\n",
    "Con el resultado obtenido en a. se intuye que un buen punto de partida es el intervalo $[1,2]$. Verificamos si se cumplen las hipótesis del Teorema de Bolzano con esta elección. Notamos que\n",
    "\n",
    "$$ f(1)= -1 < 0$$\n",
    "y\n",
    "$$ f(2)= 1 > 0 $$\n",
    "\n",
    "por tanto se satisfacen las condiciones y es posible aplicar el método de la bisección utilizando el código acontinuación:"
   ]
  },
  {
   "cell_type": "code",
   "execution_count": 5,
   "id": "e9b07c23",
   "metadata": {},
   "outputs": [
    {
     "data": {
      "text/plain": [
       "1.6180334091186523"
      ]
     },
     "execution_count": 5,
     "metadata": {},
     "output_type": "execute_result"
    }
   ],
   "source": [
    "def f(phi): return phi**2-phi-1 \n",
    "\n",
    "def biseccion(a,b,f,tolerancia):\n",
    "    while (np.abs(a-b)>=tolerancia):\n",
    "        xi = (a+b)/2.0\n",
    "        prod = f(a)*f(xi)\n",
    "        if prod<0:\n",
    "            b = xi\n",
    "        else:\n",
    "            if prod>0:\n",
    "                a = xi\n",
    "            else:\n",
    "                if prod==0:\n",
    "                    a = xi\n",
    "                    b = xi\n",
    "    return xi\n",
    "\n",
    "biseccion(1,2,f,1e-6)"
   ]
  },
  {
   "cell_type": "markdown",
   "id": "0505af05",
   "metadata": {},
   "source": [
    "Por tanto, una aproximación de $\\phi$ vía Método de bisección con una tolerancia de $10^{-6}$ es\n",
    "\n",
    "$$ \\phi \\approx 1.6180334091186523 $$"
   ]
  },
  {
   "cell_type": "markdown",
   "id": "a708feb6",
   "metadata": {},
   "source": [
    "c. El método de la secante es una variación del método de Newton Rhapson, donde en vez de calcular la derivada de la función, ésta se sustituye por una aproximación de la pendiente de la recta tangente $f'(x_{n+1})\\approx \\dfrac{f(x_n)-f(x_{n-1})}{x_n - x_{n-1}} $  , resultando en el siguiente algoritmo:\n",
    "\n",
    "\n",
    "* Datos de entrada: $x_0 , x_1,$tolerancia, función\n",
    "* Para $n=1,2,3...$ calcular\n",
    "$$ x_{n+1}=x_n - \\left[ \\frac{x_n-x_{n-1}}{f(x_n)-f(x_{n-1})} \\right] f(x_n) $$\n",
    "hasta que $|x_{n+1}-x_n|<$tolerancia\n",
    "\n",
    "\n",
    "Elabore un código en Python para dicho algoritmo."
   ]
  },
  {
   "cell_type": "code",
   "execution_count": 6,
   "id": "b70995ce",
   "metadata": {},
   "outputs": [],
   "source": [
    "def secante(f, x0, x1, tol):   \n",
    "    while (np.abs(x0-x1)>=tol):\n",
    "        x2 = x1 - f(x1) * (x1 - x0)/(f(x1) - f(x0))\n",
    "        x0 = x1\n",
    "        x1 = x2\n",
    "    return x2"
   ]
  },
  {
   "cell_type": "markdown",
   "id": "b75e2026",
   "metadata": {},
   "source": [
    "d. Utilice el código del item (c) con una tolerancia de $10^{-6}$ para encontrar una aproximación de $\\phi$.\n",
    "\n",
    "Puesto que el método es una modificación del método de Newton-Rhapson, es necesario que los puntos $x_0$ y $x_1$ de partida sean puntos cercanos a la raíz. En este caso, basta con utilizar (por ejemplo) $x_0=1$ y $x_1=1$ como en el método anterior. Considerando la misma tolerancia, resulta lo siguiente:"
   ]
  },
  {
   "cell_type": "code",
   "execution_count": 7,
   "id": "742bd597",
   "metadata": {},
   "outputs": [
    {
     "data": {
      "text/plain": [
       "1.6180339887499087"
      ]
     },
     "execution_count": 7,
     "metadata": {},
     "output_type": "execute_result"
    }
   ],
   "source": [
    "secante(f,1,2,1e-6)"
   ]
  },
  {
   "cell_type": "markdown",
   "id": "d6a668ca",
   "metadata": {},
   "source": [
    "Por tanto, una aproximación de $\\phi$ vía Método de la secante con una tolerancia de $10^{-6}$ es\n",
    "\n",
    "$$ \\phi \\approx 1.6180339887499087 $$"
   ]
  },
  {
   "cell_type": "markdown",
   "id": "9f76933f",
   "metadata": {},
   "source": [
    "e. Suponga que el valor máquina encontrado en (a) es el valor real de $\\phi$. Calcule el error cometido con cada uno de los métodos y concluya cuál de ellos entrega una mejor aproximación.\n",
    "\n",
    "Para concluir cuál de los métodos en mas certero, basta con calcular \n",
    "\n",
    "$$ E = \\vert \\phi - x_n \\vert, $$\n",
    "\n",
    "donde $\\phi$ es el valor obtenido en a. y $x_n$ la aproximación obtenida con cada método."
   ]
  },
  {
   "cell_type": "code",
   "execution_count": 8,
   "id": "c7944bb2",
   "metadata": {},
   "outputs": [
    {
     "data": {
      "text/plain": [
       "5.796312425587757e-07"
      ]
     },
     "execution_count": 8,
     "metadata": {},
     "output_type": "execute_result"
    }
   ],
   "source": [
    "Error_Biseccion = np.abs(phi - biseccion(1,2,f,1e-6))\n",
    "Error_Biseccion"
   ]
  },
  {
   "cell_type": "code",
   "execution_count": 9,
   "id": "5013846f",
   "metadata": {},
   "outputs": [
    {
     "data": {
      "text/plain": [
       "1.3766765505351941e-14"
      ]
     },
     "execution_count": 9,
     "metadata": {},
     "output_type": "execute_result"
    }
   ],
   "source": [
    "Error_Secante = np.abs(phi-secante(f,1,2,1e-6))\n",
    "Error_Secante"
   ]
  },
  {
   "cell_type": "markdown",
   "id": "2b0c5aaa",
   "metadata": {},
   "source": [
    "Comparamos cuál de los errores cometidos es más pequeño. A simple vista notamos que el error cometido por el método de la secante es mucho mas pequeño. Podemos verificar nuestro resultado con el siguiente código:"
   ]
  },
  {
   "cell_type": "code",
   "execution_count": 11,
   "id": "b317b4f2",
   "metadata": {},
   "outputs": [
    {
     "name": "stdout",
     "output_type": "stream",
     "text": [
      "El método de la secante es más preciso\n"
     ]
    }
   ],
   "source": [
    "if Error_Secante>Error_Biseccion:\n",
    "    print(\"El método de la Bisección es más preciso\")\n",
    "elif Error_Secante<Error_Biseccion:\n",
    "    print(\"El método de la secante es más preciso\")\n",
    "elif Error_Secante==Error_Biseccion:\n",
    "    print(\"ambos métodos son igual de efectivos\")"
   ]
  },
  {
   "cell_type": "markdown",
   "id": "7bf3833d",
   "metadata": {},
   "source": [
    "# PREGUNTA 02\n",
    "\n",
    "Considere el la función por partes definida por\n",
    "$$f(t)= \\left\\{ \\begin{array}{lcc}\n",
    "             3 &   si  & t < 1 \\\\\n",
    "             \\\\ t-1 &  si & 1 \\leq t < 2 \\\\\n",
    "             \\\\ t &  si  & t \\geq 2\n",
    "             \\end{array}\n",
    "   \\right. .$$\n",
    "\n",
    "## a) Reescriba  la función en términos de la función de Heaviside, utilizando la notación de Jupyter para esta función:\n",
    "    \n",
    "   ### Respuesta: \n",
    "   Primero definimos las variables:"
   ]
  },
  {
   "cell_type": "code",
   "execution_count": 12,
   "id": "68f1ae7a",
   "metadata": {},
   "outputs": [],
   "source": [
    "t,s =sp.symbols('t,s')"
   ]
  },
  {
   "cell_type": "markdown",
   "id": "961dd9bf",
   "metadata": {},
   "source": [
    "Luego escribimos la función $f$ en términos de Heaviside:"
   ]
  },
  {
   "cell_type": "code",
   "execution_count": 13,
   "id": "ed6772f0",
   "metadata": {},
   "outputs": [
    {
     "data": {
      "text/latex": [
       "$\\displaystyle t \\theta\\left(t - 2\\right) - \\left(t - 1\\right) \\theta\\left(t - 2\\right) + \\left(t - 1\\right) \\theta\\left(t - 1\\right) - 3 \\theta\\left(t - 1\\right) + 3$"
      ],
      "text/plain": [
       "t*Heaviside(t - 2) - (t - 1)*Heaviside(t - 2) + (t - 1)*Heaviside(t - 1) - 3*Heaviside(t - 1) + 3"
      ]
     },
     "execution_count": 13,
     "metadata": {},
     "output_type": "execute_result"
    }
   ],
   "source": [
    "f=3-sp.Heaviside(t-1)*3+sp.Heaviside(t-1)*(t-1)-sp.Heaviside(t-2)*(t-1)+sp.Heaviside(t-2)*t\n",
    "f"
   ]
  },
  {
   "cell_type": "markdown",
   "id": "37f3dafa",
   "metadata": {},
   "source": [
    "De manera opcional podemos graficar para comprobar"
   ]
  },
  {
   "cell_type": "code",
   "execution_count": 14,
   "id": "3540a1be",
   "metadata": {},
   "outputs": [
    {
     "data": {
      "image/png": "[encoded data removed]",
      "text/plain": [
       "<Figure size 432x288 with 1 Axes>"
      ]
     },
     "metadata": {
      "needs_background": "light"
     },
     "output_type": "display_data"
    },
    {
     "data": {
      "text/plain": [
       "<sympy.plotting.plot.Plot at 0x2ae01e929a0>"
      ]
     },
     "execution_count": 14,
     "metadata": {},
     "output_type": "execute_result"
    }
   ],
   "source": [
    "sp.plot(f, xlim=(-1, 6), ylim=(0, 8))"
   ]
  },
  {
   "cell_type": "markdown",
   "id": "46adc026",
   "metadata": {},
   "source": [
    "## b) Utilizando transformada de Laplace y con ayuda de los comandos de Python, resuelva la ecuación\n",
    "## $$ y'''+2y''=1+f(t)$$\n",
    "\n",
    "## con condiciones $y(0)=y'(0)=0$, $y''(0)=1$, donde $f$ es la función por partes definida en el apartado anterior.\n",
    "    \n",
    "   ### Respuesta: \n",
    "   Aplicamos transformada de Laplace a la ecuación y obtenemos:\n",
    "   $$\\mathcal{L}\\left\\lbrace y'''\\right\\rbrace+2 \\mathcal{L}\\left\\lbrace y''\\right\\rbrace= \\mathcal{L}\\left\\lbrace 1 \\right\\rbrace+\\mathcal{L}\\left\\lbrace f(t) \\right\\rbrace$$\n",
    "   que corresponde a:\n",
    "   $$s^3\\mathcal{L}\\left\\lbrace y(t)\\right\\rbrace-s^2y(0)-sy'(0)-y''(0)+2\\left[s^2\\mathcal{L}\\left\\lbrace y(t)\\right\\rbrace-sy(0)-y'(0) \\right] = \\dfrac{1}{s}+\\mathcal{L}\\left\\lbrace f(t) \\right\\rbrace.$$\n",
    "   Calculamos ahora $\\mathcal{L}\\left\\lbrace f(t) \\right\\rbrace$:"
   ]
  },
  {
   "cell_type": "code",
   "execution_count": 12,
   "id": "05fef243",
   "metadata": {},
   "outputs": [
    {
     "data": {
      "text/latex": [
       "$\\displaystyle \\frac{3}{s} - \\frac{3 e^{- s}}{s} + \\frac{e^{- 2 s}}{s} + \\frac{e^{- s}}{s^{2}}$"
      ],
      "text/plain": [
       "3/s - 3*exp(-s)/s + exp(-2*s)/s + exp(-s)/s**2"
      ]
     },
     "execution_count": 12,
     "metadata": {},
     "output_type": "execute_result"
    }
   ],
   "source": [
    "F=sp.laplace_transform(f,t,s,noconds=True)\n",
    "F"
   ]
  },
  {
   "cell_type": "markdown",
   "id": "17d2bb4b",
   "metadata": {},
   "source": [
    "Aplicando las condiciones iniciales establecidas en el enunciado y la expresión que acabamos de calcular tendremos:\n",
    "$$s^3\\mathcal{L}\\left\\lbrace y(t)\\right\\rbrace-1+2 s^2\\mathcal{L}\\left\\lbrace y(t)\\right\\rbrace = \\dfrac{1}{s}+\\dfrac{3-3e^{-s}+e^{-2s}}{s}+\\dfrac{e^{-s}}{s^2}.$$\n",
    "despejamos $\\mathcal{L}\\left\\lbrace y(t) \\right\\rbrace$ y tendremos:\n",
    "$$\\mathcal{L}\\left\\lbrace y(t)\\right\\rbrace \\left( s^3+2s^2 \\right) = \\dfrac{1}{s}+\\dfrac{3-3e^{-s}+e^{-2s}}{s}+\\dfrac{e^{-s}}{s^2}+1.$$\n",
    "$$\\mathcal{L}\\left\\lbrace y(t)\\right\\rbrace  = \\dfrac{1}{s\\left( s^3+2s^2 \\right)}+\\dfrac{3-3e^{-s}+e^{-2s}}{s\\left( s^3+2s^2 \\right)}+\\dfrac{e^{-s}}{s^2\\left( s^3+2s^2 \\right)}+\\dfrac{1}{\\left( s^3+2s^2 \\right)}.$$\n",
    "Ahora calculamos la transfromada inversa de Laplace de dicha expresión, para ello definimos:"
   ]
  },
  {
   "cell_type": "code",
   "execution_count": 13,
   "id": "91c6d31f",
   "metadata": {},
   "outputs": [
    {
     "data": {
      "text/latex": [
       "$\\displaystyle \\frac{\\frac{3}{s} - \\frac{3 e^{- s}}{s} + \\frac{e^{- 2 s}}{s} + \\frac{e^{- s}}{s^{2}}}{s^{3} + 2 s^{2}} + \\frac{1}{s^{3} + 2 s^{2}} + \\frac{1}{s \\left(s^{3} + 2 s^{2}\\right)}$"
      ],
      "text/plain": [
       "(3/s - 3*exp(-s)/s + exp(-2*s)/s + exp(-s)/s**2)/(s**3 + 2*s**2) + 1/(s**3 + 2*s**2) + 1/(s*(s**3 + 2*s**2))"
      ]
     },
     "execution_count": 13,
     "metadata": {},
     "output_type": "execute_result"
    }
   ],
   "source": [
    "Y=F/(s**3+2*s**2)+1/(s*(s**3+2*s**2))+1/(s**3+2*s**2)\n",
    "Y"
   ]
  },
  {
   "cell_type": "markdown",
   "id": "453cc3d0",
   "metadata": {},
   "source": [
    "y calculamos su transformada inversa:"
   ]
  },
  {
   "cell_type": "code",
   "execution_count": 14,
   "id": "7ba5c13f",
   "metadata": {},
   "outputs": [
    {
     "data": {
      "text/latex": [
       "$\\displaystyle \\frac{\\left(12 \\left(\\left(4 t^{2} - 2 t + 1\\right) e^{2 t} - 1\\right) \\theta\\left(t\\right) + \\left(6 \\left(2 t^{2} - 10 t - e^{4 - 2 t} + 13\\right) \\theta\\left(t - 2\\right) + \\left(4 t^{3} - 54 t^{2} + 138 t + 21 e^{2 - 2 t} - 109\\right) \\theta\\left(t - 1\\right)\\right) e^{2 t}\\right) e^{- 2 t}}{48}$"
      ],
      "text/plain": [
       "(12*((4*t**2 - 2*t + 1)*exp(2*t) - 1)*Heaviside(t) + (6*(2*t**2 - 10*t - exp(4 - 2*t) + 13)*Heaviside(t - 2) + (4*t**3 - 54*t**2 + 138*t + 21*exp(2 - 2*t) - 109)*Heaviside(t - 1))*exp(2*t))*exp(-2*t)/48"
      ]
     },
     "execution_count": 14,
     "metadata": {},
     "output_type": "execute_result"
    }
   ],
   "source": [
    "y=sp.inverse_laplace_transform(Y,s,t,noconds=True)\n",
    "y"
   ]
  },
  {
   "cell_type": "markdown",
   "id": "baefe863",
   "metadata": {},
   "source": [
    "## c) Grafique la solución de la ecuación diferencial y estudie el comportamiento de la solución $y$ conforme $t\\to\\infty$:\n",
    "    \n",
    "   ### Respuesta: \n",
    "   Graficamos:"
   ]
  },
  {
   "cell_type": "code",
   "execution_count": 15,
   "id": "449667a3",
   "metadata": {},
   "outputs": [
    {
     "data": {
      "image/png": "[encoded data removed]",
      "text/plain": [
       "<Figure size 432x288 with 1 Axes>"
      ]
     },
     "metadata": {
      "needs_background": "light"
     },
     "output_type": "display_data"
    },
    {
     "data": {
      "text/plain": [
       "<sympy.plotting.plot.Plot at 0x1f824d3f880>"
      ]
     },
     "execution_count": 15,
     "metadata": {},
     "output_type": "execute_result"
    }
   ],
   "source": [
    "sp.plot(y, xlim=(-1, 3), ylim=(0, 7))"
   ]
  },
  {
   "cell_type": "markdown",
   "id": "642d0ebb",
   "metadata": {},
   "source": [
    "De acuerdo con el gráfico, es claro que la función $y\\to\\infty$ cuando $t\\to \\infty $. De manera alternativa es posible calcular $\\displaystyle\\lim_{t \\to \\infty} y(t)$ directamente. "
   ]
  }
 ],
 "metadata": {
  "kernelspec": {
   "display_name": "Python 3 (ipykernel)",
   "language": "python",
   "name": "python3"
  },
  "language_info": {
   "codemirror_mode": {
    "name": "ipython",
    "version": 3
   },
   "file_extension": ".py",
   "mimetype": "text/x-python",
   "name": "python",
   "nbconvert_exporter": "python",
   "pygments_lexer": "ipython3",
   "version": "3.9.7"
  }
 },
 "nbformat": 4,
 "nbformat_minor": 5
}
