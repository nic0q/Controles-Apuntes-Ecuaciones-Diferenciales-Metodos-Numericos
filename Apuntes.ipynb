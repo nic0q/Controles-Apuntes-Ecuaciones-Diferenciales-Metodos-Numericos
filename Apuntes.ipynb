{
 "cells": [
  {
   "cell_type": "code",
   "execution_count": 2,
   "id": "333b8949",
   "metadata": {},
   "outputs": [],
   "source": [
    "import matplotlib.pyplot as plt\n",
    "import numpy as np\n",
    "import sympy as sp"
   ]
  },
  {
   "cell_type": "markdown",
   "id": "f555d058",
   "metadata": {},
   "source": [
    "## Pregunta 1\n",
    "\n",
    "La siguiente EDO autónoma \n",
    "$$ y' -e^{-2y}-y+2 = 0 $$\n",
    "posee dos puntos de equilibrio. \n",
    "\n",
    "\n",
    "Recuerdo: Dada una EDO autónoma $y'=f(y)$, si $f(y_0) = 0$ se dice que el valor $y_0$ es un punto de equilibrio.\n",
    "\n",
    "a) Utilizando el Teorema de Bolzano, determine un intervalo adecuado que asegure la existencia del punto de equilibrio para cada punto.\n",
    "## Solución:"
   ]
  },
  {
   "cell_type": "code",
   "execution_count": 4,
   "id": "51f74fd0",
   "metadata": {},
   "outputs": [
    {
     "name": "stdout",
     "output_type": "stream",
     "text": [
      "[ -0.8646647167633872 98.0 ]\n",
      "f(1)*f(100) = -84.73714224281194\n"
     ]
    }
   ],
   "source": [
    "def f(y): return np.exp(-2*y)+y-2\n",
    "f(1)\n",
    "f(100)\n",
    "print(\"[\",f(1),f(100),\"]\")\n",
    "print(\"f(1)*f(100) =\",f(1)*f(100)) \n",
    "# Aplicando Teorema de Bolzano, se selecciona el intervalo [1,100]\n",
    "# Dado que:\n",
    "# f(1) * f(100) < 0\n",
    "# por lo que se puede asegurar la existencia \n",
    "# de una solución en dicho intervalo"
   ]
  },
  {
   "cell_type": "markdown",
   "id": "b80d5eb5",
   "metadata": {},
   "source": [
    "b) Utilice el método de la bisección para determinar una aproximación de los puntos de equilibrio. Para ello utilice una tolerancia igual a $10^{-10}$.\n",
    "\n",
    "## Solución:"
   ]
  },
  {
   "cell_type": "code",
   "execution_count": 52,
   "id": "5169f65d",
   "metadata": {},
   "outputs": [
    {
     "data": {
      "text/plain": [
       "1.980973983828335"
      ]
     },
     "execution_count": 52,
     "metadata": {},
     "output_type": "execute_result"
    }
   ],
   "source": [
    "tol = 10**-10\n",
    "def bisec(a,b,f,tol):\n",
    "    xi = (a + b) / 2\n",
    "    tynxt = 0\n",
    "    while(abs(tynxt-xi)>=tol):\n",
    "        if(f(a)*f(xi) < 0):\n",
    "            b = xi\n",
    "        elif(f(a)*f(xi) > 0):\n",
    "            a = xi \n",
    "        if(f(a)*f(xi) != 0):\n",
    "            tynxt = xi\n",
    "            xi = (a + b) / 2\n",
    "        else:\n",
    "            tynxt = xi\n",
    "    return xi\n",
    "bisec(1,100,f,tol)"
   ]
  },
  {
   "cell_type": "markdown",
   "id": "63e18bdc",
   "metadata": {},
   "source": [
    "## Pregunta 2\n",
    "\n",
    "Considere la ecuación diferencial\n",
    "$$  y^{(4)} - \\alpha^2 y'' = t^2 + h(t) $$\n",
    "donde $h$ es la función continua por partes definida por\n",
    "$$ h(t) = \n",
    "\\left\\lbrace\n",
    "\\begin{matrix}\n",
    "0 & \\textrm{si} & 0 < t \\leq 3 \\\\\n",
    "\\alpha t^2 & \\textrm{si} & 3 < t \\leq 4 \\\\\n",
    " \\alpha & \\textrm{si} &  t \\geq 4 \n",
    "\\end{matrix}\n",
    "\\right.$$\n",
    "\n",
    "a) Defina variables reales $t$ y $s$ y la constante real positiva $ \\alpha $.\n",
    "## Solución:"
   ]
  },
  {
   "cell_type": "code",
   "execution_count": null,
   "id": "fee3e7cc",
   "metadata": {},
   "outputs": [],
   "source": [
    "t,s = sp.symbols('t,s',real=True)\n",
    "a = sp.Symbol('alpha',real=True,positive=True)"
   ]
  },
  {
   "cell_type": "markdown",
   "id": "99b9a94a",
   "metadata": {},
   "source": [
    "b) Reescriba $h$ en términos de la función de Heaviside (o de salto o salto unitario)\n",
    "## Solución:"
   ]
  },
  {
   "cell_type": "code",
   "execution_count": 103,
   "id": "b65b49bc",
   "metadata": {},
   "outputs": [
    {
     "data": {
      "image/png": "[encoded data removed]",
      "text/plain": [
       "<Figure size 432x288 with 1 Axes>"
      ]
     },
     "metadata": {
      "needs_background": "light"
     },
     "output_type": "display_data"
    },
    {
     "data": {
      "text/plain": [
       "<sympy.plotting.plot.Plot at 0x1dfe6ab0670>"
      ]
     },
     "execution_count": 103,
     "metadata": {},
     "output_type": "execute_result"
    }
   ],
   "source": [
    "a = 1 # Para este ejercicio de asume a = 1 para poder modelar la función de Heaviside\n",
    "h = (a*t**2)*sp.Heaviside(t-3)-((a*t**2)-a)*sp.Heaviside(t-4)\n",
    "sp.plot(h,xlim=(0,8),ylim=(0,17)) # Graficando para verificar"
   ]
  },
  {
   "cell_type": "markdown",
   "id": "01094084",
   "metadata": {},
   "source": [
    "c) Resuelva la EDO con las condiciones iniciales $y(0)=y'(0)=1, y''(0)=y'''(0) =0$\n",
    "## Solución:"
   ]
  },
  {
   "cell_type": "code",
   "execution_count": 98,
   "id": "61f98312",
   "metadata": {},
   "outputs": [
    {
     "data": {
      "text/latex": [
       "$\\displaystyle \\frac{\\left(- 15 s^{2} - 8 s + \\left(9 s^{2} + 6 s + 2\\right) e^{s} - 2\\right) e^{- 4 s}}{s^{3}}$"
      ],
      "text/plain": [
       "(-15*s**2 - 8*s + (9*s**2 + 6*s + 2)*exp(s) - 2)*exp(-4*s)/s**3"
      ]
     },
     "execution_count": 98,
     "metadata": {},
     "output_type": "execute_result"
    }
   ],
   "source": [
    "# Se calcula la trasnformada de la función de Heaviside\n",
    "transfHev = sp.laplace_transform(h,t,s,noconds=True)\n",
    "transfHev"
   ]
  },
  {
   "cell_type": "code",
   "execution_count": 101,
   "id": "9063b6b6",
   "metadata": {},
   "outputs": [
    {
     "data": {
      "text/latex": [
       "$\\displaystyle \\frac{s^{3} + s^{2} - s - 1 + \\frac{\\left(- 15 s^{2} - 8 s + \\left(9 s^{2} + 6 s + 2\\right) e^{s} - 2\\right) e^{- 4 s}}{s^{3}} + \\frac{2}{s^{3}}}{s^{4} - s^{2}}$"
      ],
      "text/plain": [
       "(s**3 + s**2 - s - 1 + (-15*s**2 - 8*s + (9*s**2 + 6*s + 2)*exp(s) - 2)*exp(-4*s)/s**3 + 2/s**3)/(s**4 - s**2)"
      ]
     },
     "execution_count": 101,
     "metadata": {},
     "output_type": "execute_result"
    }
   ],
   "source": [
    "Ly = (transfHev + s**3 + s**2 - s - 1 + 2/s**3) /(s**4-s**2) # Se despeja L[y]\n",
    "Ly"
   ]
  },
  {
   "cell_type": "code",
   "execution_count": 102,
   "id": "814cdb34",
   "metadata": {},
   "outputs": [
    {
     "data": {
      "text/latex": [
       "$\\displaystyle \\frac{\\left(\\left(t^{4} e^{4 - t} + 6 t^{2} e^{4 - t} - 208 t e^{4 - t} + 684 e^{4 - t} - 54 e^{8 - 2 t} - 150\\right) \\theta\\left(t - 4\\right) - \\left(t^{4} e^{4 - t} + 12 t^{2} e^{4 - t} - 108 t e^{4 - t} + 267 e^{4 - t} - 30 e^{7 - 2 t} - 102 e\\right) \\theta\\left(t - 3\\right) - \\left(t^{4} e^{4 - t} + 12 t^{2} e^{4 - t} - 12 t e^{4 - t} - 12 e^{4 - 2 t} + 12 e^{4 - t} - 12 e^{4}\\right) \\theta\\left(t\\right)\\right) e^{t - 4}}{12}$"
      ],
      "text/plain": [
       "((t**4*exp(4 - t) + 6*t**2*exp(4 - t) - 208*t*exp(4 - t) + 684*exp(4 - t) - 54*exp(8 - 2*t) - 150)*Heaviside(t - 4) - (t**4*exp(4 - t) + 12*t**2*exp(4 - t) - 108*t*exp(4 - t) + 267*exp(4 - t) - 30*exp(7 - 2*t) - 102*E)*Heaviside(t - 3) - (t**4*exp(4 - t) + 12*t**2*exp(4 - t) - 12*t*exp(4 - t) - 12*exp(4 - 2*t) + 12*exp(4 - t) - 12*exp(4))*Heaviside(t))*exp(t - 4)/12"
      ]
     },
     "execution_count": 102,
     "metadata": {},
     "output_type": "execute_result"
    }
   ],
   "source": [
    "y = sp.inverse_laplace_transform(Ly,s,t,noconds=True) # Transformada inversa para obtener y\n",
    "y"
   ]
  },
  {
   "cell_type": "code",
   "execution_count": 104,
   "id": "db9804bb",
   "metadata": {},
   "outputs": [
    {
     "data": {
      "image/png": "[encoded data removed]",
      "text/plain": [
       "<Figure size 432x288 with 1 Axes>"
      ]
     },
     "metadata": {
      "needs_background": "light"
     },
     "output_type": "display_data"
    },
    {
     "data": {
      "text/plain": [
       "<sympy.plotting.plot.Plot at 0x1dfe6aabd00>"
      ]
     },
     "execution_count": 104,
     "metadata": {},
     "output_type": "execute_result"
    }
   ],
   "source": [
    "sp.plot(y, xlim=(0,15))"
   ]
  }
 ],
 "metadata": {
  "kernelspec": {
   "display_name": "Python 3 (ipykernel)",
   "language": "python",
   "name": "python3"
  },
  "language_info": {
   "codemirror_mode": {
    "name": "ipython",
    "version": 3
   },
   "file_extension": ".py",
   "mimetype": "text/x-python",
   "name": "python",
   "nbconvert_exporter": "python",
   "pygments_lexer": "ipython3",
   "version": "3.9.7"
  }
 },
 "nbformat": 4,
 "nbformat_minor": 5
}
