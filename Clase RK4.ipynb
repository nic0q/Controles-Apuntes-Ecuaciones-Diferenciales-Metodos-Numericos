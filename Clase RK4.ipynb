{
 "cells": [
  {
   "cell_type": "code",
   "execution_count": 2,
   "metadata": {},
   "outputs": [],
   "source": [
    "from matplotlib import pyplot as plt\n",
    "import numpy as np"
   ]
  },
  {
   "cell_type": "markdown",
   "metadata": {},
   "source": [
    "## Método de Euler Mejorado o método de Heun o RK2\n",
    "\n",
    "Corresponde a modificación del método de Euler y se consigue integrando la ecuación diferencial\n",
    "$y'=f(x,y)$ entre $x_i$ y $x_{i+1}$:\n",
    "\n",
    "$$  \\int_{x_i}^{x_{i+1}} y'(x) dx = \\int_{x_i}^{x_{i+1}} f(x,y(x)) dx $$\n",
    "\n",
    "donde la integral de la izquierda se puede integrar directamente y la de la derecha aproximar mediante la regla del trapecio\n",
    "\n",
    "$$ y(x_{i+1})-y(x_{i}) = \\frac{h}{2} \\left[ f(x_i , y(x_i)) + f(x_{i+1}, y(x_{i+1})) \\right] $$\n",
    "\n",
    "Despejando \n",
    "\n",
    "$$ y(x_{i+1}) = y(x_{i})+\\frac{h}{2} \\left[ f(x_i , y(x_i)) + f(x_{i+1}, y(x_{i+1})) \\right] $$\n",
    "\n",
    "es decir,\n",
    "\n",
    "$$ y_{i+1} = y_i+\\frac{h}{2} \\left[ f(x_i , y_i) + f(x_{i+1}, y_i +h f(x_i,y_i)) \\right] $$\n",
    "\n"
   ]
  },
  {
   "cell_type": "markdown",
   "metadata": {},
   "source": [
    "## Algoritmo\n",
    "\n",
    "Para el problema \n",
    "$$ y'=f(x,y) \\quad ; \\quad y(x_0)=y_0 $$\n",
    "\n",
    "el algoritmo asociado al método de Euler está dado por:\n",
    "    \n",
    "Para $i=0,1, ... , n-1$ realizar <br>\n",
    "*    $ x_i = x_0+ih $ <br>\n",
    "*    $y_{i+1}^*= y_i +h f(x_i , y_i) $ <br>\n",
    "*    $y_{i+1} = y_i + \\dfrac{h}{2} \\left[ f(x_i , y_i) + f(x_{i+1}, y_{i+1}^*) \\right] $ <br>\n",
    "\n",
    "Fin"
   ]
  },
  {
   "cell_type": "markdown",
   "metadata": {},
   "source": [
    "## Ejercicio:\n",
    "\n",
    "* a)  Elabore una función en Python que permita encontrar una aproximación de $y(x_n)$ utilizando el método de Euler mejorado, para el problema de valores iniciales general\n",
    "\n",
    "$$ y'(x)=f(x,y) \\quad , \\quad y(x_0)=y_0$$\n",
    "\n",
    "dados los datos de entrada $f(x,y), x_0, x_n, y_0, n$ (o $h$ en su defecto)\n",
    "\n",
    "* b) Utilice el método de Euler mejorado para el problema de valores iniciales:\n",
    "\n",
    "$$ y' = 0,2xy \\quad ; \\quad y(0) = 1$$\n",
    "\n",
    "en el intervalo $[0, 4]$ usando h = 1, para aproximar $y(4)$.\n",
    "\n",
    "* c) La solución explícita al PVI está dada por $y=e^{0,1x^2}$ (verifíquelo en otra ocasión). En un mismo gráfico grafique la solución real, junto con las aproximaciones encontradas con este método. A partir de los resultados del gráfico, determine si la aproximación encontrada es una buena aproximación. \n",
    "\n",
    "* d) Calcule el error cometido y compruebe si la respuesta dada en el item anterior es aceptable."
   ]
  },
  {
   "cell_type": "code",
   "execution_count": 87,
   "metadata": {},
   "outputs": [],
   "source": [
    "def metodo_euler(f, x0, xn, y0, n): \n",
    "    X = np.linspace(x0,xn,n+1)     \n",
    "    Y = np.linspace(x0,xn,n+1)                 \n",
    "    Y[0] = y0      \n",
    "    h = (xn-x0)/n  \n",
    "    for i in range(n):\n",
    "        Y[i+1] = Y[i] + f(X[i],Y[i])*h\n",
    "        print(X[i+1],Y[i+1])   \n",
    "    ret = dict()\n",
    "    ret['x'] = X\n",
    "    ret['y'] = Y\n",
    "    return ret    "
   ]
  },
  {
   "cell_type": "code",
   "execution_count": 3,
   "metadata": {},
   "outputs": [],
   "source": [
    "# h = (xn-x0)/n\n",
    "def RK2(f, x0, xn, y0, n): # Funcion, x0, xn, y0, n\n",
    "    X = np.linspace(x0,xn,n+1)         \n",
    "    Y = np.linspace(x0,xn,n+1)                 \n",
    "    Y[0] = y0      \n",
    "    h = (xn-x0)/n\n",
    "    for i in range(n):\n",
    "        Y[i+1] = Y[i] + (h/2)*(f(X[i],Y[i])+f(X[i+1],Y[i]+h*f(X[i],Y[i])))   \n",
    "        print((Y[i+1]))"
   ]
  },
  {
   "cell_type": "code",
   "execution_count": 92,
   "metadata": {},
   "outputs": [
    {
     "data": {
      "text/plain": [
       "{'x': array([0., 1., 2., 3., 4.]),\n",
       " 'y': array([1.       , 1.1      , 1.474    , 2.38788  , 4.6324872])}"
      ]
     },
     "execution_count": 92,
     "metadata": {},
     "output_type": "execute_result"
    }
   ],
   "source": [
    "def f_1(x,y): return 0.2*x*y\n",
    "RK2(f=f_1,x0=0,xn=4,y0=1,n=4)"
   ]
  },
  {
   "cell_type": "code",
   "execution_count": 5,
   "metadata": {
    "scrolled": true
   },
   "outputs": [
    {
     "data": {
      "text/plain": [
       "<matplotlib.legend.Legend at 0x1fc382fab50>"
      ]
     },
     "execution_count": 5,
     "metadata": {},
     "output_type": "execute_result"
    },
    {
     "data": {
      "image/png": "[encoded data removed]",
      "text/plain": [
       "<Figure size 432x288 with 1 Axes>"
      ]
     },
     "metadata": {
      "needs_background": "light"
     },
     "output_type": "display_data"
    }
   ],
   "source": [
    "## Modificacion:\n",
    "def RK2(f, x0, xn, y0, n): \n",
    "    X = np.linspace(x0,xn,n+1)         \n",
    "    Y = np.linspace(x0,xn,n+1)                 \n",
    "    Y[0] = y0      \n",
    "    h = (xn-x0)/n      \n",
    "    for i in range(n):\n",
    "        Y[i+1] = Y[i] + (h/2)*(f(X[i],Y[i])+f(X[i+1],Y[i]+h*f(X[i],Y[i])))   \n",
    "        #print(X[i+1],Y[i+1])\n",
    "    ret = dict()\n",
    "    ret['x'] = X\n",
    "    ret['y'] = Y\n",
    "    return ret\n",
    "def f_1(x,y): return 0.2*x*y\n",
    "def f(x): return np.exp(0.1*x**2)\n",
    "solve = RK2(f_1, 0, 4, 1,4)\n",
    "X = solve['x']\n",
    "Y = solve['y'] \n",
    "x = np.linspace(0,4,100)\n",
    "plt.plot(X, Y,linewidth=3, linestyle='-.', color=(0, 0.5 ,0.5), label='método euler')\n",
    "plt.plot(x, f(x),linewidth=1, linestyle='-', color=(0.4, 0.5 ,0.5), label='solución')\n",
    "plt.grid()\n",
    "plt.legend()"
   ]
  },
  {
   "cell_type": "code",
   "execution_count": 6,
   "metadata": {},
   "outputs": [
    {
     "data": {
      "text/plain": [
       "0.32054522439511324"
      ]
     },
     "execution_count": 6,
     "metadata": {},
     "output_type": "execute_result"
    }
   ],
   "source": [
    "Error = np.abs( np.exp(0.1*4**2) - Y[-1])\n",
    "Error"
   ]
  },
  {
   "cell_type": "markdown",
   "metadata": {},
   "source": [
    "## Método de Runge Kutta de orden 4 (RK4)\n",
    "\n",
    "\n",
    "Para el problema \n",
    "$$ y'=f(x,y) \\quad ; \\quad y(x_0)=y_0 $$\n",
    "\n",
    "el algoritmo asociado al método RK4 está dado por:\n",
    "    \n",
    "Para $i=0,1, ... , n-1$ realizar <br>\n",
    "\n",
    "*    $ x_i = x_0+ih $ <br>\n",
    "\n",
    "*    $ K_1 = f(x_i,y_i) $ <br>\n",
    "\n",
    "*    $ K_2 = f\\left( x_i + \\dfrac{h}{2} , y_i + \\dfrac{h}{2} K_1 \\right) $ <br>\n",
    "\n",
    "*    $ K_3 = f\\left( x_i + \\dfrac{h}{2} , y_i + \\dfrac{h}{2} K_2 \\right) $ <br>\n",
    "\n",
    "*    $ K_4 = f\\left( x_i + h , y_i + h K_3 \\right) $ <br>\n",
    "\n",
    "*    $y_{i+1} = y_i + \\dfrac{h}{6} \\left[ K_1 + 2K_2 + 2K_3 + K_4 \\right] $ <br>\n",
    "\n",
    "Fin"
   ]
  },
  {
   "cell_type": "markdown",
   "metadata": {},
   "source": [
    "## Ejercicio:\n",
    "\n",
    "* a)  Elabore una función en Python que permita encontrar una aproximación de $y(x_n)$ utilizando el método de RK4 para el problema de valores iniciales general\n",
    "\n",
    "$$ y'(x)=f(x,y) \\quad , \\quad y(x_0)=y_0$$\n",
    "\n",
    "dados los datos de entrada $f(x,y), x_0, x_n, y_0, n$ (o $h$ en su defecto)\n",
    "\n",
    "* b) Utilice el método de Euler mejorado para el problema de valores iniciales:\n",
    "\n",
    "$$ y' = 0,2xy \\quad ; \\quad y(0) = 1$$\n",
    "\n",
    "en el intervalo $[0, 4]$ usando h = 1, para aproximar $y(4)$.\n",
    "\n",
    "* c) La solución explícita al PVI está dada por $y=e^{0,1x^2}$ (verifíquelo en otra ocasión). En un mismo gráfico grafique la solución real, junto con las aproximaciones encontradas con este método. A partir de los resultados del gráfico, determine si la aproximación encontrada es una buena aproximación. \n",
    "\n",
    "* d) Calcule el error cometido y compruebe si la respuesta dada en el item anterior es aceptable."
   ]
  },
  {
   "cell_type": "code",
   "execution_count": 11,
   "metadata": {},
   "outputs": [],
   "source": [
    "def RK4(f, x0, xn, y0, n):\n",
    "    X = np.linspace(x0,xn,n+1)\n",
    "    Y = np.linspace(x0,xn,n+1)                 \n",
    "    Y[0] = y0        \n",
    "    h = (xn-x0)/n     \n",
    "    for i in range(n):\n",
    "        K1=f(X[i],Y[i]) \n",
    "        K2=f(X[i]+h/2,Y[i]+(h/2)*K1) \n",
    "        K3=f(X[i]+h/2,Y[i]+(h/2)*K2) \n",
    "        K4=f(X[i]+h,Y[i]+h*K3)\n",
    "        Y[i+1] = Y[i] +(h/6)*(K1+2*K2+2*K3+K4)\n",
    "        #print(X[i+1],Y[i+1])\n",
    "    coord = dict()\n",
    "    coord['x'] = X\n",
    "    coord['y'] = Y \n",
    "    return coord"
   ]
  },
  {
   "cell_type": "code",
   "execution_count": 93,
   "metadata": {},
   "outputs": [
    {
     "name": "stdout",
     "output_type": "stream",
     "text": [
      "==== Método de Euler Mejorado ====\n",
      "==== Método RK4 ====\n"
     ]
    },
    {
     "data": {
      "text/plain": [
       "<matplotlib.legend.Legend at 0x1fc3b883d90>"
      ]
     },
     "execution_count": 93,
     "metadata": {},
     "output_type": "execute_result"
    },
    {
     "data": {
      "image/png": "[encoded data removed]",
      "text/plain": [
       "<Figure size 432x288 with 1 Axes>"
      ]
     },
     "metadata": {
      "needs_background": "light"
     },
     "output_type": "display_data"
    }
   ],
   "source": [
    "def f_1(x,y): return 0.2*x*y\n",
    "print('==== Método de Euler Mejorado ====')\n",
    "solve1 = RK2(f_1, 0, 4, 1,4)\n",
    "X1 = solve1['x']\n",
    "Y1= solve1['y'] \n",
    "print('==== Método RK4 ====')\n",
    "solve2 = RK4(f_1, 0, 4, 1,4)\n",
    "X2 = solve2['x']\n",
    "Y2 = solve2['y'] \n",
    "x=np.arange(0,4.1,0.1)\n",
    "y= np.exp(0.1*x**2)\n",
    "plt.plot(X1, Y1,linewidth=3, linestyle='-.', color=(0, 0.5 ,0.5), label='método RK2')\n",
    "plt.plot(X2, Y2,linewidth=3, linestyle=':', color=(0.4, 0.9 ,0.5), label='método RK4')\n",
    "plt.plot(x, y,linewidth=1, linestyle='-', color=(0.4, 0.5 ,0.5), label='solución')\n",
    "plt.grid()\n",
    "plt.legend()"
   ]
  },
  {
   "cell_type": "code",
   "execution_count": 94,
   "metadata": {},
   "outputs": [
    {
     "data": {
      "text/plain": [
       "0.32054522439511324"
      ]
     },
     "execution_count": 94,
     "metadata": {},
     "output_type": "execute_result"
    }
   ],
   "source": [
    "y = 4\n",
    "Error_Euler_mejorado = np.abs(np.exp(0.1*y**2) - Y1[-1])\n",
    "Error_Euler_mejorado "
   ]
  },
  {
   "cell_type": "code",
   "execution_count": 95,
   "metadata": {},
   "outputs": [
    {
     "data": {
      "text/plain": [
       "0.00579191774961707"
      ]
     },
     "execution_count": 95,
     "metadata": {},
     "output_type": "execute_result"
    }
   ],
   "source": [
    "y = 4\n",
    "Error_RK4 = np.abs(np.exp(0.1*y**2) - Y2[-1])\n",
    "Error_RK4"
   ]
  },
  {
   "cell_type": "markdown",
   "metadata": {},
   "source": [
    "## Ejercicios adicionales\n",
    "\n",
    "a) Utilice los métodos de Euler,  Euler mejorado y Runge Kutta para aproximar $y(0,5)$, donde $y(x)$ es la solución del PVI\n",
    "\n",
    "$$ y' = 2xy^2 \\quad ; \\quad y(0) = 1.$$\n",
    "\n",
    "Para ello utilice:\n",
    "    * $h = 0,25$ \n",
    "    * $h= 0,1 $\n",
    "    \n",
    "b) Encuentre la solución explícita al PVI.\n",
    "\n",
    "c) Grafique en un mismo plano, la solución explícita y cada una de las aproximaciones encontradas. Establezca a partir de éste, cuál de las tres aproximaciones es mejor.\n",
    "\n",
    "d) Identifique, a partir del gráfico, cuál de los tres métodos tiene un error global más grande.\n",
    "\n",
    "e) Calcule el error absoluto en cada método y concluya en base a estos resultados cuál es la mejor aproximación.\n",
    "\n",
    "f) Repita el proceso (a)-(e) con los PVI\n",
    "\n",
    "   * $ y' = 1+(x-y)^2 \\quad ; \\quad y(2)=1 $\n",
    "   * $ y' - \\dfrac{y}{x} = 1 \\quad ; \\quad y(1)=2 $"
   ]
  },
  {
   "cell_type": "code",
   "execution_count": 82,
   "metadata": {},
   "outputs": [
    {
     "name": "stdout",
     "output_type": "stream",
     "text": [
      "==== Método de Euler Mejorado con h = 0.25 ====\n",
      "==== Método RK4 ====\n",
      "==== Método de Euler Mejorado con h = 0.1 ====\n",
      "==== Método RK4 ====\n"
     ]
    }
   ],
   "source": [
    "def f_1(x,y): return 2*x*(y**2)\n",
    "print('==== Método de Euler Mejorado con h = 0.25 ====') # 0.25 = 0.5-0/n\n",
    "solve1 = RK2(f_1, 0, 0.5, 1,2) \n",
    "X1 = solve1['x']\n",
    "Y1 = solve1['y'] \n",
    "# sol Y1[-1]\n",
    "print('==== Método RK4 ====')\n",
    "solve2 = RK4(f_1, 0, 0.5, 1,2)\n",
    "X2 = solve2['x']\n",
    "Y2 = solve2['y']\n",
    "# sol Y2[-1]\n",
    "print('==== Método de Euler Mejorado con h = 0.1 ====') # 0.1 = 0.5-0/n\n",
    "solve1 = RK2(f_1, 0, 0.5, 1,5) \n",
    "X1 = solve1['x']\n",
    "Y1 = solve1['y'] \n",
    "# sol Y1[-1]\n",
    "print('==== Método RK4 ====')\n",
    "solve2 = RK4(f_1, 0, 0.5, 1,5)\n",
    "X2 = solve2['x']\n",
    "Y2 = solve2['y']\n",
    "# sol Y2[-1]"
   ]
  },
  {
   "cell_type": "code",
   "execution_count": null,
   "metadata": {},
   "outputs": [],
   "source": [
    "# Se calcula la solución del PVI\n",
    "# y = 1/1-x**2 R-[-1;1]"
   ]
  },
  {
   "cell_type": "code",
   "execution_count": 84,
   "metadata": {},
   "outputs": [
    {
     "data": {
      "text/plain": [
       "<matplotlib.legend.Legend at 0x1fc3b788bb0>"
      ]
     },
     "execution_count": 84,
     "metadata": {},
     "output_type": "execute_result"
    },
    {
     "data": {
      "image/png": "[encoded data removed]",
      "text/plain": [
       "<Figure size 432x288 with 1 Axes>"
      ]
     },
     "metadata": {
      "needs_background": "light"
     },
     "output_type": "display_data"
    }
   ],
   "source": [
    "# SE grafica\n",
    "x=np.arange(0,0.6,0.1)\n",
    "y=1/(1-(x**2)) # Solucion explicita PVI E R-[-1;1]\n",
    "plt.plot(X1, Y1,linewidth=3, linestyle='-.', color=(0, 0.5 ,0.5), label='método euler' )\n",
    "plt.plot(X2, Y2,linewidth=3, linestyle=':', color=(0.4, 0.9 ,0.5), label='método runge' )\n",
    "plt.plot(x, y,linewidth=1, linestyle='-', color=(0.4, 0.2 ,0.5), label='solución' )\n",
    "# plt.axis([0.4,0.42,1.20,1.22]) # Zoom a la imagen\n",
    "plt.grid()\n",
    "plt.legend()"
   ]
  },
  {
   "cell_type": "code",
   "execution_count": 81,
   "metadata": {},
   "outputs": [],
   "source": [
    "# Del gráfico no es posible identifricar cuál error global es más pequeño,\n",
    "# es necesario hacer un analisis del error. Para ello basta hacer (por ejemplo)\n",
    "# una modificación de los códigos de cada método:"
   ]
  },
  {
   "cell_type": "code",
   "execution_count": 62,
   "metadata": {},
   "outputs": [
    {
     "data": {
      "text/plain": [
       "0.01919107635815931"
      ]
     },
     "execution_count": 62,
     "metadata": {},
     "output_type": "execute_result"
    }
   ],
   "source": [
    "x = 0.5 # x a aproximar\n",
    "Error_Euler_mejorado = np.abs(1/(1-(x**2)) - Y1[-1])\n",
    "Error_Euler_mejorado  "
   ]
  },
  {
   "cell_type": "code",
   "execution_count": 63,
   "metadata": {},
   "outputs": [
    {
     "data": {
      "text/plain": [
       "3.514568049345357e-05"
      ]
     },
     "execution_count": 63,
     "metadata": {},
     "output_type": "execute_result"
    }
   ],
   "source": [
    "Error_RK4 = np.abs( 1/(1-(x**2))  - Y2[-1])\n",
    "Error_RK4"
   ]
  },
  {
   "cell_type": "code",
   "execution_count": 76,
   "metadata": {},
   "outputs": [],
   "source": [
    "# Como se puede apreciar la aproximacion de y(-0.5), viendo la grafica y calculando el erro absoluto \n",
    "# el error más pequeño cometido corresponde al metode Runge Kutta de Orden 4, por lo tanto se obtiene \n",
    "# una aproximación bastante cercana al valor real"
   ]
  },
  {
   "cell_type": "code",
   "execution_count": null,
   "metadata": {},
   "outputs": [],
   "source": []
  },
  {
   "cell_type": "code",
   "execution_count": null,
   "metadata": {},
   "outputs": [],
   "source": []
  }
 ],
 "metadata": {
  "kernelspec": {
   "display_name": "Python 3 (ipykernel)",
   "language": "python",
   "name": "python3"
  },
  "language_info": {
   "codemirror_mode": {
    "name": "ipython",
    "version": 3
   },
   "file_extension": ".py",
   "mimetype": "text/x-python",
   "name": "python",
   "nbconvert_exporter": "python",
   "pygments_lexer": "ipython3",
   "version": "3.9.7"
  }
 },
 "nbformat": 4,
 "nbformat_minor": 4
}
