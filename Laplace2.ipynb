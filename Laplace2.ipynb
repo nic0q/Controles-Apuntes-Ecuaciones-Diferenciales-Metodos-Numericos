{
 "cells": [
  {
   "cell_type": "code",
   "execution_count": 3,
   "metadata": {},
   "outputs": [],
   "source": [
    "import matplotlib.pyplot as plt\n",
    "import sympy as sp"
   ]
  },
  {
   "cell_type": "code",
   "execution_count": 4,
   "metadata": {},
   "outputs": [
    {
     "data": {
      "text/latex": [
       "$\\displaystyle \\delta\\left(t\\right)$"
      ],
      "text/plain": [
       "DiracDelta(t)"
      ]
     },
     "execution_count": 4,
     "metadata": {},
     "output_type": "execute_result"
    }
   ],
   "source": [
    "# Definir Symbols\n",
    "t,s =sp.symbols('t,s')\n",
    "A =sp.Symbol('A')\n",
    "# Definir la funcion\n",
    "f = 1\n",
    "# Laplace\n",
    "sp.laplace_transform(f,t,s,noconds=True)\n",
    "# Inversa de Laplace\n",
    "sp.inverse_laplace_transform(f,s,t,noconds=True)"
   ]
  },
  {
   "cell_type": "markdown",
   "metadata": {},
   "source": [
    "# Ejercicio 1\n",
    "\n",
    "Suponga que la transformada de Laplace de la solución de una EDO está dada por\n",
    "\n",
    "$ \\mathcal{L}\\left\\lbrace x (t) \\right\\rbrace (s) = \\dfrac{(s-1)(s+1)(s-2)(s+2)(s-3)(s+3)}{s^2(s+1)^2(s^2-1)^2} $\n",
    "\n",
    "encuentre la solución $x(t)$."
   ]
  },
  {
   "cell_type": "code",
   "execution_count": 21,
   "metadata": {},
   "outputs": [
    {
     "data": {
      "text/latex": [
       "$\\displaystyle 13 \\mathcal{L}^{-1}_{s}\\left[\\left(s + 1\\right)^{3} \\left(s^{2} - 1\\right)^{2}\\right]\\left(t\\right) - 36 \\mathcal{L}^{-1}_{s}\\left[\\frac{\\left(s + 1\\right)^{3} \\left(s^{2} - 1\\right)^{2}}{s^{2}}\\right]\\left(t\\right) + 36 \\mathcal{L}^{-1}_{s}\\left[\\frac{\\left(s + 1\\right)^{3} \\left(s^{2} - 1\\right)^{2}}{s}\\right]\\left(t\\right) - 13 \\mathcal{L}^{-1}_{s}\\left[s \\left(s + 1\\right)^{3} \\left(s^{2} - 1\\right)^{2}\\right]\\left(t\\right) - \\mathcal{L}^{-1}_{s}\\left[s^{2} \\left(s + 1\\right)^{3} \\left(s^{2} - 1\\right)^{2}\\right]\\left(t\\right) + \\mathcal{L}^{-1}_{s}\\left[s^{3} \\left(s + 1\\right)^{3} \\left(s^{2} - 1\\right)^{2}\\right]\\left(t\\right)$"
      ],
      "text/plain": [
       "13*InverseLaplaceTransform((s + 1)**3*(s**2 - 1)**2, s, t, _None) - 36*InverseLaplaceTransform((s + 1)**3*(s**2 - 1)**2/s**2, s, t, _None) + 36*InverseLaplaceTransform((s + 1)**3*(s**2 - 1)**2/s, s, t, _None) - 13*InverseLaplaceTransform(s*(s + 1)**3*(s**2 - 1)**2, s, t, _None) - InverseLaplaceTransform(s**2*(s + 1)**3*(s**2 - 1)**2, s, t, _None) + InverseLaplaceTransform(s**3*(s + 1)**3*(s**2 - 1)**2, s, t, _None)"
      ]
     },
     "execution_count": 21,
     "metadata": {},
     "output_type": "execute_result"
    }
   ],
   "source": [
    "f = ((s-1)*(s+1)*(s-2)*(s+2)*(s-3)*(s+3))/(s**2)*((s+1)**2)*(s**2-1)**2\n",
    "sp.inverse_laplace_transform(f,s,t,noconds=True)"
   ]
  },
  {
   "cell_type": "markdown",
   "metadata": {},
   "source": [
    "# Ejercicio 2\n",
    "\n",
    "La función definida formalmente como\n",
    "\n",
    "$ \\delta(t-a) = \\left\\lbrace\n",
    "\\begin{matrix}\n",
    "0 & \\textrm{si} & t\\neq a \\\\\n",
    "& &\\\\\n",
    "\\infty &  \\textrm{si} & t = a \n",
    "\\end{matrix}\n",
    "\\right.$\n",
    "\n",
    "se denomina delta de Dirac o impulso unitario.\n",
    "\n",
    "Para utilizar dicha función utilizamos el comando sp.DiracDelta.\n",
    "\n",
    "Calcular la transformada de Laplace de $\\delta(t)$ y $\\delta(t-A)$, para $A \\in \\mathbb{R}$"
   ]
  },
  {
   "cell_type": "code",
   "execution_count": 22,
   "metadata": {},
   "outputs": [
    {
     "data": {
      "text/latex": [
       "$\\displaystyle \\mathcal{L}_{s}\\left[1\\right]\\left(t\\right) \\delta\\left(- A + t\\right)$"
      ],
      "text/plain": [
       "LaplaceTransform(1, s, t)*DiracDelta(-A + t)"
      ]
     },
     "execution_count": 22,
     "metadata": {},
     "output_type": "execute_result"
    }
   ],
   "source": [
    "A = sp.Symbol('A') # Simbolo A\n",
    "f = sp.DiracDelta(t) # delta(t)\n",
    "g = sp.DiracDelta(t-A) # delta(t-A)\n",
    "sp.laplace_transform(f,s,t,noconds=True) # Transformada de delta(t)\n",
    "sp.laplace_transform(g,s,t,noconds=True) # Transformada de delta(t-A)"
   ]
  },
  {
   "cell_type": "markdown",
   "metadata": {},
   "source": [
    "# Ejercicio 3\n",
    "\n",
    "calcule\n",
    "$ \\mathcal{L} \\left\\lbrace f(t)  \\delta(t-A) \\right\\rbrace (s)  $\n",
    "\n",
    "para \n",
    "* $f(t)=t$\n",
    "* $f(t)=t^2$\n",
    "* $f(t)=t^3$\n",
    "* $ f(t) = \\sin (kt) ; k\\in \\mathbb{R}$\n",
    "* $ f(t) = \\cos (kt) ; k\\in \\mathbb{R}$\n",
    "\n",
    "A partir de sus resultados, establezca una una fórmula general para\n",
    "$ \\mathcal{L} \\left\\lbrace f(t)  \\delta(t-A) \\right\\rbrace (s)$\n",
    "con $f$ arbitrario."
   ]
  },
  {
   "cell_type": "code",
   "execution_count": 23,
   "metadata": {},
   "outputs": [
    {
     "data": {
      "text/latex": [
       "$\\displaystyle t \\mathcal{L}_{s}\\left[1\\right]\\left(t\\right) \\delta\\left(- A + t\\right)$"
      ],
      "text/plain": [
       "t*LaplaceTransform(1, s, t)*DiracDelta(-A + t)"
      ]
     },
     "execution_count": 23,
     "metadata": {},
     "output_type": "execute_result"
    }
   ],
   "source": [
    "f = t * sp.DiracDelta(t-A)\n",
    "sp.laplace_transform(f,s,t,noconds=True)"
   ]
  },
  {
   "cell_type": "code",
   "execution_count": 24,
   "metadata": {},
   "outputs": [
    {
     "data": {
      "text/latex": [
       "$\\displaystyle t^{2} \\mathcal{L}_{s}\\left[1\\right]\\left(t\\right) \\delta\\left(- A + t\\right)$"
      ],
      "text/plain": [
       "t**2*LaplaceTransform(1, s, t)*DiracDelta(-A + t)"
      ]
     },
     "execution_count": 24,
     "metadata": {},
     "output_type": "execute_result"
    }
   ],
   "source": [
    "f = t**2 * sp.DiracDelta(t-A)\n",
    "sp.laplace_transform(f,s,t,noconds=True)"
   ]
  },
  {
   "cell_type": "code",
   "execution_count": 25,
   "metadata": {},
   "outputs": [
    {
     "data": {
      "text/latex": [
       "$\\displaystyle t^{3} \\mathcal{L}_{s}\\left[1\\right]\\left(t\\right) \\delta\\left(- A + t\\right)$"
      ],
      "text/plain": [
       "t**3*LaplaceTransform(1, s, t)*DiracDelta(-A + t)"
      ]
     },
     "execution_count": 25,
     "metadata": {},
     "output_type": "execute_result"
    }
   ],
   "source": [
    "f = t**3 * sp.DiracDelta(t-A)\n",
    "sp.laplace_transform(f,s,t,noconds=True)"
   ]
  },
  {
   "cell_type": "code",
   "execution_count": 26,
   "metadata": {},
   "outputs": [
    {
     "data": {
      "text/latex": [
       "$\\displaystyle \\mathcal{L}_{s}\\left[1\\right]\\left(t\\right) \\sin{\\left(3 t \\right)} \\delta\\left(- A + t\\right)$"
      ],
      "text/plain": [
       "LaplaceTransform(1, s, t)*sin(3*t)*DiracDelta(-A + t)"
      ]
     },
     "execution_count": 26,
     "metadata": {},
     "output_type": "execute_result"
    }
   ],
   "source": [
    "f = sp.sin(3*t) * sp.DiracDelta(t-A)\n",
    "sp.laplace_transform(f,s,t,noconds=True)"
   ]
  },
  {
   "cell_type": "code",
   "execution_count": 27,
   "metadata": {},
   "outputs": [
    {
     "data": {
      "text/latex": [
       "$\\displaystyle \\mathcal{L}_{s}\\left[1\\right]\\left(t\\right) \\cos{\\left(3 t \\right)} \\delta\\left(- A + t\\right)$"
      ],
      "text/plain": [
       "LaplaceTransform(1, s, t)*cos(3*t)*DiracDelta(-A + t)"
      ]
     },
     "execution_count": 27,
     "metadata": {},
     "output_type": "execute_result"
    }
   ],
   "source": [
    "f = sp.cos(3*t) * sp.DiracDelta(t-A)\n",
    "sp.laplace_transform(f,s,t,noconds=True)"
   ]
  },
  {
   "cell_type": "markdown",
   "metadata": {},
   "source": [
    "## Ejercicio 4\n",
    "\n",
    "Suponga que tras aplicar transformada de Laplace a un PVI resulta lo siguiente:\n",
    "\n",
    "$  \\mathcal{L} \\left\\lbrace y(t) \\right\\rbrace (s) =   4 - 2 e^{-3s} \\sin(3) $\n",
    "\n",
    "Calcule (sin usar python) $y(t)$. "
   ]
  },
  {
   "cell_type": "code",
   "execution_count": null,
   "metadata": {},
   "outputs": [],
   "source": []
  },
  {
   "cell_type": "markdown",
   "metadata": {},
   "source": [
    "## Ejercicio 5\n",
    "\n",
    "Verifique que su conjetura del ejercicio anterior es correcta calculando \n",
    "$\\mathcal{L}^{-1}\\left\\lbrace  4 - 2 e^{-3s} \\sin(3) \\right\\rbrace (t)$\n",
    "usando Python."
   ]
  },
  {
   "cell_type": "code",
   "execution_count": 28,
   "metadata": {},
   "outputs": [
    {
     "data": {
      "text/latex": [
       "$\\displaystyle 4 \\delta\\left(t\\right) - 2 \\sin{\\left(3 \\right)} \\delta\\left(t - 3\\right)$"
      ],
      "text/plain": [
       "4*DiracDelta(t) - 2*sin(3)*DiracDelta(t - 3)"
      ]
     },
     "execution_count": 28,
     "metadata": {},
     "output_type": "execute_result"
    }
   ],
   "source": [
    "f =  4 - (2*sp.exp(-3*s))*sp.sin(3)\n",
    "sp.inverse_laplace_transform(f,s,t,noconds=True)"
   ]
  },
  {
   "cell_type": "markdown",
   "metadata": {},
   "source": [
    "## Ejercicio 6\n",
    "\n",
    "Resolver el PVI\n",
    "$$ y''' = f(t),  $$\n",
    "con condiciones iniciales $y''(0)=y'(0)=1, y(0)=0$, donde $f$ está definida por\n",
    "\n",
    "$$\n",
    "f(t) = \\left\\lbrace\n",
    "\\begin{matrix}\n",
    "2 & si & t<3 \\\\\n",
    "t & si & 3 \\leq t \\leq 4 \\\\\n",
    "te^{A(t-4)} & si & t>4\n",
    "\\end{matrix}\n",
    "\\right.\n",
    "$$"
   ]
  },
  {
   "cell_type": "code",
   "execution_count": 5,
   "metadata": {},
   "outputs": [
    {
     "data": {
      "image/png": "[encoded data removed]",
      "text/plain": [
       "<Figure size 432x288 with 1 Axes>"
      ]
     },
     "metadata": {
      "needs_background": "light"
     },
     "output_type": "display_data"
    },
    {
     "data": {
      "text/plain": [
       "<sympy.plotting.plot.Plot at 0x1a2ae658eb0>"
      ]
     },
     "execution_count": 5,
     "metadata": {},
     "output_type": "execute_result"
    }
   ],
   "source": [
    "f = 2 + (t-2)*sp.Heaviside(t-3) - (t-(t*sp.exp(2*(t-4))))*sp.Heaviside(t-4) # Función de Heaviside\n",
    "sp.plot(f,xlim=(0,10),ylim=(0,10)) # Graficando"
   ]
  },
  {
   "cell_type": "code",
   "execution_count": 14,
   "metadata": {},
   "outputs": [
    {
     "data": {
      "text/latex": [
       "$\\displaystyle \\frac{4 s e^{- 4 s}}{\\left(s - 2\\right)^{2}} - \\frac{7 e^{- 4 s}}{\\left(s - 2\\right)^{2}} + \\frac{2}{s} + \\frac{e^{- 3 s}}{s} - \\frac{4 e^{- 4 s}}{s} + \\frac{e^{- 3 s}}{s^{2}} - \\frac{e^{- 4 s}}{s^{2}}$"
      ],
      "text/plain": [
       "4*s*exp(-4*s)/(s - 2)**2 - 7*exp(-4*s)/(s - 2)**2 + 2/s + exp(-3*s)/s - 4*exp(-4*s)/s + exp(-3*s)/s**2 - exp(-4*s)/s**2"
      ]
     },
     "execution_count": 14,
     "metadata": {},
     "output_type": "execute_result"
    }
   ],
   "source": [
    "# Transformada de Heaviside\n",
    "transfHev = sp.laplace_transform(f,t,s,noconds=True) # Transformada de laplace de Heaviside\n",
    "transfHev"
   ]
  },
  {
   "cell_type": "code",
   "execution_count": 11,
   "metadata": {},
   "outputs": [
    {
     "data": {
      "text/latex": [
       "$\\displaystyle \\frac{s + \\frac{4 s e^{- 4 s}}{\\left(s - 2\\right)^{2}} + 1 - \\frac{7 e^{- 4 s}}{\\left(s - 2\\right)^{2}} + \\frac{2}{s} + \\frac{e^{- 3 s}}{s} - \\frac{4 e^{- 4 s}}{s} + \\frac{e^{- 3 s}}{s^{2}} - \\frac{e^{- 4 s}}{s^{2}}}{s^{3}}$"
      ],
      "text/plain": [
       "(s + 4*s*exp(-4*s)/(s - 2)**2 + 1 - 7*exp(-4*s)/(s - 2)**2 + 2/s + exp(-3*s)/s - 4*exp(-4*s)/s + exp(-3*s)/s**2 - exp(-4*s)/s**2)/s**3"
      ]
     },
     "execution_count": 11,
     "metadata": {},
     "output_type": "execute_result"
    }
   ],
   "source": [
    "Ly = (s + 1 + transfHev) / s**3\n",
    "Ly"
   ]
  },
  {
   "cell_type": "code",
   "execution_count": 13,
   "metadata": {},
   "outputs": [
    {
     "data": {
      "text/latex": [
       "$\\displaystyle \\frac{\\left(8 t \\left(2 t^{2} + 3 t + 6\\right) e^{8 - 2 t} \\theta\\left(t\\right) + 2 \\left(t^{4} - 8 t^{3} + 18 t^{2} - 27\\right) e^{8 - 2 t} \\theta\\left(t - 3\\right) - \\left(2 t^{4} e^{8 - 2 t} - 150 t^{2} e^{8 - 2 t} + 724 t e^{8 - 2 t} - 6 t - 993 e^{8 - 2 t} + 9\\right) \\theta\\left(t - 4\\right)\\right) e^{2 t - 8}}{48}$"
      ],
      "text/plain": [
       "(8*t*(2*t**2 + 3*t + 6)*exp(8 - 2*t)*Heaviside(t) + 2*(t**4 - 8*t**3 + 18*t**2 - 27)*exp(8 - 2*t)*Heaviside(t - 3) - (2*t**4*exp(8 - 2*t) - 150*t**2*exp(8 - 2*t) + 724*t*exp(8 - 2*t) - 6*t - 993*exp(8 - 2*t) + 9)*Heaviside(t - 4))*exp(2*t - 8)/48"
      ]
     },
     "execution_count": 13,
     "metadata": {},
     "output_type": "execute_result"
    }
   ],
   "source": [
    "y = sp.inverse_laplace_transform(Ly,s,t,noconds=True)\n",
    "y"
   ]
  },
  {
   "cell_type": "markdown",
   "metadata": {},
   "source": [
    "## Ejercicio 7\n",
    "\n",
    "Para calcular derivadas, podemos utilizar el comando sp.diff( funcion , variable respecto a la que se deriva )\n",
    "\n",
    "Por ejemplo, si $f(t)= At^3$, entonces su derivada se puede calcular vía"
   ]
  },
  {
   "cell_type": "code",
   "execution_count": 30,
   "metadata": {},
   "outputs": [
    {
     "data": {
      "text/latex": [
       "$\\displaystyle 2 A t$"
      ],
      "text/plain": [
       "2*A*t"
      ]
     },
     "execution_count": 30,
     "metadata": {},
     "output_type": "execute_result"
    }
   ],
   "source": [
    "A=sp.Symbol('A')\n",
    "sp.diff(A*t**2, t)"
   ]
  },
  {
   "cell_type": "markdown",
   "metadata": {},
   "source": [
    "Más aun, se puede agregar una tercera entrada para indicar el orden de derivación, por ejemplo, si se desea calcular la segunda y tercera derivada de la misma función, utilizamos"
   ]
  },
  {
   "cell_type": "code",
   "execution_count": 31,
   "metadata": {},
   "outputs": [
    {
     "data": {
      "text/latex": [
       "$\\displaystyle 2 A$"
      ],
      "text/plain": [
       "2*A"
      ]
     },
     "execution_count": 31,
     "metadata": {},
     "output_type": "execute_result"
    }
   ],
   "source": [
    "sp.diff(A*t**2,t,2)"
   ]
  },
  {
   "cell_type": "code",
   "execution_count": 32,
   "metadata": {},
   "outputs": [
    {
     "data": {
      "text/latex": [
       "$\\displaystyle 0$"
      ],
      "text/plain": [
       "0"
      ]
     },
     "execution_count": 32,
     "metadata": {},
     "output_type": "execute_result"
    }
   ],
   "source": [
    "sp.diff(A*t**2,t,3)"
   ]
  },
  {
   "cell_type": "markdown",
   "metadata": {},
   "source": [
    "Utilizando el teorema que establece (bajo ciertas condiciones) que \n",
    "\n",
    "$$ \\mathcal{L} \\left\\lbrace t^n f(t) \\right\\rbrace (s) = (-1)^{n} \\frac{d^n}{dt^n} \\mathcal{L} \\left\\lbrace f(t) \\right\\rbrace (s)  $$\n",
    "\n",
    "Calcule la transformada de Laplace de:\n",
    "\n",
    "* $g(t)= t^{21} \\sin(4t)$\n",
    "* $g(t)=t^{7} e^{-2t}\\cos t$\n",
    "* $g(t)=t^{4} e^{-4t}\\cos t \\sin (2t)$\n"
   ]
  },
  {
   "cell_type": "code",
   "execution_count": 33,
   "metadata": {},
   "outputs": [],
   "source": [
    "def derLap(f,n):\n",
    "    trLap = sp.laplace_transform(f,t,s,noconds=True)\n",
    "    return -1**n*sp.diff(trLap,s,n)"
   ]
  },
  {
   "cell_type": "code",
   "execution_count": 34,
   "metadata": {},
   "outputs": [
    {
     "data": {
      "text/latex": [
       "$\\displaystyle \\frac{408727537373675520000 s \\left(\\frac{1048576 s^{20}}{\\left(s^{2} + 16\\right)^{10}} - \\frac{5242880 s^{18}}{\\left(s^{2} + 16\\right)^{9}} + \\frac{11206656 s^{16}}{\\left(s^{2} + 16\\right)^{8}} - \\frac{13369344 s^{14}}{\\left(s^{2} + 16\\right)^{7}} + \\frac{9748480 s^{12}}{\\left(s^{2} + 16\\right)^{6}} - \\frac{4472832 s^{10}}{\\left(s^{2} + 16\\right)^{5}} + \\frac{1281280 s^{8}}{\\left(s^{2} + 16\\right)^{4}} - \\frac{219648 s^{6}}{\\left(s^{2} + 16\\right)^{3}} + \\frac{20592 s^{4}}{\\left(s^{2} + 16\\right)^{2}} - \\frac{880 s^{2}}{s^{2} + 16} + 11\\right)}{\\left(s^{2} + 16\\right)^{12}}$"
      ],
      "text/plain": [
       "408727537373675520000*s*(1048576*s**20/(s**2 + 16)**10 - 5242880*s**18/(s**2 + 16)**9 + 11206656*s**16/(s**2 + 16)**8 - 13369344*s**14/(s**2 + 16)**7 + 9748480*s**12/(s**2 + 16)**6 - 4472832*s**10/(s**2 + 16)**5 + 1281280*s**8/(s**2 + 16)**4 - 219648*s**6/(s**2 + 16)**3 + 20592*s**4/(s**2 + 16)**2 - 880*s**2/(s**2 + 16) + 11)/(s**2 + 16)**12"
      ]
     },
     "execution_count": 34,
     "metadata": {},
     "output_type": "execute_result"
    }
   ],
   "source": [
    "f = sp.sin(4*t)\n",
    "n = 21\n",
    "derLap(f,n)"
   ]
  },
  {
   "cell_type": "code",
   "execution_count": 35,
   "metadata": {},
   "outputs": [
    {
     "data": {
      "text/latex": [
       "$\\displaystyle - \\frac{5040 \\left(\\frac{64 \\left(s + 2\\right)^{6}}{\\left(\\left(s + 2\\right)^{2} + 1\\right)^{3}} - \\frac{80 \\left(s + 2\\right)^{4}}{\\left(\\left(s + 2\\right)^{2} + 1\\right)^{2}} - \\frac{8 \\left(s + 2\\right)^{2} \\left(\\frac{16 \\left(s + 2\\right)^{6}}{\\left(\\left(s + 2\\right)^{2} + 1\\right)^{3}} - \\frac{24 \\left(s + 2\\right)^{4}}{\\left(\\left(s + 2\\right)^{2} + 1\\right)^{2}} + \\frac{10 \\left(s + 2\\right)^{2}}{\\left(s + 2\\right)^{2} + 1} - 1\\right)}{\\left(s + 2\\right)^{2} + 1} + \\frac{24 \\left(s + 2\\right)^{2}}{\\left(s + 2\\right)^{2} + 1} - 1\\right)}{\\left(\\left(s + 2\\right)^{2} + 1\\right)^{4}}$"
      ],
      "text/plain": [
       "-5040*(64*(s + 2)**6/((s + 2)**2 + 1)**3 - 80*(s + 2)**4/((s + 2)**2 + 1)**2 - 8*(s + 2)**2*(16*(s + 2)**6/((s + 2)**2 + 1)**3 - 24*(s + 2)**4/((s + 2)**2 + 1)**2 + 10*(s + 2)**2/((s + 2)**2 + 1) - 1)/((s + 2)**2 + 1) + 24*(s + 2)**2/((s + 2)**2 + 1) - 1)/((s + 2)**2 + 1)**4"
      ]
     },
     "execution_count": 35,
     "metadata": {},
     "output_type": "execute_result"
    }
   ],
   "source": [
    "f = sp.exp(-2*t)*sp.cos(t)\n",
    "n = 7\n",
    "derLap(f,n)"
   ]
  },
  {
   "cell_type": "code",
   "execution_count": 36,
   "metadata": {},
   "outputs": [
    {
     "data": {
      "text/latex": [
       "$\\displaystyle - \\frac{48 \\left(\\frac{8 \\left(s + 4\\right)^{2} \\left(\\frac{2 \\left(s + 4\\right)^{2}}{\\left(s + 4\\right)^{2} + 1} - 1\\right) \\left(\\left(s + 4\\right)^{2} + 3\\right)}{\\left(\\left(s + 4\\right)^{2} + 1\\right)^{2} \\left(\\left(s + 4\\right)^{2} + 9\\right)} - \\frac{8 \\left(s + 4\\right)^{2} \\left(\\frac{2 \\left(s + 4\\right)^{2}}{\\left(s + 4\\right)^{2} + 1} - 1\\right)}{\\left(\\left(s + 4\\right)^{2} + 1\\right)^{2}} - \\frac{4 \\left(s + 4\\right)^{2} \\left(\\frac{4 \\left(s + 4\\right)^{2}}{\\left(s + 4\\right)^{2} + 1} - 1\\right)}{\\left(\\left(s + 4\\right)^{2} + 1\\right) \\left(\\left(s + 4\\right)^{2} + 9\\right)} - \\frac{8 \\left(s + 4\\right)^{2} \\left(\\frac{2 \\left(s + 4\\right)^{2}}{\\left(s + 4\\right)^{2} + 9} - 1\\right)}{\\left(\\left(s + 4\\right)^{2} + 9\\right)^{2}} + \\frac{8 \\left(s + 4\\right)^{2} \\left(\\frac{2 \\left(s + 4\\right)^{2}}{\\left(s + 4\\right)^{2} + 9} - 1\\right) \\left(\\left(s + 4\\right)^{2} + 3\\right)}{\\left(\\left(s + 4\\right)^{2} + 1\\right) \\left(\\left(s + 4\\right)^{2} + 9\\right)^{2}} - \\frac{4 \\left(s + 4\\right)^{2} \\left(\\frac{4 \\left(s + 4\\right)^{2}}{\\left(s + 4\\right)^{2} + 9} - 1\\right)}{\\left(\\left(s + 4\\right)^{2} + 1\\right) \\left(\\left(s + 4\\right)^{2} + 9\\right)} + \\frac{4 \\left(s + 4\\right)^{2}}{\\left(\\left(s + 4\\right)^{2} + 1\\right) \\left(\\left(s + 4\\right)^{2} + 9\\right)} + \\frac{\\left(\\frac{4 \\left(s + 4\\right)^{2}}{\\left(s + 4\\right)^{2} + 1} - 1\\right) \\left(\\frac{4 \\left(s + 4\\right)^{2}}{\\left(s + 4\\right)^{2} + 9} - 1\\right) \\left(\\left(s + 4\\right)^{2} + 3\\right)}{\\left(\\left(s + 4\\right)^{2} + 1\\right) \\left(\\left(s + 4\\right)^{2} + 9\\right)} + \\frac{\\frac{4 \\left(s + 4\\right)^{2}}{\\left(s + 4\\right)^{2} + 1} - 1}{\\left(s + 4\\right)^{2} + 1} + \\frac{\\frac{4 \\left(s + 4\\right)^{2}}{\\left(s + 4\\right)^{2} + 9} - 1}{\\left(s + 4\\right)^{2} + 9} + \\frac{\\left(\\left(s + 4\\right)^{2} + 3\\right) \\left(\\frac{16 \\left(s + 4\\right)^{4}}{\\left(\\left(s + 4\\right)^{2} + 9\\right)^{2}} - \\frac{12 \\left(s + 4\\right)^{2}}{\\left(s + 4\\right)^{2} + 9} + 1\\right)}{\\left(\\left(s + 4\\right)^{2} + 9\\right)^{2}} + \\frac{\\left(\\left(s + 4\\right)^{2} + 3\\right) \\left(\\frac{16 \\left(s + 4\\right)^{4}}{\\left(\\left(s + 4\\right)^{2} + 1\\right)^{2}} - \\frac{12 \\left(s + 4\\right)^{2}}{\\left(s + 4\\right)^{2} + 1} + 1\\right)}{\\left(\\left(s + 4\\right)^{2} + 1\\right)^{2}}\\right)}{\\left(\\left(s + 4\\right)^{2} + 1\\right) \\left(\\left(s + 4\\right)^{2} + 9\\right)}$"
      ],
      "text/plain": [
       "-48*(8*(s + 4)**2*(2*(s + 4)**2/((s + 4)**2 + 1) - 1)*((s + 4)**2 + 3)/(((s + 4)**2 + 1)**2*((s + 4)**2 + 9)) - 8*(s + 4)**2*(2*(s + 4)**2/((s + 4)**2 + 1) - 1)/((s + 4)**2 + 1)**2 - 4*(s + 4)**2*(4*(s + 4)**2/((s + 4)**2 + 1) - 1)/(((s + 4)**2 + 1)*((s + 4)**2 + 9)) - 8*(s + 4)**2*(2*(s + 4)**2/((s + 4)**2 + 9) - 1)/((s + 4)**2 + 9)**2 + 8*(s + 4)**2*(2*(s + 4)**2/((s + 4)**2 + 9) - 1)*((s + 4)**2 + 3)/(((s + 4)**2 + 1)*((s + 4)**2 + 9)**2) - 4*(s + 4)**2*(4*(s + 4)**2/((s + 4)**2 + 9) - 1)/(((s + 4)**2 + 1)*((s + 4)**2 + 9)) + 4*(s + 4)**2/(((s + 4)**2 + 1)*((s + 4)**2 + 9)) + (4*(s + 4)**2/((s + 4)**2 + 1) - 1)*(4*(s + 4)**2/((s + 4)**2 + 9) - 1)*((s + 4)**2 + 3)/(((s + 4)**2 + 1)*((s + 4)**2 + 9)) + (4*(s + 4)**2/((s + 4)**2 + 1) - 1)/((s + 4)**2 + 1) + (4*(s + 4)**2/((s + 4)**2 + 9) - 1)/((s + 4)**2 + 9) + ((s + 4)**2 + 3)*(16*(s + 4)**4/((s + 4)**2 + 9)**2 - 12*(s + 4)**2/((s + 4)**2 + 9) + 1)/((s + 4)**2 + 9)**2 + ((s + 4)**2 + 3)*(16*(s + 4)**4/((s + 4)**2 + 1)**2 - 12*(s + 4)**2/((s + 4)**2 + 1) + 1)/((s + 4)**2 + 1)**2)/(((s + 4)**2 + 1)*((s + 4)**2 + 9))"
      ]
     },
     "execution_count": 36,
     "metadata": {},
     "output_type": "execute_result"
    }
   ],
   "source": [
    "f = sp.exp(-4*t)*sp.cos(t)*sp.sin(2*t)\n",
    "n = 4\n",
    "derLap(f,n)"
   ]
  }
 ],
 "metadata": {
  "kernelspec": {
   "display_name": "Python 3 (ipykernel)",
   "language": "python",
   "name": "python3"
  },
  "language_info": {
   "codemirror_mode": {
    "name": "ipython",
    "version": 3
   },
   "file_extension": ".py",
   "mimetype": "text/x-python",
   "name": "python",
   "nbconvert_exporter": "python",
   "pygments_lexer": "ipython3",
   "version": "3.9.7"
  }
 },
 "nbformat": 4,
 "nbformat_minor": 4
}
