{
 "cells": [
  {
   "cell_type": "code",
   "execution_count": 2,
   "metadata": {},
   "outputs": [],
   "source": [
    "import numpy as np\n",
    "import matplotlib.pyplot as plt"
   ]
  },
  {
   "cell_type": "markdown",
   "metadata": {},
   "source": [
    "# Método de bisección\n",
    "\n",
    "Este método de busqueda por bisección es utilizado para encontrar raíces de una\n",
    "función continua de variable real. La única condición es que la función cambie de\n",
    "signo en el intervalo en que buscamos. La existencia de la raíz de la función está\n",
    "garantizada de acuerdo al teorema de Bolzano:\n",
    "\n",
    "> <b>Teorema de Bolzano </b>: \n",
    "Si $f : [a, b] \\to \\mathbb{R}$, es una función continua en $[a, b]$ y $f(a)f(b) < 0$, entonces\n",
    "existe $x_0 \\in  [a, b]$ tal que $f(x_0) = 0$.\n",
    "\n",
    "El método consiste en bisecar el intervalo $[a, b]$, estudiar los signos de $f$ en los\n",
    "extremos de los nuevos intervalos de manera que podamos afirmar la existencia de\n",
    "una raíz en un intervalo más pequeño como consecuencia del teorema de Bolzano.\n",
    "\n",
    "## Algoritmo\n",
    "\n",
    "Datos de entrada: $a, b,$ función, tolerancia.\n",
    "\n",
    "calcular $x_0 =\\dfrac{a+b}{2}$\n",
    "\n",
    "Para $i = 0,1,2, ...$ \n",
    "\n",
    "* Si $f(a)f(x_i) < 0$, entonces $b = x_i$\n",
    "* Si $f(a)f(x_i) > 0$, entonces $a = x_i$\n",
    "* Si $f(a)f(x_i) = 0$, entonces $x_{i+1} = x_{i}$\n",
    "\n",
    "Hasta que $ |x_{i+1}-x_{i}|< tolerancia $"
   ]
  },
  {
   "cell_type": "code",
   "execution_count": 5,
   "metadata": {},
   "outputs": [],
   "source": [
    "def bisec(a,b,f,tol):\n",
    "    xi = (a + b) / 2\n",
    "    tynxt = 0\n",
    "    while(abs(tynxt-xi)>=tol):\n",
    "        if(f(a)*f(xi) < 0):\n",
    "            b = xi\n",
    "        elif(f(a)*f(xi) > 0):\n",
    "            a = xi \n",
    "        if(f(a)*f(xi) != 0):\n",
    "            tynxt = xi\n",
    "            xi = (a + b) / 2\n",
    "        else:\n",
    "            tynxt = xi\n",
    "    return xi"
   ]
  },
  {
   "cell_type": "markdown",
   "metadata": {},
   "source": [
    "# Ejemplo 1\n",
    "\n",
    "La función $f(x) = 10x^3-2x^2+1-e^{2x} $ tiene una raíz en el intervalo $[-0,5; 1]$. Estimar la raíz utilizando el método de la bisección."
   ]
  },
  {
   "cell_type": "code",
   "execution_count": 11,
   "metadata": {},
   "outputs": [
    {
     "name": "stdout",
     "output_type": "stream",
     "text": [
      "[-0.5,1]-> 0.8179073333740234\n"
     ]
    }
   ],
   "source": [
    "def f(x):return (10*x**3)-(2*x**2)+1-np.exp(2*x)\n",
    "print(\"[-0.5,1]->\",bisec(-0.5,1,f,10e-6))"
   ]
  },
  {
   "cell_type": "markdown",
   "metadata": {},
   "source": [
    "# Ejemplo 2\n",
    "\n",
    "La ecuación $3 \\ln(x) = x$ tiene dos soluciones en los intervalos $[1,5; 2,5]$ y $[4; 5]$.\n",
    "Utilice el método de la bisección (con tolerancia a elección) para estimar las\n",
    "soluciones de la ecuación."
   ]
  },
  {
   "cell_type": "code",
   "execution_count": 12,
   "metadata": {},
   "outputs": [
    {
     "name": "stdout",
     "output_type": "stream",
     "text": [
      "[1.5,2.5]-> 1.8571853637695312 \n",
      "[4,5]-> 4.536399841308594\n"
     ]
    }
   ],
   "source": [
    "def f(x): return 3*np.log(x)-x\n",
    "tol = 10e-6\n",
    "x = bisec(1.5,2.5, f, tol)\n",
    "y = bisec(4,5,f, tol)\n",
    "print(\"[1.5,2.5]->\",x,\"\\n[4,5]->\",y)"
   ]
  },
  {
   "cell_type": "markdown",
   "metadata": {},
   "source": [
    "# Ejemplo 3 (el miserable)\n",
    "\n",
    "La función $h(x) = \\dfrac{1}{1-x} - e^x$ tiene una raíz en el intervalo [-0,5; 1]. Utilice\n",
    "el algoritmo de Python para estimar la raíz (y vea que pasa).\n"
   ]
  },
  {
   "cell_type": "code",
   "execution_count": 52,
   "metadata": {},
   "outputs": [
    {
     "data": {
      "text/plain": [
       "4.27824490301302"
      ]
     },
     "execution_count": 52,
     "metadata": {},
     "output_type": "execute_result"
    }
   ],
   "source": [
    "def f(x):return (1/(1-x))-np.exp(x)\n",
    "bolz = f(-0.4) * f(0.99)\n",
    "tol = 10e-6\n",
    "bisec(-0.5,1,f,tol)\n",
    "bolz # No se cumple el teorema de bolzano al f(a) * f(b) > 0"
   ]
  },
  {
   "cell_type": "markdown",
   "metadata": {},
   "source": [
    "# Ejemplo 4\n",
    "\n",
    "Encontrar utilizando el método de bisección una aproximación de $\\sqrt[3]{7}$."
   ]
  },
  {
   "cell_type": "code",
   "execution_count": 53,
   "metadata": {},
   "outputs": [
    {
     "data": {
      "text/plain": [
       "1.9129257202148438"
      ]
     },
     "execution_count": 53,
     "metadata": {},
     "output_type": "execute_result"
    }
   ],
   "source": [
    "def f(x):return (x**3)-7\n",
    "tol = 10e-6\n",
    "bisec(1,2,f,tol)"
   ]
  },
  {
   "cell_type": "markdown",
   "metadata": {},
   "source": [
    "# Newtwon Raphson\n",
    "\n",
    "Este método es uno de los más populares para encontrar los ceros de una función, pero\n",
    "requiere del conocimiento de su derivada. La regla principal del algoritmo consiste\n",
    "en que, dado un punto $x_k$ cercano a la raíz de $f$, se determina la recta tangente a $f$\n",
    "en $(x_k, f(x_k))$: <br>\n",
    "\n",
    "$$y = f(x_k) + f'(x_k)(x - x_k)$$\n",
    "\n",
    "Luego, se define la iteración siguiente $x_{k+1}$ como el punto de intersección entre esa\n",
    "recta y el eje $x$, es decir, $x_{k+1}$ se obtiene al despejar\n",
    "\n",
    "$$0 = f(x_k) + f(x_k)(x_{k+1} - x_k)$$\n",
    "\n",
    "esto es\n",
    "$$ x_{k+1} = x_k - \\dfrac{f(x_k)}{f'(x_k)}  $$ \n",
    "\n",
    "## Algoritmo\n",
    "\n",
    "Datos de entrada: $x_0, f , tolerancia$\n",
    "\n",
    "Para $k = 0, 1, 2, ... $\n",
    "\n",
    "* calcular $x_{k+1} = x_k - \\dfrac{f(x_k)}{f'(x_k)} $\n",
    "\n",
    "Hasta que $ | x_{k+1} - x_k | < tolerancia $\n",
    "\n",
    "# Ejemplo 5\n",
    "\n",
    "Encontrar una aproximación de las raíces de la función $f(x) = x^4-2$ con una tolerancia de $0,000001$. Graficar la curva asociada al gráfico de $f$ junto con sus iteraciones.\n"
   ]
  },
  {
   "cell_type": "code",
   "execution_count": 7,
   "metadata": {},
   "outputs": [
    {
     "data": {
      "text/plain": [
       "<matplotlib.legend.Legend at 0x21e50012f70>"
      ]
     },
     "execution_count": 7,
     "metadata": {},
     "output_type": "execute_result"
    },
    {
     "data": {
      "image/png": "[encoded data removed]",
      "text/plain": [
       "<Figure size 432x288 with 1 Axes>"
      ]
     },
     "metadata": {
      "needs_background": "light"
     },
     "output_type": "display_data"
    }
   ],
   "source": [
    "\n",
    "def newtonIters(x0,f,df,tol):\n",
    "    X = [4]\n",
    "    xk = X[-1]\n",
    "    while True:\n",
    "        xk = xk - f(xk)/df(xk)\n",
    "        X.append(xk)\n",
    "        if np.abs(X[-1]-X[-2])<tol:\n",
    "            return X\n",
    "def newton(x0,f,df,tol):\n",
    "    x0 = x0 - (f(x0)/df(x0))\n",
    "    nxt = 0\n",
    "    while(abs(x0 - nxt) >= tol):\n",
    "        nxt = x0\n",
    "        x0 = x0 - (f(x0)/df(x0))\n",
    "    return x0\n",
    "def f(x): return (x**4) - 2\n",
    "def df(x): return (4*x**3)\n",
    "tol = 0.000001\n",
    "X = np.array(newtonIters(1,f,df,tol)) # para las iteraciones\n",
    "x = np.linspace(0,4,100) # para la funcion\n",
    "plt.plot(x,f(x),label=\"f\")\n",
    "plt.plot(X,f(X),'o',label=newton(1,f,df,tol))\n",
    "plt.legend()"
   ]
  },
  {
   "cell_type": "markdown",
   "metadata": {},
   "source": [
    "\n",
    "# Ejercicios\n",
    "\n",
    "* Encontrar una aproximación de el (los) punto(s) de intersección de las curvas $y=e^x$ e $y=x^2$, utilizando el método de Newton-Raphson.\n",
    "\n",
    "* Encontrar una aproximación de la raíz de la función $h(x) = e^x + 2$ cercana a $x0 = 2$ con una tolerancia de $0,01.$\n",
    "\n",
    "* Encontrar una aproximación de $\\sqrt{3}$."
   ]
  },
  {
   "cell_type": "code",
   "execution_count": 8,
   "metadata": {},
   "outputs": [
    {
     "data": {
      "text/plain": [
       "-0.7034674224983924"
      ]
     },
     "execution_count": 8,
     "metadata": {},
     "output_type": "execute_result"
    }
   ],
   "source": [
    "def f(x): return np.exp(x) - x**2 # y = e^x - x^2\n",
    "def df(x): return np.exp(x) - 2*x\n",
    "tol = 10e-6\n",
    "newton(0,f,df,tol)"
   ]
  },
  {
   "cell_type": "code",
   "execution_count": 9,
   "metadata": {},
   "outputs": [
    {
     "name": "stdout",
     "output_type": "stream",
     "text": [
      "44056.931589613436 Es mayor que 0, no se cumple el teorema de Bolzano, por lo tanto no hay raices\n"
     ]
    }
   ],
   "source": [
    "def h(x): return np.exp(x) + 2 # h = e^x + 2\n",
    "def dh(x): return np.exp(x)\n",
    "tol = 0.01\n",
    "print(h(-10000)*h(10),\"Es mayor que 0, no se cumple el teorema de Bolzano, por lo tanto no hay raices\")\n",
    "# es natural que te arroje error, pues la función es estrictamente positiva, es decir,\n",
    "# realmente no tiene raíces, por tanto cualquier método visto fallará.\n",
    "# Ese problema está hecho así para notar que antes de implementar cualquier método\n",
    "# es necesario verificar las hipótesis, por ejemplo, verificando si existe alguna raíz \n",
    "# vía teorema de Bolzano."
   ]
  },
  {
   "cell_type": "code",
   "execution_count": 10,
   "metadata": {},
   "outputs": [
    {
     "data": {
      "text/plain": [
       "1.7320508075688772"
      ]
     },
     "execution_count": 10,
     "metadata": {},
     "output_type": "execute_result"
    }
   ],
   "source": [
    "def g(x): return x**2-3\n",
    "def dg(x): return 2*x\n",
    "tol = 10e-6\n",
    "newton(1,g,dg,tol)"
   ]
  }
 ],
 "metadata": {
  "kernelspec": {
   "display_name": "Python 3 (ipykernel)",
   "language": "python",
   "name": "python3"
  },
  "language_info": {
   "codemirror_mode": {
    "name": "ipython",
    "version": 3
   },
   "file_extension": ".py",
   "mimetype": "text/x-python",
   "name": "python",
   "nbconvert_exporter": "python",
   "pygments_lexer": "ipython3",
   "version": "3.9.7"
  }
 },
 "nbformat": 4,
 "nbformat_minor": 4
}
